{
 "cells": [
  {
   "cell_type": "code",
   "execution_count": 1,
   "id": "a7ab5c4a-2be9-4e02-ba8f-68a8f9298be7",
   "metadata": {
    "tags": []
   },
   "outputs": [],
   "source": [
    "# %conda install pymongo"
   ]
  },
  {
   "cell_type": "code",
   "execution_count": 2,
   "id": "333d2852-43cc-46a4-ae3f-58f82c37f7fc",
   "metadata": {
    "tags": []
   },
   "outputs": [],
   "source": [
    "import pymongo as mg\n",
    "import pandas as pd"
   ]
  },
  {
   "cell_type": "code",
   "execution_count": 3,
   "id": "042fed6e-34b7-4613-9f1d-f4c5edeeb59d",
   "metadata": {
    "tags": []
   },
   "outputs": [
    {
     "data": {
      "text/plain": [
       "'3.12.0'"
      ]
     },
     "execution_count": 3,
     "metadata": {},
     "output_type": "execute_result"
    }
   ],
   "source": [
    "mg.__version__"
   ]
  },
  {
   "cell_type": "code",
   "execution_count": 4,
   "id": "e3bfceb6-98dd-4ee1-b681-057569deffe6",
   "metadata": {
    "tags": []
   },
   "outputs": [],
   "source": [
    "client = mg.MongoClient(host='mongodb://localhost:27017')"
   ]
  },
  {
   "cell_type": "code",
   "execution_count": 5,
   "id": "681a5968-39de-41c2-8090-43e16379e16c",
   "metadata": {
    "tags": []
   },
   "outputs": [],
   "source": [
    "database = client['study_data_analytics']"
   ]
  },
  {
   "cell_type": "code",
   "execution_count": 6,
   "id": "6be0caa9-470b-4967-9745-ee261b8eb319",
   "metadata": {
    "tags": []
   },
   "outputs": [],
   "source": [
    "collection = database['collect_update']"
   ]
  },
  {
   "cell_type": "code",
   "execution_count": 10,
   "id": "e5957f04-82e2-476f-acff-5a74033141d1",
   "metadata": {
    "tags": []
   },
   "outputs": [],
   "source": [
    "cursor_date = collection.find({})"
   ]
  },
  {
   "cell_type": "code",
   "execution_count": 11,
   "id": "6fcc9a31-1779-4b63-a2d0-3a7653230078",
   "metadata": {
    "tags": []
   },
   "outputs": [
    {
     "data": {
      "text/html": [
       "<div>\n",
       "<style scoped>\n",
       "    .dataframe tbody tr th:only-of-type {\n",
       "        vertical-align: middle;\n",
       "    }\n",
       "\n",
       "    .dataframe tbody tr th {\n",
       "        vertical-align: top;\n",
       "    }\n",
       "\n",
       "    .dataframe thead th {\n",
       "        text-align: right;\n",
       "    }\n",
       "</style>\n",
       "<table border=\"1\" class=\"dataframe\">\n",
       "  <thead>\n",
       "    <tr style=\"text-align: right;\">\n",
       "      <th></th>\n",
       "      <th>_id</th>\n",
       "      <th>name</th>\n",
       "      <th>age</th>\n",
       "      <th>city</th>\n",
       "    </tr>\n",
       "  </thead>\n",
       "  <tbody>\n",
       "    <tr>\n",
       "      <th>0</th>\n",
       "      <td>650130d83314ff7b56dc5e06</td>\n",
       "      <td>Alice</td>\n",
       "      <td>25</td>\n",
       "      <td>Seoul</td>\n",
       "    </tr>\n",
       "    <tr>\n",
       "      <th>1</th>\n",
       "      <td>650130d83314ff7b56dc5e07</td>\n",
       "      <td>Bob</td>\n",
       "      <td>30</td>\n",
       "      <td>Busan</td>\n",
       "    </tr>\n",
       "  </tbody>\n",
       "</table>\n",
       "</div>"
      ],
      "text/plain": [
       "                        _id   name  age   city\n",
       "0  650130d83314ff7b56dc5e06  Alice   25  Seoul\n",
       "1  650130d83314ff7b56dc5e07    Bob   30  Busan"
      ]
     },
     "execution_count": 11,
     "metadata": {},
     "output_type": "execute_result"
    }
   ],
   "source": [
    "df_collect_update = pd.DataFrame(list(cursor_date))\n",
    "df_collect_update[:2]"
   ]
  },
  {
   "cell_type": "code",
   "execution_count": 13,
   "id": "7ecdf4a4-6512-445d-8b1b-0e8a61a6b08e",
   "metadata": {
    "tags": []
   },
   "outputs": [
    {
     "data": {
      "text/html": [
       "<div>\n",
       "<style scoped>\n",
       "    .dataframe tbody tr th:only-of-type {\n",
       "        vertical-align: middle;\n",
       "    }\n",
       "\n",
       "    .dataframe tbody tr th {\n",
       "        vertical-align: top;\n",
       "    }\n",
       "\n",
       "    .dataframe thead th {\n",
       "        text-align: right;\n",
       "    }\n",
       "</style>\n",
       "<table border=\"1\" class=\"dataframe\">\n",
       "  <thead>\n",
       "    <tr style=\"text-align: right;\">\n",
       "      <th></th>\n",
       "      <th>_id</th>\n",
       "      <th>name</th>\n",
       "      <th>age</th>\n",
       "      <th>city</th>\n",
       "      <th>update</th>\n",
       "    </tr>\n",
       "  </thead>\n",
       "  <tbody>\n",
       "    <tr>\n",
       "      <th>0</th>\n",
       "      <td>650130d83314ff7b56dc5e06</td>\n",
       "      <td>Alice</td>\n",
       "      <td>25</td>\n",
       "      <td>Seoul</td>\n",
       "      <td>2023-09-13 13:04:22.086413</td>\n",
       "    </tr>\n",
       "    <tr>\n",
       "      <th>1</th>\n",
       "      <td>650130d83314ff7b56dc5e07</td>\n",
       "      <td>Bob</td>\n",
       "      <td>30</td>\n",
       "      <td>Busan</td>\n",
       "      <td>2023-09-13 13:04:22.086413</td>\n",
       "    </tr>\n",
       "  </tbody>\n",
       "</table>\n",
       "</div>"
      ],
      "text/plain": [
       "                        _id   name  age   city                     update\n",
       "0  650130d83314ff7b56dc5e06  Alice   25  Seoul 2023-09-13 13:04:22.086413\n",
       "1  650130d83314ff7b56dc5e07    Bob   30  Busan 2023-09-13 13:04:22.086413"
      ]
     },
     "execution_count": 13,
     "metadata": {},
     "output_type": "execute_result"
    }
   ],
   "source": [
    "    from datetime import datetime\n",
    "    df_collect_update['update'] = datetime.now()\n",
    "    df_collect_update[:2]"
   ]
  },
  {
   "cell_type": "code",
   "execution_count": 32,
   "id": "8d0134f8-b9e5-4ca2-ad2e-97823f359cec",
   "metadata": {
    "tags": []
   },
   "outputs": [],
   "source": [
    "collection_new = database['collect_update_new']\n",
    "dict_collect_update = df_collect_update.to_dict(orient='records')  \n",
    "result =  collection_new.insert_many(dict_collect_update)  # 특정한 값 확인하기 위해 "
   ]
  },
  {
   "cell_type": "code",
   "execution_count": 33,
   "id": "e03c4937-1d41-43b1-971b-a2b54fd6c20d",
   "metadata": {
    "tags": []
   },
   "outputs": [
    {
     "data": {
      "text/plain": [
       "[ObjectId('650130d83314ff7b56dc5e06'),\n",
       " ObjectId('650130d83314ff7b56dc5e07'),\n",
       " ObjectId('650130d83314ff7b56dc5e08'),\n",
       " ObjectId('6501314b08fe2a62ef762e1a'),\n",
       " ObjectId('6501314b08fe2a62ef762e1b'),\n",
       " ObjectId('6501314b08fe2a62ef762e1c')]"
      ]
     },
     "execution_count": 33,
     "metadata": {},
     "output_type": "execute_result"
    }
   ],
   "source": [
    "result.inserted_ids"
   ]
  },
  {
   "cell_type": "code",
   "execution_count": null,
   "id": "f48754f5-e1c3-46ae-806b-195fd6c56806",
   "metadata": {},
   "outputs": [],
   "source": []
  }
 ],
 "metadata": {
  "kernelspec": {
   "display_name": "Python 3 (ipykernel)",
   "language": "python",
   "name": "python3"
  },
  "language_info": {
   "codemirror_mode": {
    "name": "ipython",
    "version": 3
   },
   "file_extension": ".py",
   "mimetype": "text/x-python",
   "name": "python",
   "nbconvert_exporter": "python",
   "pygments_lexer": "ipython3",
   "version": "3.11.3"
  }
 },
 "nbformat": 4,
 "nbformat_minor": 5
}
