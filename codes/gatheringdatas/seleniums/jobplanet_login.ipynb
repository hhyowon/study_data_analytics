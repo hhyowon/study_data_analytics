{
 "cells": [
  {
   "cell_type": "markdown",
   "id": "40e63aec-89ee-499a-b83e-b0511cf18b67",
   "metadata": {},
   "source": [
    "### 홈페이지 스크린샷 이미지 저장하기"
   ]
  },
  {
   "cell_type": "code",
   "execution_count": 16,
   "id": "46f5bfdb-4566-469c-abdc-9307363cfa12",
   "metadata": {
    "tags": []
   },
   "outputs": [],
   "source": [
    "from selenium import webdriver"
   ]
  },
  {
   "cell_type": "code",
   "execution_count": 17,
   "id": "5cb86c84-fb3e-4ea5-94e0-a68558285a51",
   "metadata": {
    "tags": []
   },
   "outputs": [],
   "source": [
    "browser = webdriver.Chrome(executable_path='../../../../chromedriver.exe')"
   ]
  },
  {
   "cell_type": "markdown",
   "id": "7a33c7bf-a8d2-4e4d-b4b2-0f8f1604ab16",
   "metadata": {},
   "source": [
    "## login\n",
    "- user_email tag : #user_email\n",
    "- password tag : #user_password\n",
    "- submit button tag : fieldset > button"
   ]
  },
  {
   "cell_type": "code",
   "execution_count": 18,
   "id": "8112f1e1-fa66-46c6-9e94-6438a3f9b28f",
   "metadata": {
    "tags": []
   },
   "outputs": [],
   "source": [
    "browser.implicitly_wait(10)\n",
    "browser.get('https://www.jobplanet.co.kr/users/sign_in?_nav=gb')\n",
    "browser.find_element_by_css_selector('#user_email').send_keys('circle0605@naver.com')\n",
    "browser.find_element_by_css_selector('#user_password').send_keys('#####')\n",
    "browser.find_element_by_css_selector('fieldset > button').click()"
   ]
  },
  {
   "cell_type": "markdown",
   "id": "355f8019-9596-47be-b79d-9071e6d75bc9",
   "metadata": {
    "tags": []
   },
   "source": [
    "## 검색어로 검색(분석가)"
   ]
  },
  {
   "cell_type": "code",
   "execution_count": 19,
   "id": "394a3e1f-b872-4bde-8faa-b3bacccf348e",
   "metadata": {
    "tags": []
   },
   "outputs": [],
   "source": [
    "browser.implicitly_wait(10)\n",
    "search_word = 'https://www.jobplanet.co.kr/job/search?posting_ids%5B%5D=1255707'\n",
    "browser.get(search_word)"
   ]
  },
  {
   "cell_type": "code",
   "execution_count": null,
   "id": "78535fa1-3078-46a9-8798-0173c05d5483",
   "metadata": {},
   "outputs": [],
   "source": [
    "browser.quit()"
   ]
  }
 ],
 "metadata": {
  "kernelspec": {
   "display_name": "Python 3 (ipykernel)",
   "language": "python",
   "name": "python3"
  },
  "language_info": {
   "codemirror_mode": {
    "name": "ipython",
    "version": 3
   },
   "file_extension": ".py",
   "mimetype": "text/x-python",
   "name": "python",
   "nbconvert_exporter": "python",
   "pygments_lexer": "ipython3",
   "version": "3.11.3"
  }
 },
 "nbformat": 4,
 "nbformat_minor": 5
}
