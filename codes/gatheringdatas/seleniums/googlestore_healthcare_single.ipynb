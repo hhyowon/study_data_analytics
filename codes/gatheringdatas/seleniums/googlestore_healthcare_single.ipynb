{
 "cells": [
  {
   "cell_type": "code",
   "execution_count": 1,
   "id": "bc50ef21-5683-420f-b9c1-39c0104e5410",
   "metadata": {
    "tags": []
   },
   "outputs": [],
   "source": [
    "from selenium import webdriver"
   ]
  },
  {
   "cell_type": "code",
   "execution_count": 2,
   "id": "c1ba632e-1bef-4254-9610-aa7f090e379c",
   "metadata": {
    "tags": []
   },
   "outputs": [],
   "source": [
    "browser = webdriver.Chrome(executable_path='../../../../chromedriver.exe')"
   ]
  },
  {
   "cell_type": "code",
   "execution_count": 3,
   "id": "8b7956cc-d0be-47d2-abbb-34f9a046176f",
   "metadata": {
    "tags": []
   },
   "outputs": [],
   "source": [
    "browser.get('https://play.google.com/store/search?q=%ED%97%AC%EC%8A%A4%EC%BC%80%EC%96%B4%EC%95%B1&c=apps&hl=ko-KR')"
   ]
  },
  {
   "cell_type": "code",
   "execution_count": 4,
   "id": "81e8d835-1591-442f-b6c9-d9367c98ac36",
   "metadata": {
    "tags": []
   },
   "outputs": [],
   "source": [
    "browser.implicitly_wait(10)"
   ]
  },
  {
   "cell_type": "markdown",
   "id": "21472b52-1c5b-41f2-822a-87eafccadec3",
   "metadata": {},
   "source": [
    "## 제품 클릭\n",
    "section > div > div > div > div:nth-child(2) > div > div > div "
   ]
  },
  {
   "cell_type": "code",
   "execution_count": 5,
   "id": "afc99793-cf8a-4d00-b8d2-dcacf524a6d4",
   "metadata": {
    "tags": []
   },
   "outputs": [
    {
     "data": {
      "text/plain": [
       "30"
      ]
     },
     "execution_count": 5,
     "metadata": {},
     "output_type": "execute_result"
    }
   ],
   "source": [
    "click_path = 'section > div > div > div > div'\n",
    "company_list = browser.find_elements_by_css_selector(click_path)\n",
    "len(company_list)"
   ]
  },
  {
   "cell_type": "markdown",
   "id": "f8af6d01-5ad6-4966-bc40-199ef137a98e",
   "metadata": {
    "tags": []
   },
   "source": [
    "## 제품 정보\n",
    "- 서비스명 tag : div > h1 > span\n",
    "- 만든 회사 : div.Il7kR > div > div > div > a > span\n",
    "- 앱정보 tag : div:nth-child(1) > c-wiz:nth-child(2) > div > section > div "
   ]
  },
  {
   "cell_type": "code",
   "execution_count": 6,
   "id": "b289dfdc-dd9f-4024-a59d-28f81fb0ef8a",
   "metadata": {
    "tags": []
   },
   "outputs": [
    {
     "ename": "WebDriverException",
     "evalue": "Message: disconnected: unable to send message to renderer\n  (failed to check if window was closed: disconnected: not connected to DevTools)\n  (Session info: chrome=116.0.5845.142)\n",
     "output_type": "error",
     "traceback": [
      "\u001b[1;31m---------------------------------------------------------------------------\u001b[0m",
      "\u001b[1;31mWebDriverException\u001b[0m                        Traceback (most recent call last)",
      "Cell \u001b[1;32mIn[6], line 1\u001b[0m\n\u001b[1;32m----> 1\u001b[0m service_name \u001b[38;5;241m=\u001b[39m browser\u001b[38;5;241m.\u001b[39mfind_element_by_css_selector(\u001b[38;5;124m'\u001b[39m\u001b[38;5;124mdiv > h1 > span\u001b[39m\u001b[38;5;124m'\u001b[39m)\u001b[38;5;241m.\u001b[39mtext\n\u001b[0;32m      2\u001b[0m company_name \u001b[38;5;241m=\u001b[39m browser\u001b[38;5;241m.\u001b[39mfind_element_by_css_selector(\u001b[38;5;124m'\u001b[39m\u001b[38;5;124mdiv.Il7kR > div > div > div > a > span\u001b[39m\u001b[38;5;124m'\u001b[39m)\u001b[38;5;241m.\u001b[39mtext\n\u001b[0;32m      3\u001b[0m app_information \u001b[38;5;241m=\u001b[39m browser\u001b[38;5;241m.\u001b[39mfind_element_by_css_selector(\u001b[38;5;124m'\u001b[39m\u001b[38;5;124mdiv:nth-child(1) > c-wiz:nth-child(2) > div > section > div\u001b[39m\u001b[38;5;124m'\u001b[39m)\u001b[38;5;241m.\u001b[39mtext\n",
      "File \u001b[1;32m~\\anaconda3\\Lib\\site-packages\\selenium\\webdriver\\remote\\webdriver.py:598\u001b[0m, in \u001b[0;36mWebDriver.find_element_by_css_selector\u001b[1;34m(self, css_selector)\u001b[0m\n\u001b[0;32m    582\u001b[0m \u001b[38;5;28;01mdef\u001b[39;00m \u001b[38;5;21mfind_element_by_css_selector\u001b[39m(\u001b[38;5;28mself\u001b[39m, css_selector):\n\u001b[0;32m    583\u001b[0m \u001b[38;5;250m    \u001b[39m\u001b[38;5;124;03m\"\"\"\u001b[39;00m\n\u001b[0;32m    584\u001b[0m \u001b[38;5;124;03m    Finds an element by css selector.\u001b[39;00m\n\u001b[0;32m    585\u001b[0m \n\u001b[1;32m   (...)\u001b[0m\n\u001b[0;32m    596\u001b[0m \u001b[38;5;124;03m        element = driver.find_element_by_css_selector('#foo')\u001b[39;00m\n\u001b[0;32m    597\u001b[0m \u001b[38;5;124;03m    \"\"\"\u001b[39;00m\n\u001b[1;32m--> 598\u001b[0m     \u001b[38;5;28;01mreturn\u001b[39;00m \u001b[38;5;28mself\u001b[39m\u001b[38;5;241m.\u001b[39mfind_element(by\u001b[38;5;241m=\u001b[39mBy\u001b[38;5;241m.\u001b[39mCSS_SELECTOR, value\u001b[38;5;241m=\u001b[39mcss_selector)\n",
      "File \u001b[1;32m~\\anaconda3\\Lib\\site-packages\\selenium\\webdriver\\remote\\webdriver.py:976\u001b[0m, in \u001b[0;36mWebDriver.find_element\u001b[1;34m(self, by, value)\u001b[0m\n\u001b[0;32m    974\u001b[0m         by \u001b[38;5;241m=\u001b[39m By\u001b[38;5;241m.\u001b[39mCSS_SELECTOR\n\u001b[0;32m    975\u001b[0m         value \u001b[38;5;241m=\u001b[39m \u001b[38;5;124m'\u001b[39m\u001b[38;5;124m[name=\u001b[39m\u001b[38;5;124m\"\u001b[39m\u001b[38;5;132;01m%s\u001b[39;00m\u001b[38;5;124m\"\u001b[39m\u001b[38;5;124m]\u001b[39m\u001b[38;5;124m'\u001b[39m \u001b[38;5;241m%\u001b[39m value\n\u001b[1;32m--> 976\u001b[0m \u001b[38;5;28;01mreturn\u001b[39;00m \u001b[38;5;28mself\u001b[39m\u001b[38;5;241m.\u001b[39mexecute(Command\u001b[38;5;241m.\u001b[39mFIND_ELEMENT, {\n\u001b[0;32m    977\u001b[0m     \u001b[38;5;124m'\u001b[39m\u001b[38;5;124musing\u001b[39m\u001b[38;5;124m'\u001b[39m: by,\n\u001b[0;32m    978\u001b[0m     \u001b[38;5;124m'\u001b[39m\u001b[38;5;124mvalue\u001b[39m\u001b[38;5;124m'\u001b[39m: value})[\u001b[38;5;124m'\u001b[39m\u001b[38;5;124mvalue\u001b[39m\u001b[38;5;124m'\u001b[39m]\n",
      "File \u001b[1;32m~\\anaconda3\\Lib\\site-packages\\selenium\\webdriver\\remote\\webdriver.py:321\u001b[0m, in \u001b[0;36mWebDriver.execute\u001b[1;34m(self, driver_command, params)\u001b[0m\n\u001b[0;32m    319\u001b[0m response \u001b[38;5;241m=\u001b[39m \u001b[38;5;28mself\u001b[39m\u001b[38;5;241m.\u001b[39mcommand_executor\u001b[38;5;241m.\u001b[39mexecute(driver_command, params)\n\u001b[0;32m    320\u001b[0m \u001b[38;5;28;01mif\u001b[39;00m response:\n\u001b[1;32m--> 321\u001b[0m     \u001b[38;5;28mself\u001b[39m\u001b[38;5;241m.\u001b[39merror_handler\u001b[38;5;241m.\u001b[39mcheck_response(response)\n\u001b[0;32m    322\u001b[0m     response[\u001b[38;5;124m'\u001b[39m\u001b[38;5;124mvalue\u001b[39m\u001b[38;5;124m'\u001b[39m] \u001b[38;5;241m=\u001b[39m \u001b[38;5;28mself\u001b[39m\u001b[38;5;241m.\u001b[39m_unwrap_value(\n\u001b[0;32m    323\u001b[0m         response\u001b[38;5;241m.\u001b[39mget(\u001b[38;5;124m'\u001b[39m\u001b[38;5;124mvalue\u001b[39m\u001b[38;5;124m'\u001b[39m, \u001b[38;5;28;01mNone\u001b[39;00m))\n\u001b[0;32m    324\u001b[0m     \u001b[38;5;28;01mreturn\u001b[39;00m response\n",
      "File \u001b[1;32m~\\anaconda3\\Lib\\site-packages\\selenium\\webdriver\\remote\\errorhandler.py:242\u001b[0m, in \u001b[0;36mErrorHandler.check_response\u001b[1;34m(self, response)\u001b[0m\n\u001b[0;32m    240\u001b[0m         alert_text \u001b[38;5;241m=\u001b[39m value[\u001b[38;5;124m'\u001b[39m\u001b[38;5;124malert\u001b[39m\u001b[38;5;124m'\u001b[39m]\u001b[38;5;241m.\u001b[39mget(\u001b[38;5;124m'\u001b[39m\u001b[38;5;124mtext\u001b[39m\u001b[38;5;124m'\u001b[39m)\n\u001b[0;32m    241\u001b[0m     \u001b[38;5;28;01mraise\u001b[39;00m exception_class(message, screen, stacktrace, alert_text)\n\u001b[1;32m--> 242\u001b[0m \u001b[38;5;28;01mraise\u001b[39;00m exception_class(message, screen, stacktrace)\n",
      "\u001b[1;31mWebDriverException\u001b[0m: Message: disconnected: unable to send message to renderer\n  (failed to check if window was closed: disconnected: not connected to DevTools)\n  (Session info: chrome=116.0.5845.142)\n"
     ]
    }
   ],
   "source": [
    "service_name = browser.find_element_by_css_selector('div > h1 > span').text\n",
    "company_name = browser.find_element_by_css_selector('div.Il7kR > div > div > div > a > span').text\n",
    "app_information = browser.find_element_by_css_selector('div:nth-child(1) > c-wiz:nth-child(2) > div > section > div').text\n",
    "\n",
    "[service_name,company_name,app_information]"
   ]
  },
  {
   "cell_type": "markdown",
   "id": "9e7e0af6-87f2-43aa-8922-6fd0d25b4662",
   "metadata": {},
   "source": [
    "## 리뷰 모두 보기\n",
    "- click tag : div:nth-child(5) > div > div > button > span"
   ]
  },
  {
   "cell_type": "code",
   "execution_count": null,
   "id": "677adca1-7802-4e43-a1e4-4e071eb138f0",
   "metadata": {
    "tags": []
   },
   "outputs": [],
   "source": [
    "import time\n",
    "time.sleep(2)"
   ]
  },
  {
   "cell_type": "code",
   "execution_count": null,
   "id": "862037db-211f-4f7d-8f78-36167be00d01",
   "metadata": {
    "tags": []
   },
   "outputs": [],
   "source": [
    "browser.find_element_by_xpath('//*/div/div/button/*[contains(text(), \"리뷰\")]').click()"
   ]
  },
  {
   "cell_type": "markdown",
   "id": "57ade5b2-80f8-4698-969e-d495e38c7d5f",
   "metadata": {},
   "source": [
    "## 리뷰 내용 가져오기\n",
    "- 리뷰 묶음 tag : div.fysCi > div > div:nth-child(2) > div\n",
    "- 내용 tag : div.h3YV2d\n",
    "- 날짜 tag : header > div.Jx4nYe > span\n",
    "- 별점 tag : header > div.Jx4nYe > div"
   ]
  },
  {
   "cell_type": "code",
   "execution_count": null,
   "id": "cebc86df-831d-469d-9039-5dc3dc070133",
   "metadata": {
    "tags": []
   },
   "outputs": [],
   "source": [
    "reviews_bundle = browser.find_elements_by_css_selector('div.fysCi > div > div:nth-child(2) > div')\n",
    "len(reviews_bundle)"
   ]
  },
  {
   "cell_type": "code",
   "execution_count": null,
   "id": "129f913c-f679-499c-b316-3cf798f39e9f",
   "metadata": {},
   "outputs": [],
   "source": [
    "content = reviews_bundle[0].find_element_by_css_selector('div.h3YV2d').text\n",
    "date = reviews_bundle[0].find_element_by_css_selector('header > div.Jx4nYe > span').text\n",
    "stars = reviews_bundle[0].find_element_by_css_selector('header > div.Jx4nYe > div').get_attribute('aria-label')"
   ]
  },
  {
   "cell_type": "code",
   "execution_count": null,
   "id": "8691044e-f253-4436-ab5f-fd3cb3b313f6",
   "metadata": {
    "tags": []
   },
   "outputs": [],
   "source": [
    "[content,date,stars]"
   ]
  },
  {
   "cell_type": "markdown",
   "id": "93673ca0-915b-4469-a00d-65504b763547",
   "metadata": {},
   "source": [
    "## 추가 댓글 가져오기\n",
    "- 마지막 내용을 클릭\n",
    "- 마지막 화면까지 스크롤링"
   ]
  },
  {
   "cell_type": "code",
   "execution_count": null,
   "id": "b5ffba2c-d09b-4a5d-9521-c53741946efa",
   "metadata": {},
   "outputs": [],
   "source": [
    "# reviews_bundle[39].click()"
   ]
  },
  {
   "cell_type": "code",
   "execution_count": null,
   "id": "52d07639-4696-456a-b4a7-80be5e04b25b",
   "metadata": {},
   "outputs": [],
   "source": [
    "# reviews_bundle = browser.find_elements_by_css_selector('div.fysCi > div > div:nth-child(2) > div')\n",
    "# len(reviews_bundle)"
   ]
  },
  {
   "cell_type": "code",
   "execution_count": null,
   "id": "4cdcf18b-b0aa-4db2-972e-e2d3fa00afce",
   "metadata": {
    "tags": []
   },
   "outputs": [],
   "source": [
    "# reviews_bundle[40:]"
   ]
  },
  {
   "cell_type": "markdown",
   "id": "da9ca559-6d68-484c-8b68-72e942e0cb9e",
   "metadata": {},
   "source": [
    "## 클릭 갯수"
   ]
  },
  {
   "cell_type": "code",
   "execution_count": null,
   "id": "9377b282-59fc-426c-81f4-5fe2a24c034b",
   "metadata": {
    "tags": []
   },
   "outputs": [],
   "source": [
    "# review_total_count / review_standard_count_per\n",
    "20 / 40, 39 / 40, 40 / 40, 45 / 40, 80 / 40, 89 / 40, 116 / 40, 121 / 40, 473 / 40"
   ]
  },
  {
   "cell_type": "markdown",
   "id": "97864a29-b562-4b8a-93b6-1e16af03210e",
   "metadata": {},
   "source": [
    "## 추가 댓글 모두 가져오기"
   ]
  },
  {
   "cell_type": "code",
   "execution_count": null,
   "id": "e2983816-77f9-43e3-a6c4-ad25ba30db1b",
   "metadata": {
    "tags": []
   },
   "outputs": [],
   "source": [
    "list(range(1, 2)), list(range(1, 4))"
   ]
  },
  {
   "cell_type": "markdown",
   "id": "165ddefd-d930-4565-8a20-dd56850d9e9c",
   "metadata": {},
   "source": [
    "#### 리뷰 총 갯수 가져오기"
   ]
  },
  {
   "cell_type": "code",
   "execution_count": null,
   "id": "66f04b11-98a6-46db-a078-30e9b2c0c51a",
   "metadata": {
    "tags": []
   },
   "outputs": [],
   "source": [
    "review_total_count = 473  # 리뷰 총 갯수\n",
    "review_standard_count_per = 40\n",
    "click_count = 0\n",
    "\n",
    "loop_count_int = int(review_total_count / review_standard_count_per)\n",
    "for count in range(1, loop_count_int+1) :\n",
    "    try :\n",
    "        reviews_bundle = browser.find_elements_by_css_selector('div.fysCi > div > div:nth-child(2) > div')\n",
    "        print('current reviews_bundle count : {}'.format(len(reviews_bundle)))\n",
    "        reviews_bundle[len(reviews_bundle)-1].click()\n",
    "        time.sleep(3)\n",
    "    except :\n",
    "        print('pass')\n",
    "        pass\n",
    "print('Done', len(reviews_bundle))"
   ]
  },
  {
   "cell_type": "code",
   "execution_count": null,
   "id": "6701d445-cf28-4eb6-8644-1a4d723624ba",
   "metadata": {},
   "outputs": [],
   "source": []
  }
 ],
 "metadata": {
  "kernelspec": {
   "display_name": "Python 3 (ipykernel)",
   "language": "python",
   "name": "python3"
  },
  "language_info": {
   "codemirror_mode": {
    "name": "ipython",
    "version": 3
   },
   "file_extension": ".py",
   "mimetype": "text/x-python",
   "name": "python",
   "nbconvert_exporter": "python",
   "pygments_lexer": "ipython3",
   "version": "3.11.3"
  }
 },
 "nbformat": 4,
 "nbformat_minor": 5
}
