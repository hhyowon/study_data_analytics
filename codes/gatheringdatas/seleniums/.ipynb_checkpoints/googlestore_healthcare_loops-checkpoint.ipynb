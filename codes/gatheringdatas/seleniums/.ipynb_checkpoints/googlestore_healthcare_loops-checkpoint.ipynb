{
 "cells": [
  {
   "cell_type": "code",
   "execution_count": 1,
   "id": "bc50ef21-5683-420f-b9c1-39c0104e5410",
   "metadata": {
    "tags": []
   },
   "outputs": [],
   "source": [
    "from selenium import webdriver"
   ]
  },
  {
   "cell_type": "code",
   "execution_count": 2,
   "id": "c1ba632e-1bef-4254-9610-aa7f090e379c",
   "metadata": {
    "tags": []
   },
   "outputs": [],
   "source": [
    "browser = webdriver.Chrome(executable_path='../../../../chromedriver.exe')"
   ]
  },
  {
   "cell_type": "code",
   "execution_count": 3,
   "id": "8b7956cc-d0be-47d2-abbb-34f9a046176f",
   "metadata": {
    "tags": []
   },
   "outputs": [],
   "source": [
    "browser.get('https://play.google.com/store/search?q=%ED%97%AC%EC%8A%A4%EC%BC%80%EC%96%B4%EC%95%B1&c=apps&hl=ko-KR')"
   ]
  },
  {
   "cell_type": "code",
   "execution_count": 4,
   "id": "81e8d835-1591-442f-b6c9-d9367c98ac36",
   "metadata": {
    "tags": []
   },
   "outputs": [],
   "source": [
    "browser.implicitly_wait(10)"
   ]
  },
  {
   "cell_type": "markdown",
   "id": "21472b52-1c5b-41f2-822a-87eafccadec3",
   "metadata": {},
   "source": [
    "## 제품 클릭\n",
    "section > div > div > div > div:nth-child(2) > div > div > div "
   ]
  },
  {
   "cell_type": "code",
   "execution_count": 5,
   "id": "afc99793-cf8a-4d00-b8d2-dcacf524a6d4",
   "metadata": {
    "tags": []
   },
   "outputs": [],
   "source": [
    "click_path = 'section > div > div > div > div:nth-child(2) > div > div > div'\n",
    "browser.find_element_by_css_selector(click_path).click()"
   ]
  },
  {
   "cell_type": "markdown",
   "id": "f8af6d01-5ad6-4966-bc40-199ef137a98e",
   "metadata": {
    "tags": []
   },
   "source": [
    "## 제품 정보\n",
    "- 서비스명 tag : div > h1 > span\n",
    "- 만든 회사 : div.Il7kR > div > div > div > a > span\n",
    "- 앱정보 tag : div:nth-child(1) > c-wiz:nth-child(2) > div > section > div "
   ]
  },
  {
   "cell_type": "code",
   "execution_count": 6,
   "id": "b289dfdc-dd9f-4024-a59d-28f81fb0ef8a",
   "metadata": {
    "tags": []
   },
   "outputs": [
    {
     "data": {
      "text/plain": [
       "['NH헬스케어',\n",
       " 'NH농협생명',\n",
       " '한국인의 건강관리 NH 헬스케어!\\n\\n지인들과 재밌고 건강하게 즐기는 NH헬스케어만의 새로운 걷기 방법 – 걷기 배틀\\n걷기 목표 달성시 지급되는 포인트로 완성하는 온라인 텃밭 – 랜선 텃밭 가꾸기\\n\\n즐겁고 과학적인 당신만을 위한 건강 솔루션 NH 헬스케어!\\n업데이트 날짜\\n2023. 7. 21.\\n건강/운동']"
      ]
     },
     "execution_count": 6,
     "metadata": {},
     "output_type": "execute_result"
    }
   ],
   "source": [
    "service_name = browser.find_element_by_css_selector('div > h1 > span').text\n",
    "company_name = browser.find_element_by_css_selector('div.Il7kR > div > div > div > a > span').text\n",
    "app_information = browser.find_element_by_css_selector('div:nth-child(1) > c-wiz:nth-child(2) > div > section > div').text\n",
    "\n",
    "[service_name,company_name,app_information]"
   ]
  },
  {
   "cell_type": "markdown",
   "id": "9e7e0af6-87f2-43aa-8922-6fd0d25b4662",
   "metadata": {},
   "source": [
    "## 리뷰 모두 보기\n",
    "- click tag : div:nth-child(5) > div > div > button > span"
   ]
  },
  {
   "cell_type": "code",
   "execution_count": 7,
   "id": "677adca1-7802-4e43-a1e4-4e071eb138f0",
   "metadata": {
    "tags": []
   },
   "outputs": [],
   "source": [
    "import time\n",
    "time.sleep(2)"
   ]
  },
  {
   "cell_type": "code",
   "execution_count": 9,
   "id": "862037db-211f-4f7d-8f78-36167be00d01",
   "metadata": {
    "tags": []
   },
   "outputs": [],
   "source": [
    "browser.find_element_by_xpath('//*/div/div/button/*[contains(text(), \"리뷰\")]').click()"
   ]
  },
  {
   "cell_type": "markdown",
   "id": "57ade5b2-80f8-4698-969e-d495e38c7d5f",
   "metadata": {},
   "source": [
    "## 리뷰 내용 가져오기\n",
    "- 리뷰 묶음 tag : div.fysCi > div > div:nth-child(2) > div\n",
    "- 내용 tag : div.h3YV2d\n",
    "- 날짜 tag : header > div.Jx4nYe > span\n",
    "- 별점 tag : header > div.Jx4nYe > div"
   ]
  },
  {
   "cell_type": "code",
   "execution_count": 10,
   "id": "cebc86df-831d-469d-9039-5dc3dc070133",
   "metadata": {
    "tags": []
   },
   "outputs": [
    {
     "data": {
      "text/plain": [
       "40"
      ]
     },
     "execution_count": 10,
     "metadata": {},
     "output_type": "execute_result"
    }
   ],
   "source": [
    "reviews_bundle = browser.find_elements_by_css_selector('div.fysCi > div > div:nth-child(2) > div')\n",
    "len(reviews_bundle)"
   ]
  },
  {
   "cell_type": "code",
   "execution_count": 11,
   "id": "129f913c-f679-499c-b316-3cf798f39e9f",
   "metadata": {},
   "outputs": [],
   "source": [
    "content = reviews_bundle[0].find_element_by_css_selector('div.h3YV2d').text\n",
    "date = reviews_bundle[0].find_element_by_css_selector('header > div.Jx4nYe > span').text\n",
    "stars = reviews_bundle[0].find_element_by_css_selector('header > div.Jx4nYe > div').get_attribute('aria-label')"
   ]
  },
  {
   "cell_type": "code",
   "execution_count": 12,
   "id": "8691044e-f253-4436-ab5f-fd3cb3b313f6",
   "metadata": {
    "tags": []
   },
   "outputs": [
    {
     "data": {
      "text/plain": [
       "['', '', '별표 5개 만점에 4개를 받았습니다.']"
      ]
     },
     "execution_count": 12,
     "metadata": {},
     "output_type": "execute_result"
    }
   ],
   "source": [
    "[content,date,stars]"
   ]
  },
  {
   "cell_type": "code",
   "execution_count": null,
   "id": "6783070a-983a-4e87-bbe1-7cf9b1acc5b0",
   "metadata": {},
   "outputs": [],
   "source": []
  }
 ],
 "metadata": {
  "kernelspec": {
   "display_name": "Python 3 (ipykernel)",
   "language": "python",
   "name": "python3"
  },
  "language_info": {
   "codemirror_mode": {
    "name": "ipython",
    "version": 3
   },
   "file_extension": ".py",
   "mimetype": "text/x-python",
   "name": "python",
   "nbconvert_exporter": "python",
   "pygments_lexer": "ipython3",
   "version": "3.11.3"
  }
 },
 "nbformat": 4,
 "nbformat_minor": 5
}
