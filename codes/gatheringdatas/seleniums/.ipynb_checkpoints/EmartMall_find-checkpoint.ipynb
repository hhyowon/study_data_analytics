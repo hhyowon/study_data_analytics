{
 "cells": [
  {
   "cell_type": "code",
   "execution_count": 12,
   "id": "bfb8d781-9462-419d-b217-6f87a47455b7",
   "metadata": {
    "tags": []
   },
   "outputs": [],
   "source": [
    "from selenium import webdriver"
   ]
  },
  {
   "cell_type": "code",
   "execution_count": 13,
   "id": "dd4b4fd9-f651-4beb-913e-93d2d7f226c0",
   "metadata": {
    "tags": []
   },
   "outputs": [],
   "source": [
    "#open chrome \n",
    "browser = webdriver.Chrome(executable_path='../../../../chromedriver.exe')"
   ]
  },
  {
   "cell_type": "code",
   "execution_count": 14,
   "id": "3bb2dba8-537e-453b-89b3-b20ef4e211c0",
   "metadata": {},
   "outputs": [],
   "source": [
    "#url in address\n",
    "browser.get('https://emart.ssg.com/disp/category.ssg?dispCtgId=6000214033')"
   ]
  },
  {
   "cell_type": "markdown",
   "id": "c14f079a-0855-450b-a9d8-ed941b1a5ac2",
   "metadata": {},
   "source": [
    "### 하나에 element 가져오기"
   ]
  },
  {
   "cell_type": "code",
   "execution_count": 15,
   "id": "94945083-e5d4-4c69-ab11-3113fd65e5ff",
   "metadata": {
    "tags": []
   },
   "outputs": [
    {
     "ename": "NoSuchElementException",
     "evalue": "Message: no such element: Unable to locate element: {\"method\":\"css selector\",\"selector\":\"#swiper-wrapper-a4b6b9d8ef00ca6f > li.mnemitem_grid_item.swiper-slide.swiper-slide-active > div > div > div.mnemitem_detailbx > div.mnemitem_tx_thmb > a > div.mnemitem_tit > span.mnemitem_goods_tit\"}\n  (Session info: chrome=116.0.5845.180)\n",
     "output_type": "error",
     "traceback": [
      "\u001b[1;31m---------------------------------------------------------------------------\u001b[0m",
      "\u001b[1;31mNoSuchElementException\u001b[0m                    Traceback (most recent call last)",
      "Cell \u001b[1;32mIn[15], line 3\u001b[0m\n\u001b[0;32m      1\u001b[0m \u001b[38;5;66;03m#copy > seletor copy 단수일때\u001b[39;00m\n\u001b[0;32m      2\u001b[0m element_path \u001b[38;5;241m=\u001b[39m \u001b[38;5;124m'\u001b[39m\u001b[38;5;124m#swiper-wrapper-a4b6b9d8ef00ca6f > li.mnemitem_grid_item.swiper-slide.swiper-slide-active > div > div > div.mnemitem_detailbx > div.mnemitem_tx_thmb > a > div.mnemitem_tit > span.mnemitem_goods_tit\u001b[39m\u001b[38;5;124m'\u001b[39m\n\u001b[1;32m----> 3\u001b[0m element \u001b[38;5;241m=\u001b[39m browser\u001b[38;5;241m.\u001b[39mfind_element_by_css_selector(element_path)\n\u001b[0;32m      4\u001b[0m \u001b[38;5;28mtype\u001b[39m(element)\n",
      "File \u001b[1;32m~\\anaconda3\\Lib\\site-packages\\selenium\\webdriver\\remote\\webdriver.py:598\u001b[0m, in \u001b[0;36mWebDriver.find_element_by_css_selector\u001b[1;34m(self, css_selector)\u001b[0m\n\u001b[0;32m    582\u001b[0m \u001b[38;5;28;01mdef\u001b[39;00m \u001b[38;5;21mfind_element_by_css_selector\u001b[39m(\u001b[38;5;28mself\u001b[39m, css_selector):\n\u001b[0;32m    583\u001b[0m \u001b[38;5;250m    \u001b[39m\u001b[38;5;124;03m\"\"\"\u001b[39;00m\n\u001b[0;32m    584\u001b[0m \u001b[38;5;124;03m    Finds an element by css selector.\u001b[39;00m\n\u001b[0;32m    585\u001b[0m \n\u001b[1;32m   (...)\u001b[0m\n\u001b[0;32m    596\u001b[0m \u001b[38;5;124;03m        element = driver.find_element_by_css_selector('#foo')\u001b[39;00m\n\u001b[0;32m    597\u001b[0m \u001b[38;5;124;03m    \"\"\"\u001b[39;00m\n\u001b[1;32m--> 598\u001b[0m     \u001b[38;5;28;01mreturn\u001b[39;00m \u001b[38;5;28mself\u001b[39m\u001b[38;5;241m.\u001b[39mfind_element(by\u001b[38;5;241m=\u001b[39mBy\u001b[38;5;241m.\u001b[39mCSS_SELECTOR, value\u001b[38;5;241m=\u001b[39mcss_selector)\n",
      "File \u001b[1;32m~\\anaconda3\\Lib\\site-packages\\selenium\\webdriver\\remote\\webdriver.py:976\u001b[0m, in \u001b[0;36mWebDriver.find_element\u001b[1;34m(self, by, value)\u001b[0m\n\u001b[0;32m    974\u001b[0m         by \u001b[38;5;241m=\u001b[39m By\u001b[38;5;241m.\u001b[39mCSS_SELECTOR\n\u001b[0;32m    975\u001b[0m         value \u001b[38;5;241m=\u001b[39m \u001b[38;5;124m'\u001b[39m\u001b[38;5;124m[name=\u001b[39m\u001b[38;5;124m\"\u001b[39m\u001b[38;5;132;01m%s\u001b[39;00m\u001b[38;5;124m\"\u001b[39m\u001b[38;5;124m]\u001b[39m\u001b[38;5;124m'\u001b[39m \u001b[38;5;241m%\u001b[39m value\n\u001b[1;32m--> 976\u001b[0m \u001b[38;5;28;01mreturn\u001b[39;00m \u001b[38;5;28mself\u001b[39m\u001b[38;5;241m.\u001b[39mexecute(Command\u001b[38;5;241m.\u001b[39mFIND_ELEMENT, {\n\u001b[0;32m    977\u001b[0m     \u001b[38;5;124m'\u001b[39m\u001b[38;5;124musing\u001b[39m\u001b[38;5;124m'\u001b[39m: by,\n\u001b[0;32m    978\u001b[0m     \u001b[38;5;124m'\u001b[39m\u001b[38;5;124mvalue\u001b[39m\u001b[38;5;124m'\u001b[39m: value})[\u001b[38;5;124m'\u001b[39m\u001b[38;5;124mvalue\u001b[39m\u001b[38;5;124m'\u001b[39m]\n",
      "File \u001b[1;32m~\\anaconda3\\Lib\\site-packages\\selenium\\webdriver\\remote\\webdriver.py:321\u001b[0m, in \u001b[0;36mWebDriver.execute\u001b[1;34m(self, driver_command, params)\u001b[0m\n\u001b[0;32m    319\u001b[0m response \u001b[38;5;241m=\u001b[39m \u001b[38;5;28mself\u001b[39m\u001b[38;5;241m.\u001b[39mcommand_executor\u001b[38;5;241m.\u001b[39mexecute(driver_command, params)\n\u001b[0;32m    320\u001b[0m \u001b[38;5;28;01mif\u001b[39;00m response:\n\u001b[1;32m--> 321\u001b[0m     \u001b[38;5;28mself\u001b[39m\u001b[38;5;241m.\u001b[39merror_handler\u001b[38;5;241m.\u001b[39mcheck_response(response)\n\u001b[0;32m    322\u001b[0m     response[\u001b[38;5;124m'\u001b[39m\u001b[38;5;124mvalue\u001b[39m\u001b[38;5;124m'\u001b[39m] \u001b[38;5;241m=\u001b[39m \u001b[38;5;28mself\u001b[39m\u001b[38;5;241m.\u001b[39m_unwrap_value(\n\u001b[0;32m    323\u001b[0m         response\u001b[38;5;241m.\u001b[39mget(\u001b[38;5;124m'\u001b[39m\u001b[38;5;124mvalue\u001b[39m\u001b[38;5;124m'\u001b[39m, \u001b[38;5;28;01mNone\u001b[39;00m))\n\u001b[0;32m    324\u001b[0m     \u001b[38;5;28;01mreturn\u001b[39;00m response\n",
      "File \u001b[1;32m~\\anaconda3\\Lib\\site-packages\\selenium\\webdriver\\remote\\errorhandler.py:242\u001b[0m, in \u001b[0;36mErrorHandler.check_response\u001b[1;34m(self, response)\u001b[0m\n\u001b[0;32m    240\u001b[0m         alert_text \u001b[38;5;241m=\u001b[39m value[\u001b[38;5;124m'\u001b[39m\u001b[38;5;124malert\u001b[39m\u001b[38;5;124m'\u001b[39m]\u001b[38;5;241m.\u001b[39mget(\u001b[38;5;124m'\u001b[39m\u001b[38;5;124mtext\u001b[39m\u001b[38;5;124m'\u001b[39m)\n\u001b[0;32m    241\u001b[0m     \u001b[38;5;28;01mraise\u001b[39;00m exception_class(message, screen, stacktrace, alert_text)\n\u001b[1;32m--> 242\u001b[0m \u001b[38;5;28;01mraise\u001b[39;00m exception_class(message, screen, stacktrace)\n",
      "\u001b[1;31mNoSuchElementException\u001b[0m: Message: no such element: Unable to locate element: {\"method\":\"css selector\",\"selector\":\"#swiper-wrapper-a4b6b9d8ef00ca6f > li.mnemitem_grid_item.swiper-slide.swiper-slide-active > div > div > div.mnemitem_detailbx > div.mnemitem_tx_thmb > a > div.mnemitem_tit > span.mnemitem_goods_tit\"}\n  (Session info: chrome=116.0.5845.180)\n"
     ]
    }
   ],
   "source": [
    "#copy > seletor copy 단수일때\n",
    "element_path = '#swiper-wrapper-a4b6b9d8ef00ca6f > li.mnemitem_grid_item.swiper-slide.swiper-slide-active > div > div > div.mnemitem_detailbx > div.mnemitem_tx_thmb > a > div.mnemitem_tit > span.mnemitem_goods_tit'\n",
    "element = browser.find_element_by_css_selector(element_path)\n",
    "type(element) # <span class=\"mnemitem_goods_tit\">몰리스 쉬야응가 1회용 패드 L 50매</span>"
   ]
  },
  {
   "cell_type": "code",
   "execution_count": 16,
   "id": "75c77bea-95f9-4ddc-ab22-eed406cf20bc",
   "metadata": {
    "tags": []
   },
   "outputs": [
    {
     "ename": "NameError",
     "evalue": "name 'element' is not defined",
     "output_type": "error",
     "traceback": [
      "\u001b[1;31m---------------------------------------------------------------------------\u001b[0m",
      "\u001b[1;31mNameError\u001b[0m                                 Traceback (most recent call last)",
      "Cell \u001b[1;32mIn[16], line 2\u001b[0m\n\u001b[0;32m      1\u001b[0m \u001b[38;5;66;03m# 텍스트만 가져오기\u001b[39;00m\n\u001b[1;32m----> 2\u001b[0m element\u001b[38;5;241m.\u001b[39mtext\n",
      "\u001b[1;31mNameError\u001b[0m: name 'element' is not defined"
     ]
    }
   ],
   "source": [
    "# 텍스트만 가져오기\n",
    "element.text"
   ]
  },
  {
   "cell_type": "code",
   "execution_count": null,
   "id": "70586c62-848b-4d1a-9eff-ec77b32b6966",
   "metadata": {
    "tags": []
   },
   "outputs": [],
   "source": [
    "element.get_attribute('class')"
   ]
  },
  {
   "cell_type": "markdown",
   "id": "7202b0cf-1ea7-400f-b9cd-603048fb67a0",
   "metadata": {},
   "source": [
    "### 여러개 element 가져오기"
   ]
  },
  {
   "cell_type": "code",
   "execution_count": 17,
   "id": "d16798d3-78de-4703-824e-4d340b938bdd",
   "metadata": {
    "tags": []
   },
   "outputs": [
    {
     "data": {
      "text/plain": [
       "(list, selenium.webdriver.remote.webelement.WebElement)"
      ]
     },
     "execution_count": 17,
     "metadata": {},
     "output_type": "execute_result"
    }
   ],
   "source": [
    "element_path = '.mnemitem_goods_tit'\n",
    "elements = browser.find_elements_by_css_selector(element_path)\n",
    "type(elements), type(elements[0])"
   ]
  },
  {
   "cell_type": "code",
   "execution_count": 18,
   "id": "1a403d72-4a5e-4ff0-ac6c-6e3459437088",
   "metadata": {
    "tags": []
   },
   "outputs": [
    {
     "name": "stdout",
     "output_type": "stream",
     "text": [
      "몰리스 쉬야응가 1회용 패드 L 50매\n",
      "몰리스 쉬야응가 1회용 패드 L 50매\n",
      "몰리스 쉬야응가 1회용 패드 M 100매\n",
      "몰리스 쉬야응가 1회용 패드 M 100매\n",
      "\n",
      "\n",
      "\n",
      "\n",
      "\n",
      "\n",
      "\n",
      "\n",
      "\n",
      "\n",
      "\n",
      "\n",
      "\n",
      "\n",
      "\n",
      "\n",
      "반려견패드(중)40*50cm*100매\n",
      "반려견패드(대)60*70cm*45매\n",
      "순살듬뿍 치킨말이스틱 30P (300g)\n",
      "순살듬뿍 오리말이스틱 30P (300g)\n",
      "건강한간식 순살듬뿍 고구마 오리말이 300g\n",
      "건강한간식 순살듬뿍 고구마 치킨말이 300g\n",
      "몰리스픽 반려견 패드 L 45매\n",
      "건강한간식 순살듬뿍 안심오리 300g\n",
      "반려견 사료 10kg\n",
      "몰리스 화이트 스틱껌 소프트치킨 400g\n",
      "템테이션 맛있는 닭고기맛 75g\n",
      "몰리스픽 반려견 패드 M 100매\n",
      "국민가격 DTC 치킨고구마 져키 1kg\n",
      "몰리스 미끄러지지 않는 패드 M 80매\n",
      "몰리스 쉬야응가 1회용 패드 M 100매\n",
      "템테이션 고소한 참치맛 75g\n",
      "건강한간식 순살듬뿍 안심치킨 300g\n",
      "치킨 슬라이스 1kg\n",
      "몰리스 미니 닭가슴살과 연어\n",
      "포켄스 덴탈스틱 후레시 칼슘 S 작은별 220g\n",
      "템테이션 믹스업 참치 연어 새우맛 75g\n",
      "츄잉스틱 플레인요거트 250g\n",
      "자연소재 양고기육포&쌀 460g\n",
      "밥이보약 Dog 튼튼한 관절 8kg (네오2 유통기한 23.10.17)\n",
      "템테이션 풍부한 해산물 맛75g\n",
      "몰리스 3~4회용 패드 L 35매\n",
      "포켄스 덴탈스틱 후레시 블루베리 S 작은별 220g\n",
      "[몰리스]프로발란스 어덜트 8kg\n",
      "(이마트가 직접 수입한) 딱 한번 반려견 패드 M 200매\n",
      "자연소재 소고기육포스틱 180g\n",
      "국민 두부 고양이 모래(오리지널)\n",
      "포켄스 덴티페어리 M 75g\n",
      "포켄스 덴티페어리 SS 150g\n",
      "맥시 비프져키 800g\n",
      "몰리스미니참치와도미\n",
      "[포켄스] 덴티 페어리(소)\n",
      "원더푸드 반려견 고구마말랭이 간식 1kg\n",
      "챠오 츄루 참치 4개입\n",
      "챠오 츄르 참치/해물믹스맛 20개입\n",
      "순살간식 오리고기 순살 300g\n",
      "해피밀 황태와 소고기 1.2kg\n",
      "몰리스 미끄러지지 않는 패드 L 35매\n",
      "포켄스 덴탈스틱 후레시 오메가3 S 작은별 220g\n",
      "몰리스픽 전연령 반려묘사료 15KG\n",
      "몰리스 닭가슴살과흰살생선\n",
      "슈퍼츄 터키츄 본S 10개입\n",
      "Think your Dog Teeth 소고기우유껌 15P\n",
      "[시저] 연어와 감자 (100g*3개)\n",
      "몰리스 3~4회용 패드 M 80매\n",
      "반려묘사료 10kg\n",
      "몰리스 크런치홀릭 닭고기 60g\n",
      "템테이션 연어맛 75g\n",
      "[쉬바] 참치 흰 살과 도미와 그레이비 소스 85g\n",
      "칠면조힘줄 스트립 85g\n",
      "챠오 츄르 닭가슴살 4개입\n",
      "몰리스픽 전연령 반려묘사료 5KG\n",
      "Natural 밀크스틱27P(80g)\n",
      "몰리스미니참치와게맛살\n",
      "[시저 Cesar] 비프 사료 100g*3\n",
      "후코홀릭 명태베리\n",
      "[쉬바] 촉촉한 닭가슴살과 그레이비 소스 85g\n",
      "위스카스 캣 주니어 포켓 오션피쉬 1.1kg (2~12개월)\n",
      "해피밀 황태와 오리 1.2kg\n",
      "몰리스 크런치홀릭 연어 60g\n",
      "국민 두부 고양이 모래(녹차)\n",
      "헌터본 연어 16P 240g\n",
      "챠오 츄르 가다랑어 4개입\n",
      "해피밀 황태와 연어 1.2kg\n",
      "몰리스 쉬야응가 1회용 패드 XL 40매\n",
      "템테이션 부드러운 우유맛 75g\n",
      "[시저] 흰살생선과 야채 (100g*3개)\n",
      "슈퍼츄 터키츄 링S 1개입\n",
      "내츄럴랩 건강한치즈 애견간식 요거트 스틱 100g\n",
      "보양대첩 쿨링 30g캔 *8입\n",
      "자연소재 오리고기 육포스틱 460g\n",
      "츄르비 닭가슴살&구운가다랑어 4개입\n",
      "몰리스 냄새잡는 패드 M 80매\n",
      "츄잉스틱 딸기요거트 250g\n",
      "가 직접 수입한 치킨 화이트본 S 13개입\n",
      "몰리스 치즈 화이트스틱껌 치킨 270g\n"
     ]
    }
   ],
   "source": [
    "for webelement in elements:\n",
    "    print(webelement.text)"
   ]
  },
  {
   "cell_type": "markdown",
   "id": "4143030d-38c6-4315-8dd1-b83d1aa99ade",
   "metadata": {
    "tags": []
   },
   "source": [
    "### 여러개 element from bundle Webelement"
   ]
  },
  {
   "cell_type": "code",
   "execution_count": 19,
   "id": "82c0ff38-4992-47ea-a906-913d1aaf399d",
   "metadata": {
    "tags": []
   },
   "outputs": [
    {
     "data": {
      "text/plain": [
       "selenium.webdriver.remote.webelement.WebElement"
      ]
     },
     "execution_count": 19,
     "metadata": {},
     "output_type": "execute_result"
    }
   ],
   "source": [
    "element_bundle_path = 'li.mnemitem_grid_item.swiper-slide.swiper-slide-active > div'\n",
    "element_bundle = browser.find_element_by_css_selector(element_bundle_path)\n",
    "type(element_bundle)"
   ]
  },
  {
   "cell_type": "code",
   "execution_count": 20,
   "id": "e30bdd9e-04fb-40e6-ae36-f6cafa721ee3",
   "metadata": {
    "tags": []
   },
   "outputs": [
    {
     "data": {
      "text/plain": [
       "\"장바구니 담기\\n쓱배송\\n새벽배송 가능\\nMOLLY'S 몰리스 쉬야응가 1회용 패드 L 50매\\n판매가격\\n13,900\\n원\\n1포 당 278원\\n상품평점 5점 만점에\\n4.9\\n상품평 개수\\n(1,478)\""
      ]
     },
     "execution_count": 20,
     "metadata": {},
     "output_type": "execute_result"
    }
   ],
   "source": [
    "element_bundle.text"
   ]
  },
  {
   "cell_type": "code",
   "execution_count": 34,
   "id": "0b334d06-188b-43d6-8b4d-7e902ff9276c",
   "metadata": {
    "tags": []
   },
   "outputs": [
    {
     "data": {
      "text/plain": [
       "['몰리스 치즈 화이트스틱껌 치킨 270g',\n",
       " '11,000',\n",
       " '',\n",
       " 'https://sitem.ssgcdn.com/80/43/69/item/1000265694380_i1_290.jpg']"
      ]
     },
     "execution_count": 34,
     "metadata": {},
     "output_type": "execute_result"
    }
   ],
   "source": [
    "# 회사명, 제품명, 가격, 단위 가격, 선호도, 해쉬태그(hashtags)\n",
    "title = element_bundle.find_element_by_css_selector('.mnemitem_goods_tit').text\n",
    "price = element_bundle.find_element_by_css_selector('.ssg_price').text\n",
    "try :\n",
    "    hashtags = element_bundle.find_element_by_css_selector('.mnemitem_tag_linkarea').text\n",
    "except :\n",
    "    hashtags = str()\n",
    "image_src = element_bundle.find_element_by_css_selector('.mnemitem_thmb_img').get_attribute('src')\n",
    "\n",
    "import urllib.request \n",
    "urllib.request.urlretrieve(image_src)\n",
    "\n",
    "[title, price, hashtags, image_src]"
   ]
  },
  {
   "cell_type": "markdown",
   "id": "a27712ae-6a0c-4b43-afa9-d596e1a38787",
   "metadata": {},
   "source": [
    "### 묶음에서 list 만들기"
   ]
  },
  {
   "cell_type": "code",
   "execution_count": 29,
   "id": "ad3435e5-4820-460a-afd1-af07f377e1e2",
   "metadata": {
    "tags": []
   },
   "outputs": [
    {
     "name": "stdout",
     "output_type": "stream",
     "text": [
      "100\n"
     ]
    }
   ],
   "source": [
    "elements_bundle_path = 'div.mnemitem_unit'\n",
    "elements_bundle = browser.find_elements_by_css_selector(elements_bundle_path)\n",
    "print(len(element_bundle))"
   ]
  },
  {
   "cell_type": "code",
   "execution_count": 31,
   "id": "254e26c7-1da2-42b1-b2a0-06af0dce4b3e",
   "metadata": {
    "tags": []
   },
   "outputs": [],
   "source": [
    "elements_bundle_list = list()\n",
    "\n",
    "for element_bundle in elements_bundle:\n",
    "    title = element_bundle.find_element_by_css_selector('.mnemitem_goods_tit').text\n",
    "    price = element_bundle.find_element_by_css_selector('.ssg_price').text\n",
    "\n",
    "    try :\n",
    "        hashtags = element_bundle.find_element_by_css_selector('mnemitem_tag_linkarea').text\n",
    "    except :\n",
    "        hashtags = str()\n",
    "    \n",
    "    element_bundle_list = [title, price, hashtags]\n",
    "    elements_bundle_list.append(element_bundle_list)"
   ]
  },
  {
   "cell_type": "code",
   "execution_count": 32,
   "id": "735bdad7-8a8c-4d93-ac01-57f42f8f2542",
   "metadata": {
    "tags": []
   },
   "outputs": [
    {
     "data": {
      "text/plain": [
       "[['몰리스 쉬야응가 1회용 패드 L 50매', '13,900', ''],\n",
       " ['몰리스 쉬야응가 1회용 패드 L 50매', '13,900', ''],\n",
       " ['몰리스 쉬야응가 1회용 패드 M 100매', '13,900', ''],\n",
       " ['몰리스 쉬야응가 1회용 패드 M 100매', '13,900', ''],\n",
       " ['', '', ''],\n",
       " ['', '', ''],\n",
       " ['', '', ''],\n",
       " ['', '', ''],\n",
       " ['', '', ''],\n",
       " ['', '', ''],\n",
       " ['', '', ''],\n",
       " ['', '', ''],\n",
       " ['', '', ''],\n",
       " ['', '', ''],\n",
       " ['', '', ''],\n",
       " ['', '', ''],\n",
       " ['', '', ''],\n",
       " ['', '', ''],\n",
       " ['', '', ''],\n",
       " ['', '', ''],\n",
       " ['반려견패드(중)40*50cm*100매', '8,480', ''],\n",
       " ['반려견패드(대)60*70cm*45매', '8,480', ''],\n",
       " ['순살듬뿍 치킨말이스틱 30P (300g)', '9,900', ''],\n",
       " ['순살듬뿍 오리말이스틱 30P (300g)', '9,900', ''],\n",
       " ['건강한간식 순살듬뿍 고구마 오리말이 300g', '9,900', ''],\n",
       " ['건강한간식 순살듬뿍 고구마 치킨말이 300g', '9,900', ''],\n",
       " ['몰리스픽 반려견 패드 L 45매', '8,500', ''],\n",
       " ['건강한간식 순살듬뿍 안심오리 300g', '13,000', ''],\n",
       " ['반려견 사료 10kg', '14,980', ''],\n",
       " ['몰리스 화이트 스틱껌 소프트치킨 400g', '11,000', ''],\n",
       " ['템테이션 맛있는 닭고기맛 75g', '4,300', ''],\n",
       " ['몰리스픽 반려견 패드 M 100매', '8,500', ''],\n",
       " ['국민가격 DTC 치킨고구마 져키 1kg', '12,000', ''],\n",
       " ['몰리스 미끄러지지 않는 패드 M 80매', '19,900', ''],\n",
       " ['몰리스 쉬야응가 1회용 패드 M 100매', '13,900', ''],\n",
       " ['템테이션 고소한 참치맛 75g', '4,300', ''],\n",
       " ['건강한간식 순살듬뿍 안심치킨 300g', '13,000', ''],\n",
       " ['치킨 슬라이스 1kg', '23,000', ''],\n",
       " ['몰리스 미니 닭가슴살과 연어', '4,200', ''],\n",
       " ['포켄스 덴탈스틱 후레시 칼슘 S 작은별 220g', '10,500', ''],\n",
       " ['템테이션 믹스업 참치 연어 새우맛 75g', '4,300', ''],\n",
       " ['츄잉스틱 플레인요거트 250g', '5,480', ''],\n",
       " ['자연소재 양고기육포&쌀 460g', '12,500', ''],\n",
       " ['밥이보약 Dog 튼튼한 관절 8kg (네오2 유통기한 23.10.17)', '85,800', ''],\n",
       " ['템테이션 풍부한 해산물 맛75g', '4,300', ''],\n",
       " ['몰리스 3~4회용 패드 L 35매', '21,500', ''],\n",
       " ['포켄스 덴탈스틱 후레시 블루베리 S 작은별 220g', '10,500', ''],\n",
       " ['[몰리스]프로발란스 어덜트 8kg', '24,500', ''],\n",
       " ['(이마트가 직접 수입한) 딱 한번 반려견 패드 M 200매', '14,900', ''],\n",
       " ['자연소재 소고기육포스틱 180g', '7,500', ''],\n",
       " ['국민 두부 고양이 모래(오리지널)', '6,900', ''],\n",
       " ['포켄스 덴티페어리 M 75g', '4,800', ''],\n",
       " ['포켄스 덴티페어리 SS 150g', '9,900', ''],\n",
       " ['맥시 비프져키 800g', '13,500', ''],\n",
       " ['몰리스미니참치와도미', '4,200', ''],\n",
       " ['[포켄스] 덴티 페어리(소)', '4,800', ''],\n",
       " ['원더푸드 반려견 고구마말랭이 간식 1kg', '15,900', ''],\n",
       " ['챠오 츄루 참치 4개입', '3,000', ''],\n",
       " ['챠오 츄르 참치/해물믹스맛 20개입', '13,500', ''],\n",
       " ['순살간식 오리고기 순살 300g', '8,980', ''],\n",
       " ['해피밀 황태와 소고기 1.2kg', '14,300', ''],\n",
       " ['몰리스 미끄러지지 않는 패드 L 35매', '19,900', ''],\n",
       " ['포켄스 덴탈스틱 후레시 오메가3 S 작은별 220g', '10,500', ''],\n",
       " ['몰리스픽 전연령 반려묘사료 15KG', '49,500', ''],\n",
       " ['몰리스 닭가슴살과흰살생선', '4,200', ''],\n",
       " ['슈퍼츄 터키츄 본S 10개입', '9,900', ''],\n",
       " ['Think your Dog Teeth 소고기우유껌 15P', '7,900', ''],\n",
       " ['[시저] 연어와 감자 (100g*3개)', '6,200', ''],\n",
       " ['몰리스 3~4회용 패드 M 80매', '21,500', ''],\n",
       " ['반려묘사료 10kg', '25,980', ''],\n",
       " ['몰리스 크런치홀릭 닭고기 60g', '2,800', ''],\n",
       " ['템테이션 연어맛 75g', '4,300', ''],\n",
       " ['[쉬바] 참치 흰 살과 도미와 그레이비 소스 85g', '2,400', ''],\n",
       " ['칠면조힘줄 스트립 85g', '16,800', ''],\n",
       " ['챠오 츄르 닭가슴살 4개입', '3,000', ''],\n",
       " ['몰리스픽 전연령 반려묘사료 5KG', '19,000', ''],\n",
       " ['Natural 밀크스틱27P(80g)', '6,100', ''],\n",
       " ['몰리스미니참치와게맛살', '4,200', ''],\n",
       " ['[시저 Cesar] 비프 사료 100g*3', '6,200', ''],\n",
       " ['후코홀릭 명태베리', '9,800', ''],\n",
       " ['[쉬바] 촉촉한 닭가슴살과 그레이비 소스 85g', '2,400', ''],\n",
       " ['위스카스 캣 주니어 포켓 오션피쉬 1.1kg (2~12개월)', '10,900', ''],\n",
       " ['해피밀 황태와 오리 1.2kg', '14,300', ''],\n",
       " ['몰리스 크런치홀릭 연어 60g', '2,800', ''],\n",
       " ['국민 두부 고양이 모래(녹차)', '6,900', ''],\n",
       " ['헌터본 연어 16P 240g', '10,000', ''],\n",
       " ['챠오 츄르 가다랑어 4개입', '3,000', ''],\n",
       " ['해피밀 황태와 연어 1.2kg', '14,300', ''],\n",
       " ['몰리스 쉬야응가 1회용 패드 XL 40매', '13,900', ''],\n",
       " ['템테이션 부드러운 우유맛 75g', '4,300', ''],\n",
       " ['[시저] 흰살생선과 야채 (100g*3개)', '6,200', ''],\n",
       " ['슈퍼츄 터키츄 링S 1개입', '1,090', ''],\n",
       " ['내츄럴랩 건강한치즈 애견간식 요거트 스틱 100g', '4,700', ''],\n",
       " ['보양대첩 쿨링 30g캔 *8입', '10,700', ''],\n",
       " ['자연소재 오리고기 육포스틱 460g', '12,500', ''],\n",
       " ['츄르비 닭가슴살&구운가다랑어 4개입', '3,500', ''],\n",
       " ['몰리스 냄새잡는 패드 M 80매', '19,900', ''],\n",
       " ['츄잉스틱 딸기요거트 250g', '5,480', ''],\n",
       " ['가 직접 수입한 치킨 화이트본 S 13개입', '10,000', ''],\n",
       " ['몰리스 치즈 화이트스틱껌 치킨 270g', '11,000', '']]"
      ]
     },
     "execution_count": 32,
     "metadata": {},
     "output_type": "execute_result"
    }
   ],
   "source": [
    "elements_bundle_list"
   ]
  },
  {
   "cell_type": "code",
   "execution_count": 8,
   "id": "5f788ee7-1c75-4f49-bf69-c87d051fd5fe",
   "metadata": {
    "tags": []
   },
   "outputs": [],
   "source": [
    "browser.quit()"
   ]
  },
  {
   "cell_type": "code",
   "execution_count": null,
   "id": "a9e4b495-ce98-4af8-93d4-7294acab8268",
   "metadata": {},
   "outputs": [],
   "source": []
  }
 ],
 "metadata": {
  "kernelspec": {
   "display_name": "Python 3 (ipykernel)",
   "language": "python",
   "name": "python3"
  },
  "language_info": {
   "codemirror_mode": {
    "name": "ipython",
    "version": 3
   },
   "file_extension": ".py",
   "mimetype": "text/x-python",
   "name": "python",
   "nbconvert_exporter": "python",
   "pygments_lexer": "ipython3",
   "version": "3.11.3"
  }
 },
 "nbformat": 4,
 "nbformat_minor": 5
}
