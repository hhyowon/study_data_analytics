{
 "cells": [
  {
   "cell_type": "code",
   "execution_count": 19,
   "id": "bc50ef21-5683-420f-b9c1-39c0104e5410",
   "metadata": {
    "tags": []
   },
   "outputs": [],
   "source": [
    "from selenium import webdriver"
   ]
  },
  {
   "cell_type": "code",
   "execution_count": 20,
   "id": "c1ba632e-1bef-4254-9610-aa7f090e379c",
   "metadata": {
    "tags": []
   },
   "outputs": [],
   "source": [
    "browser = webdriver.Chrome(executable_path='../../../../chromedriver.exe')"
   ]
  },
  {
   "cell_type": "code",
   "execution_count": 21,
   "id": "8b7956cc-d0be-47d2-abbb-34f9a046176f",
   "metadata": {
    "tags": []
   },
   "outputs": [],
   "source": [
    "browser.get('https://play.google.com/store/search?q=%ED%97%AC%EC%8A%A4%EC%BC%80%EC%96%B4%EC%95%B1&c=apps&hl=ko-KR')"
   ]
  },
  {
   "cell_type": "code",
   "execution_count": 22,
   "id": "81e8d835-1591-442f-b6c9-d9367c98ac36",
   "metadata": {
    "tags": []
   },
   "outputs": [],
   "source": [
    "browser.implicitly_wait(10)"
   ]
  },
  {
   "cell_type": "markdown",
   "id": "21472b52-1c5b-41f2-822a-87eafccadec3",
   "metadata": {},
   "source": [
    "## 제품 클릭\n",
    "section > div > div > div > div:nth-child(2) > div > div > div "
   ]
  },
  {
   "cell_type": "code",
   "execution_count": 24,
   "id": "afc99793-cf8a-4d00-b8d2-dcacf524a6d4",
   "metadata": {
    "tags": []
   },
   "outputs": [
    {
     "data": {
      "text/plain": [
       "30"
      ]
     },
     "execution_count": 24,
     "metadata": {},
     "output_type": "execute_result"
    }
   ],
   "source": [
    "click_path = 'section > div > div > div > div'\n",
    "company_list = browser.find_elements_by_css_selector(click_path)\n",
    "len(company_list)"
   ]
  },
  {
   "cell_type": "markdown",
   "id": "f8af6d01-5ad6-4966-bc40-199ef137a98e",
   "metadata": {
    "tags": []
   },
   "source": [
    "## 제품 정보\n",
    "- 서비스명 tag : div > h1 > span\n",
    "- 만든 회사 : div.Il7kR > div > div > div > a > span\n",
    "- 앱정보 tag : div:nth-child(1) > c-wiz:nth-child(2) > div > section > div "
   ]
  },
  {
   "cell_type": "code",
   "execution_count": 6,
   "id": "b289dfdc-dd9f-4024-a59d-28f81fb0ef8a",
   "metadata": {
    "tags": []
   },
   "outputs": [
    {
     "data": {
      "text/plain": [
       "['Samsung Health(삼성 헬스)',\n",
       " 'Samsung Electronics Co., Ltd.',\n",
       " '나를 위한 건강한 습관, Samsung Health(삼성 헬스)와 시작해 보세요\\n\\n삼성 헬스에는 당신의 건강 관리에 도움을 주는 많은 기능이 포함되어 있습니다. 앱을 사용하는 것만으로도 다양한 활동이 자동으로 기록되어, 쉽고 간편하게 건강한 라이프스타일을 만들 수 있도록 도와줍니다\\n\\n홈화면에서는 다양한 건강 기록을 확인할 수 있습니다. 화면을 길게 눌러 걸음 수, 활동시간, 체중 등 관리하고 싶은 항목을 쉽게 추가하고 편집해 보세요\\n\\n달리기, 자전거 타기, 수영 등 삼성 헬스는 여러분의 피트니스 활동을 기록하고 관리할 수 있도록 도와줍니다. 갤럭시 워치를 함께 사용하면 Life Fitness, Technogym, Corehealth 등의 장비와 쉽게 연결하고 운동기록을 연동할 수 있습니다\\n\\n매일 하루의 식사와 간식을 기록하고 건강한 식습관을 길러 보세요\\n\\n내 수준에 맞는 목표를 세우고 활동량, 운동 강도, 수면 상태, 심박, 스트레스, 혈중 산소 등 매일의 상태를 기록하세요\\n\\n갤럭시 워치를 이용하여 수면 패턴을 더 상세하게 모니터링해 보세요. 수면 단계와 수면 점수를 통해 수면의 질을 개선하고 매일 더욱 상쾌한 기분으로 아침을 맞이할 수 있습니다\\n\\n더 건강해질 수 있도록 삼성 헬스의 투게더 기능을 사용하여 친구와 가족에게 재밌고 다양한 방법으로 도전하세요\\n\\n스트레칭, 체중 감량, 지구력 훈련 등 새로운 프로그램을 가르쳐줄 전문 코치들의 동영상을 준비했습니다\\n\\n하루 동안 쌓인 스트레스를 푸는 데 도움이 되는 마음챙김으로 하루를 마무리하세요\\n\\n(일부 콘텐츠는 추가 비용이 발생할 수 있습니다. 콘텐츠는 영어, 독일어, 스페인어, 프랑스어, 포르투갈어, 한국어 등으로 제공되며, 추후 변경될 수 있습니다)\\n\\n여성 건강 서비스는 파트너인 Glow를 통해 월경 주기 트래킹, 관련 증상 관리, 그리고 개인화된 통찰력과 콘텐츠를 활용하여 당신에게 도움을 드립니다. 갤럭시와 모든 웨어러블은 우리가 사랑하는 여성들의 모든 삶을 지원할 준비가 되어 있습니다\\n\\nSamsung Health 데이터는 더욱 강력히 보호됩니다. 2016년 여름 이후 출시 모델에서는 Samsung Health에 Knox 보안이 적용되어 더 강력한 데이터 암호화가 제공됩니다. 단, 루팅 단말에서 Samsung Health 사용은 불가능해집니다\\n\\n사용 환경\\n안드로이드 기기 OS 8.0 (Oreo) 이상\\n태블릿과 일부 모바일 기기에서는 지원되지 않으며, 세부 기능은 이용자 거주 국가, 지역, 통신사업자, 기기의 모델 등에 따라 다름\\n영어, 프랑스어, 중국어 등 약 70개 언어로 제공되며 그 밖의 언어를 사용하는 지역은 영어 버전 지원\\n신체 단련 및 건강을 위한 용도로만 사용해야 하며, 질병이나 기타 상태의 진단 또는 질병의 치유, 완화, 치료, 예방 용도로 사용할 수 없음\\n\\n**접근권한 안내\\n서비스 제공을 위해 다음과 같은 접근권한을 필요로 합니다.\\n선택적 접근권한의 경우 허용하지 않더라도 서비스의 기본 기능의 사용은 가능합니다.\\n\\n[필수적 접근권한]\\n- 전화 : 투게더 서비스 사용 시, 사용자 등록을 위한 전화번호 확인\\n\\n[선택적 접근권한]\\n- 위치 : 운동 또는 걷기 중 사용자의 위치 정보 수집, 운동 경로 지도 표시, 운동 중 날씨 표시\\n- 인체 감지 센서 : HR, SpO2, Stress 기능에서 심박센서 사용 (HR&Stress : 해당 센서가 탑재된 플래그십 모델인 Galaxy S5~Galaxy S10에 한정 / SpO2 : 해당 센서가 탑재된 플래그십 모델인 Galaxy Note4~Galaxy S10에 한정)\\n- 저장공간 : 운동정보를 export/import 하기, 운동사진 저장, 음식 사진 저장 및 로딩\\n- 연락처 : 삼성 계정 로그인 여부 확인, 투게더 기능 사용 시, 친구 목록을 생성하기 위해 사용\\n- 카메라 : 투게더 기능에서 친구 추가 시 QR코드 스캔, 음식 사진 촬영, 혈당/혈압 장치 숫자 인식\\n- 신체 활동 : 걸음 수 및 운동 인식\\n- 마이크 : 수면 중 코골이 감지 위해 오디오 녹음\\n- 근처 기기 : Galaxy Watch 및 기타 액세서리를 포함하여 주변 기기를 검색하고 연결\\n----\\n개발자 연락처 :\\n02-2255-0114\\n업데이트 날짜\\n2023. 9. 3.\\n건강/운동']"
      ]
     },
     "execution_count": 6,
     "metadata": {},
     "output_type": "execute_result"
    }
   ],
   "source": [
    "service_name = browser.find_element_by_css_selector('div > h1 > span').text\n",
    "company_name = browser.find_element_by_css_selector('div.Il7kR > div > div > div > a > span').text\n",
    "app_information = browser.find_element_by_css_selector('div:nth-child(1) > c-wiz:nth-child(2) > div > section > div').text\n",
    "\n",
    "[service_name,company_name,app_information]"
   ]
  },
  {
   "cell_type": "markdown",
   "id": "9e7e0af6-87f2-43aa-8922-6fd0d25b4662",
   "metadata": {},
   "source": [
    "## 리뷰 모두 보기\n",
    "- click tag : div:nth-child(5) > div > div > button > span"
   ]
  },
  {
   "cell_type": "code",
   "execution_count": 7,
   "id": "677adca1-7802-4e43-a1e4-4e071eb138f0",
   "metadata": {
    "tags": []
   },
   "outputs": [],
   "source": [
    "import time\n",
    "time.sleep(2)"
   ]
  },
  {
   "cell_type": "code",
   "execution_count": 8,
   "id": "862037db-211f-4f7d-8f78-36167be00d01",
   "metadata": {
    "tags": []
   },
   "outputs": [],
   "source": [
    "browser.find_element_by_xpath('//*/div/div/button/*[contains(text(), \"리뷰\")]').click()"
   ]
  },
  {
   "cell_type": "markdown",
   "id": "57ade5b2-80f8-4698-969e-d495e38c7d5f",
   "metadata": {},
   "source": [
    "## 리뷰 내용 가져오기\n",
    "- 리뷰 묶음 tag : div.fysCi > div > div:nth-child(2) > div\n",
    "- 내용 tag : div.h3YV2d\n",
    "- 날짜 tag : header > div.Jx4nYe > span\n",
    "- 별점 tag : header > div.Jx4nYe > div"
   ]
  },
  {
   "cell_type": "code",
   "execution_count": 9,
   "id": "cebc86df-831d-469d-9039-5dc3dc070133",
   "metadata": {
    "tags": []
   },
   "outputs": [
    {
     "data": {
      "text/plain": [
       "40"
      ]
     },
     "execution_count": 9,
     "metadata": {},
     "output_type": "execute_result"
    }
   ],
   "source": [
    "reviews_bundle = browser.find_elements_by_css_selector('div.fysCi > div > div:nth-child(2) > div')\n",
    "len(reviews_bundle)"
   ]
  },
  {
   "cell_type": "code",
   "execution_count": 10,
   "id": "129f913c-f679-499c-b316-3cf798f39e9f",
   "metadata": {},
   "outputs": [],
   "source": [
    "content = reviews_bundle[0].find_element_by_css_selector('div.h3YV2d').text\n",
    "date = reviews_bundle[0].find_element_by_css_selector('header > div.Jx4nYe > span').text\n",
    "stars = reviews_bundle[0].find_element_by_css_selector('header > div.Jx4nYe > div').get_attribute('aria-label')"
   ]
  },
  {
   "cell_type": "code",
   "execution_count": 11,
   "id": "8691044e-f253-4436-ab5f-fd3cb3b313f6",
   "metadata": {
    "tags": []
   },
   "outputs": [
    {
     "data": {
      "text/plain": [
       "['원래 되게 유용하게 사용했었는데 이번 업데이트로 너무 불편하게 됐습니다. 운동 화면에 심박수 수치도 숫자가 사라지고 그래프만 나와서 정확히 보려면 따로 들어가야 보이고 기타 여러 사항들도 다 사라지고. 업데이트를 했는데 왜 기능들이 후퇴했는지 의문입니다. 다시 이전 화면으로 돌려주세요. 그게 안되면 다운그레이드라도 할 수 있게 해주세요.',\n",
       " '2023년 8월 23일',\n",
       " '별표 5개 만점에 3개를 받았습니다.']"
      ]
     },
     "execution_count": 11,
     "metadata": {},
     "output_type": "execute_result"
    }
   ],
   "source": [
    "[content,date,stars]"
   ]
  },
  {
   "cell_type": "code",
   "execution_count": null,
   "id": "6783070a-983a-4e87-bbe1-7cf9b1acc5b0",
   "metadata": {},
   "outputs": [],
   "source": []
  },
  {
   "cell_type": "code",
   "execution_count": null,
   "id": "b5ffba2c-d09b-4a5d-9521-c53741946efa",
   "metadata": {},
   "outputs": [],
   "source": []
  },
  {
   "cell_type": "code",
   "execution_count": null,
   "id": "52d07639-4696-456a-b4a7-80be5e04b25b",
   "metadata": {},
   "outputs": [],
   "source": [
    "\n"
   ]
  }
 ],
 "metadata": {
  "kernelspec": {
   "display_name": "Python 3 (ipykernel)",
   "language": "python",
   "name": "python3"
  },
  "language_info": {
   "codemirror_mode": {
    "name": "ipython",
    "version": 3
   },
   "file_extension": ".py",
   "mimetype": "text/x-python",
   "name": "python",
   "nbconvert_exporter": "python",
   "pygments_lexer": "ipython3",
   "version": "3.11.3"
  }
 },
 "nbformat": 4,
 "nbformat_minor": 5
}
