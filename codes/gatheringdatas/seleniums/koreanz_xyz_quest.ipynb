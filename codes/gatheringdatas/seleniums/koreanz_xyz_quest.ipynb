{
 "cells": [
  {
   "cell_type": "markdown",
   "id": "01532fa9-8994-4cfa-9e81-3dc622d49230",
   "metadata": {},
   "source": [
    "## Quest\n",
    "- Scraping 대상 사이트 : 코리언즈\n",
    "- 상세 메뉴 중 선택\n",
    "- 1page ~ 10page까지 정보 수집\n",
    "- 게시물 번호, 제목, 게시날짜, 조회수, 상세 채널 리스트(채널명, 링크)"
   ]
  },
  {
   "cell_type": "code",
   "execution_count": 1,
   "id": "d39de5c8-de9c-430a-ab99-afb7a0e07d1c",
   "metadata": {
    "tags": []
   },
   "outputs": [],
   "source": [
    "from selenium import webdriver"
   ]
  },
  {
   "cell_type": "code",
   "execution_count": 2,
   "id": "7b9ffc53-56f5-457e-b8e3-ce49cbd18df2",
   "metadata": {
    "tags": []
   },
   "outputs": [],
   "source": [
    "browser = webdriver.Chrome(executable_path='../../../../chromedriver.exe')"
   ]
  },
  {
   "cell_type": "code",
   "execution_count": null,
   "id": "ae16a540-6e6a-48b6-bbee-13edd441fdb4",
   "metadata": {},
   "outputs": [],
   "source": [
    "browser.implicitly_wait(10)\n",
    "browser.get('https://a73.koreanz.xyz/bbs/board.php?bo_table=tvdrama')"
   ]
  },
  {
   "cell_type": "markdown",
   "id": "3c350613-112a-4122-9b29-a463c54baa94",
   "metadata": {},
   "source": [
    "### paginations\n",
    "-  1page ~ 10page까지 정보 수집\n",
    "- #fboardlist > div.list-board > ul > li:nth-child(1) > div.wr-subject > a"
   ]
  },
  {
   "cell_type": "code",
   "execution_count": null,
   "id": "638241bc-4097-41b8-860f-875901a9dbcf",
   "metadata": {},
   "outputs": [],
   "source": [
    "browser.implicitly_wait(10)"
   ]
  },
  {
   "cell_type": "code",
   "execution_count": null,
   "id": "dd51ccd4-87c7-4ffb-9a42-eec749daf9b0",
   "metadata": {},
   "outputs": [],
   "source": [
    "element_title_path = '.mnemitem_goods_tit'\n",
    "webelements = browser.find_elements_by_css_selector(element_title_path)\n",
    "for webelement in webelements:\n",
    "    try :\n",
    "        print(webelement.text)\n",
    "    except :\n",
    "        pass"
   ]
  },
  {
   "cell_type": "code",
   "execution_count": 3,
   "id": "4d157e07-3d96-4f41-a346-4d56a7fcfcb3",
   "metadata": {
    "tags": []
   },
   "outputs": [
    {
     "name": "stdout",
     "output_type": "stream",
     "text": [
      "실패 : div.paginate > div > a:nth-of-type(1)\n",
      "실패 : div.paginate > div > a:nth-of-type(2)\n",
      "실패 : div.paginate > div > a:nth-of-type(3)\n",
      "실패 : div.paginate > div > a:nth-of-type(4)\n",
      "실패 : div.paginate > div > a:nth-of-type(5)\n",
      "실패 : div.paginate > div > a:nth-of-type(6)\n",
      "실패 : div.paginate > div > a:nth-of-type(7)\n",
      "실패 : div.paginate > div > a:nth-of-type(8)\n",
      "실패 : div.paginate > div > a:nth-of-type(9)\n"
     ]
    }
   ],
   "source": [
    "import time\n",
    "\n",
    "for page_number in range(1, 10):  # 첫 페이지는 tag 달라짐\n",
    "    element_path = 'div.paginate > div > a:nth-of-type({})'.format(page_number)\n",
    "    try :\n",
    "        pagination = browser.find_element_by_css_selector(element_path)\n",
    "        pagination.click()    \n",
    "        print('성공 : {}'.format(element_path))\n",
    "        \n",
    "        time.sleep(3)\n",
    "        element_title_path = '.mnemitem_goods_tit'\n",
    "        webelements = browser.find_elements_by_css_selector(element_title_path)\n",
    "        \n",
    "        for webelement in webelements:\n",
    "            try :\n",
    "                print(webelement.text)\n",
    "            except :\n",
    "                pass\n",
    "        \n",
    "    except :\n",
    "        print('실패 : {}'.format(element_path))\n",
    "        pass\n",
    "\n"
   ]
  },
  {
   "cell_type": "code",
   "execution_count": null,
   "id": "a8102d95-1162-44df-a2e7-364138223e9c",
   "metadata": {},
   "outputs": [],
   "source": []
  }
 ],
 "metadata": {
  "kernelspec": {
   "display_name": "Python 3 (ipykernel)",
   "language": "python",
   "name": "python3"
  },
  "language_info": {
   "codemirror_mode": {
    "name": "ipython",
    "version": 3
   },
   "file_extension": ".py",
   "mimetype": "text/x-python",
   "name": "python",
   "nbconvert_exporter": "python",
   "pygments_lexer": "ipython3",
   "version": "3.11.3"
  }
 },
 "nbformat": 4,
 "nbformat_minor": 5
}
