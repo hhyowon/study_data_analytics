{
 "cells": [
  {
   "cell_type": "markdown",
   "id": "cdcc79c9-7346-486d-b64c-347b9be3aa2c",
   "metadata": {},
   "source": [
    "## Github signin"
   ]
  },
  {
   "cell_type": "code",
   "execution_count": 1,
   "id": "9da1868a-a64d-442c-ab2e-94dcc6a45a85",
   "metadata": {
    "tags": []
   },
   "outputs": [
    {
     "data": {
      "text/plain": [
       "selenium.webdriver.chrome.webdriver.WebDriver"
      ]
     },
     "execution_count": 1,
     "metadata": {},
     "output_type": "execute_result"
    }
   ],
   "source": [
    "from selenium import webdriver\n",
    "import pandas as pd\n",
    "browser = webdriver.Chrome(executable_path='../../../../chromedriver.exe')\n",
    "browser.get('https://github.com/')\n",
    "type(browser)"
   ]
  },
  {
   "cell_type": "markdown",
   "id": "611c83f5-2933-4959-8cd1-b4ec0d699b25",
   "metadata": {},
   "source": [
    "### Login 화면 링크 tag\n",
    "- 접힘 메뉴 tag : body > div.logged-out.env-production.page-responsive.header-overlay.home-campaign > div.position-relative.js-header-wrapper > header > div > div.d-flex.flex-justify-between.flex-items-center.width-full.width-lg-auto > div.flex-1.flex-order-2.text-right > button > span > span\n",
    "- click tag : div > div > div > a.HeaderMenu-link.HeaderMenu-link--sign-in"
   ]
  },
  {
   "cell_type": "code",
   "execution_count": 2,
   "id": "c29dedcf-a813-41df-b5da-e92edb3a4b15",
   "metadata": {
    "tags": []
   },
   "outputs": [],
   "source": [
    "element_path = 'body > div.logged-out.env-production.page-responsive.header-overlay.home-campaign > div.position-relative.js-header-wrapper > header > div > div.d-flex.flex-justify-between.flex-items-center.width-full.width-lg-auto > div.flex-1.flex-order-2.text-right > button > span > span'\n",
    "callapsed_menu = browser.find_element_by_css_selector(element_path)\n",
    "callapsed_menu.click()"
   ]
  },
  {
   "cell_type": "code",
   "execution_count": 3,
   "id": "64d77901-63d9-4f66-9674-f2b5923200fa",
   "metadata": {
    "tags": []
   },
   "outputs": [
    {
     "data": {
      "text/plain": [
       "selenium.webdriver.remote.webelement.WebElement"
      ]
     },
     "execution_count": 3,
     "metadata": {},
     "output_type": "execute_result"
    }
   ],
   "source": [
    "element_path = '.HeaderMenu-link.HeaderMenu-link--sign-in'\n",
    "webelement = browser.find_element_by_css_selector(element_path)\n",
    "type(webelement)"
   ]
  },
  {
   "cell_type": "code",
   "execution_count": 4,
   "id": "fc564046-5632-4dba-8f5b-07a4503e046c",
   "metadata": {
    "tags": []
   },
   "outputs": [],
   "source": [
    "webelement.click()"
   ]
  },
  {
   "cell_type": "markdown",
   "id": "91dd9727-7126-44fa-890a-e855f712a5ee",
   "metadata": {},
   "source": [
    "### Login 화면\n",
    "- user id input tag : #login_field\n",
    "- password input tag : #password\n",
    "- click tag : input.btn.btn-primary.btn-block.js-sign-in-button"
   ]
  },
  {
   "cell_type": "code",
   "execution_count": 6,
   "id": "840a44e4-b279-4143-bf17-e679dcfa7d09",
   "metadata": {
    "tags": []
   },
   "outputs": [],
   "source": [
    "element_path = '#login_field'\n",
    "login_field = browser.find_element_by_css_selector(element_path)\n",
    "login_field.send_keys('hyowon0605@gmail.com')"
   ]
  },
  {
   "cell_type": "code",
   "execution_count": 7,
   "id": "3dcf6112-4616-4f3f-966b-ea8436ff6a2f",
   "metadata": {
    "tags": []
   },
   "outputs": [],
   "source": [
    "element_path = '#password'\n",
    "login_field = browser.find_element_by_css_selector(element_path)\n",
    "login_field.send_keys('*****')"
   ]
  },
  {
   "cell_type": "code",
   "execution_count": 8,
   "id": "1359d1fd-a1bc-4668-926a-2f52a5f58b55",
   "metadata": {
    "tags": []
   },
   "outputs": [],
   "source": [
    "element_path = 'input.btn.btn-primary.btn-block.js-sign-in-button'\n",
    "signin_button = browser.find_element_by_css_selector(element_path)\n",
    "signin_button.click()"
   ]
  },
  {
   "cell_type": "code",
   "execution_count": 9,
   "id": "23d90a0c-31d6-472a-979c-d0a5c6607760",
   "metadata": {
    "tags": []
   },
   "outputs": [],
   "source": [
    "# chrome browser close\n",
    "browser.quit()"
   ]
  },
  {
   "cell_type": "code",
   "execution_count": null,
   "id": "d9c0fc06-a7b3-461c-87e9-57de7ed6cc69",
   "metadata": {},
   "outputs": [],
   "source": []
  },
  {
   "cell_type": "code",
   "execution_count": null,
   "id": "4492f881-430d-45dc-a6d2-a93349ef380d",
   "metadata": {},
   "outputs": [],
   "source": []
  }
 ],
 "metadata": {
  "kernelspec": {
   "display_name": "Python 3 (ipykernel)",
   "language": "python",
   "name": "python3"
  },
  "language_info": {
   "codemirror_mode": {
    "name": "ipython",
    "version": 3
   },
   "file_extension": ".py",
   "mimetype": "text/x-python",
   "name": "python",
   "nbconvert_exporter": "python",
   "pygments_lexer": "ipython3",
   "version": "3.11.3"
  }
 },
 "nbformat": 4,
 "nbformat_minor": 5
}
