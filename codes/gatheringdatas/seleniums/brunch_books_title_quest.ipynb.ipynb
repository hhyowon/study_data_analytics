{
 "cells": [
  {
   "cell_type": "markdown",
   "id": "f1b72937-e79c-408a-8a6b-f209033b3148",
   "metadata": {},
   "source": [
    "## Quest\n",
    "- https://brunch.co.kr/keyword/%EC%B1%85%EB%A6%AC%EB%B7%B0\n",
    "- 도서목록 제목만 스크래핑\n",
    "- csv로 저장(brunch_books_title.csv)"
   ]
  },
  {
   "cell_type": "code",
   "execution_count": 10,
   "id": "c5dc7d44-6fb4-4794-bfc4-cdd7c1adbd8e",
   "metadata": {
    "tags": []
   },
   "outputs": [],
   "source": [
    "from selenium import webdriver\n",
    "import pandas as pd"
   ]
  },
  {
   "cell_type": "code",
   "execution_count": 11,
   "id": "8dbd773f-c8a8-4eaf-b13b-1eeab6e963f7",
   "metadata": {
    "tags": []
   },
   "outputs": [],
   "source": [
    "# open chrome browser\n",
    "browser = webdriver.Chrome(executable_path='../../../../chromedriver.exe')"
   ]
  },
  {
   "cell_type": "code",
   "execution_count": 18,
   "id": "507c423f-25bf-46fe-8b8f-6ef6fdf54a1e",
   "metadata": {
    "tags": []
   },
   "outputs": [],
   "source": [
    "# url in address window \n",
    "browser.get('https://brunch.co.kr/keyword/%EC%B1%85%EB%A6%AC%EB%B7%B0')"
   ]
  },
  {
   "cell_type": "markdown",
   "id": "4e607aa4-def1-4136-8436-8f7b9e9cc008",
   "metadata": {},
   "source": [
    "## 여러개 element 가져오기"
   ]
  },
  {
   "cell_type": "code",
   "execution_count": 19,
   "id": "0393bcc1-988e-4c45-a66e-391bdf96d85a",
   "metadata": {
    "tags": []
   },
   "outputs": [
    {
     "data": {
      "text/plain": [
       "(list, selenium.webdriver.remote.webelement.WebElement)"
      ]
     },
     "execution_count": 19,
     "metadata": {},
     "output_type": "execute_result"
    }
   ],
   "source": [
    "element_path = '.tit_subject'\n",
    "elements = browser.find_elements_by_css_selector(element_path)\n",
    "type(elements), type(elements[0])"
   ]
  },
  {
   "cell_type": "code",
   "execution_count": 20,
   "id": "796882d2-550c-4d40-99a3-078c8a886324",
   "metadata": {},
   "outputs": [],
   "source": [
    "## for문을 활용하여 제목만 가져오기 \n",
    "titles = []\n",
    "for bookelement in elements:\n",
    "    title = bookelement.text\n",
    "    titles.append(title) "
   ]
  },
  {
   "cell_type": "code",
   "execution_count": 21,
   "id": "63fa34ec-a468-4b5d-8873-bae635e6b774",
   "metadata": {
    "tags": []
   },
   "outputs": [
    {
     "data": {
      "text/plain": [
       "[\"우사인볼트는 '개의치 않는다' 척추측만증 따위..!\"]"
      ]
     },
     "execution_count": 21,
     "metadata": {},
     "output_type": "execute_result"
    }
   ],
   "source": [
    "titles"
   ]
  },
  {
   "cell_type": "code",
   "execution_count": 22,
   "id": "ccd951c8-db18-4643-87a2-8cfa67c04b14",
   "metadata": {
    "tags": []
   },
   "outputs": [
    {
     "data": {
      "text/plain": [
       "list"
      ]
     },
     "execution_count": 22,
     "metadata": {},
     "output_type": "execute_result"
    }
   ],
   "source": [
    "type(titles)"
   ]
  },
  {
   "cell_type": "code",
   "execution_count": 23,
   "id": "2e45ace4-fec7-42c9-bb9e-b812922e265b",
   "metadata": {
    "tags": []
   },
   "outputs": [],
   "source": [
    "# 리스트를 DataFrame으로 변환\n",
    "df_titles = pd.DataFrame(titles, columns=['Title'])"
   ]
  },
  {
   "cell_type": "code",
   "execution_count": 26,
   "id": "4a7d15ef-923d-4af2-88ef-9c12689a80b7",
   "metadata": {
    "tags": []
   },
   "outputs": [],
   "source": [
    "\n",
    "# CSV 파일로 저장\n",
    "df_titles.to_csv('../../../datasets/book_titles.csv', index=False)"
   ]
  },
  {
   "cell_type": "code",
   "execution_count": 27,
   "id": "fa757f78-74ce-47c5-a7ce-2da32ce30255",
   "metadata": {
    "tags": []
   },
   "outputs": [],
   "source": [
    "# chrome browser close\n",
    "browser.quit()"
   ]
  },
  {
   "cell_type": "code",
   "execution_count": null,
   "id": "8e7c4d66-5320-45f3-a42f-1b6cf8e03499",
   "metadata": {},
   "outputs": [],
   "source": []
  }
 ],
 "metadata": {
  "kernelspec": {
   "display_name": "Python 3 (ipykernel)",
   "language": "python",
   "name": "python3"
  },
  "language_info": {
   "codemirror_mode": {
    "name": "ipython",
    "version": 3
   },
   "file_extension": ".py",
   "mimetype": "text/x-python",
   "name": "python",
   "nbconvert_exporter": "python",
   "pygments_lexer": "ipython3",
   "version": "3.11.3"
  }
 },
 "nbformat": 4,
 "nbformat_minor": 5
}
