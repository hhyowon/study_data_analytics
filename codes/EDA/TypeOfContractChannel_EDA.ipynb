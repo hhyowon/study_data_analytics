{
 "cells": [
  {
   "cell_type": "code",
   "execution_count": 1,
   "id": "b7c941a6-51a3-45f8-93a1-d39dd2fd4963",
   "metadata": {
    "tags": []
   },
   "outputs": [],
   "source": [
    "import matplotlib.pyplot as plt\n",
    "import matplotlib as mpl\n",
    "mpl.rc('font',family='Malgun Gothic')   #한글처리\n",
    "import seaborn as sns\n",
    "import pandas as pd"
   ]
  },
  {
   "cell_type": "markdown",
   "id": "0febaed9-9e22-4940-9c60-973e4c710e78",
   "metadata": {},
   "source": [
    "### Load Dataset"
   ]
  },
  {
   "cell_type": "code",
   "execution_count": 2,
   "id": "623fe6b7-8d14-4b39-a473-649f2cd19897",
   "metadata": {
    "tags": []
   },
   "outputs": [
    {
     "data": {
      "text/html": [
       "<div>\n",
       "<style scoped>\n",
       "    .dataframe tbody tr th:only-of-type {\n",
       "        vertical-align: middle;\n",
       "    }\n",
       "\n",
       "    .dataframe tbody tr th {\n",
       "        vertical-align: top;\n",
       "    }\n",
       "\n",
       "    .dataframe thead th {\n",
       "        text-align: right;\n",
       "    }\n",
       "</style>\n",
       "<table border=\"1\" class=\"dataframe\">\n",
       "  <thead>\n",
       "    <tr style=\"text-align: right;\">\n",
       "      <th></th>\n",
       "      <th>id</th>\n",
       "      <th>type_of_contract</th>\n",
       "      <th>type_of_contract2</th>\n",
       "      <th>channel</th>\n",
       "      <th>datetime</th>\n",
       "      <th>Term</th>\n",
       "      <th>payment_type</th>\n",
       "      <th>product</th>\n",
       "      <th>amount</th>\n",
       "      <th>state</th>\n",
       "      <th>overdue_count</th>\n",
       "      <th>overdue</th>\n",
       "      <th>credit rating</th>\n",
       "      <th>bank</th>\n",
       "      <th>cancellation</th>\n",
       "      <th>age</th>\n",
       "      <th>Mileage</th>\n",
       "    </tr>\n",
       "  </thead>\n",
       "  <tbody>\n",
       "    <tr>\n",
       "      <th>0</th>\n",
       "      <td>66758234</td>\n",
       "      <td>렌탈</td>\n",
       "      <td>Normal</td>\n",
       "      <td>서비스 방문</td>\n",
       "      <td>2019-10-20</td>\n",
       "      <td>60</td>\n",
       "      <td>CMS</td>\n",
       "      <td>K1</td>\n",
       "      <td>96900</td>\n",
       "      <td>계약확정</td>\n",
       "      <td>0</td>\n",
       "      <td>없음</td>\n",
       "      <td>9.0</td>\n",
       "      <td>새마을금고</td>\n",
       "      <td>정상</td>\n",
       "      <td>43.0</td>\n",
       "      <td>1862.0</td>\n",
       "    </tr>\n",
       "    <tr>\n",
       "      <th>1</th>\n",
       "      <td>66755948</td>\n",
       "      <td>렌탈</td>\n",
       "      <td>Extension_Rental</td>\n",
       "      <td>서비스 방문</td>\n",
       "      <td>2019-10-20</td>\n",
       "      <td>60</td>\n",
       "      <td>카드이체</td>\n",
       "      <td>K1</td>\n",
       "      <td>102900</td>\n",
       "      <td>계약확정</td>\n",
       "      <td>0</td>\n",
       "      <td>없음</td>\n",
       "      <td>2.0</td>\n",
       "      <td>현대카드</td>\n",
       "      <td>정상</td>\n",
       "      <td>62.0</td>\n",
       "      <td>2532.0</td>\n",
       "    </tr>\n",
       "  </tbody>\n",
       "</table>\n",
       "</div>"
      ],
      "text/plain": [
       "         id type_of_contract type_of_contract2 channel    datetime  Term  \\\n",
       "0  66758234               렌탈            Normal  서비스 방문  2019-10-20    60   \n",
       "1  66755948               렌탈  Extension_Rental  서비스 방문  2019-10-20    60   \n",
       "\n",
       "  payment_type product  amount state  overdue_count overdue  credit rating  \\\n",
       "0          CMS      K1   96900  계약확정              0      없음            9.0   \n",
       "1         카드이체      K1  102900  계약확정              0      없음            2.0   \n",
       "\n",
       "    bank cancellation   age  Mileage  \n",
       "0  새마을금고           정상  43.0   1862.0  \n",
       "1   현대카드           정상  62.0   2532.0  "
      ]
     },
     "execution_count": 2,
     "metadata": {},
     "output_type": "execute_result"
    }
   ],
   "source": [
    "df_TOCC = pd.read_csv('../../datasets/TypeOfContractChannel.csv')\n",
    "df_TOCC[:2]"
   ]
  },
  {
   "cell_type": "markdown",
   "id": "6e1bd876-dda0-45e4-8a37-f61f6da18e8c",
   "metadata": {
    "tags": []
   },
   "source": [
    "### 분석대상\n",
    "- 궁금한 점 : 한 건에 거래 내역당 총합에 영향 준 내용은 무엇인가?\n",
    "- 목표 변수 선정 : amount\n",
    "- 설명 변수 선정 : type_of_contract , datetime , product , age"
   ]
  },
  {
   "cell_type": "markdown",
   "id": "5c4581e4-3001-429d-860f-b8a6111a5d4b",
   "metadata": {},
   "source": [
    "###  EDA 전략"
   ]
  },
  {
   "cell_type": "markdown",
   "id": "1dbd89a7-41c3-4b04-addb-9f14f3c28b01",
   "metadata": {},
   "source": [
    "#### 해당 변수(목표와 설명) 선택\n",
    "- 이상치와 결측치 처리"
   ]
  },
  {
   "cell_type": "code",
   "execution_count": 3,
   "id": "42095e28-25a2-4740-9a08-1f000071779c",
   "metadata": {
    "tags": []
   },
   "outputs": [
    {
     "data": {
      "text/plain": [
       "Index(['id', 'type_of_contract', 'type_of_contract2', 'channel', 'datetime',\n",
       "       'Term', 'payment_type', 'product', 'amount', 'state', 'overdue_count',\n",
       "       'overdue', 'credit rating', 'bank', 'cancellation', 'age', 'Mileage'],\n",
       "      dtype='object')"
      ]
     },
     "execution_count": 3,
     "metadata": {},
     "output_type": "execute_result"
    }
   ],
   "source": [
    "df_TOCC.columns"
   ]
  },
  {
   "cell_type": "code",
   "execution_count": 4,
   "id": "40594e2d-2f17-40a3-9a45-c69a9c3a28df",
   "metadata": {
    "tags": []
   },
   "outputs": [
    {
     "data": {
      "text/html": [
       "<div>\n",
       "<style scoped>\n",
       "    .dataframe tbody tr th:only-of-type {\n",
       "        vertical-align: middle;\n",
       "    }\n",
       "\n",
       "    .dataframe tbody tr th {\n",
       "        vertical-align: top;\n",
       "    }\n",
       "\n",
       "    .dataframe thead th {\n",
       "        text-align: right;\n",
       "    }\n",
       "</style>\n",
       "<table border=\"1\" class=\"dataframe\">\n",
       "  <thead>\n",
       "    <tr style=\"text-align: right;\">\n",
       "      <th></th>\n",
       "      <th>type_of_contract</th>\n",
       "      <th>datetime</th>\n",
       "      <th>product</th>\n",
       "      <th>amount</th>\n",
       "      <th>age</th>\n",
       "    </tr>\n",
       "  </thead>\n",
       "  <tbody>\n",
       "    <tr>\n",
       "      <th>0</th>\n",
       "      <td>렌탈</td>\n",
       "      <td>2019-10-20</td>\n",
       "      <td>K1</td>\n",
       "      <td>96900</td>\n",
       "      <td>43.0</td>\n",
       "    </tr>\n",
       "    <tr>\n",
       "      <th>1</th>\n",
       "      <td>렌탈</td>\n",
       "      <td>2019-10-20</td>\n",
       "      <td>K1</td>\n",
       "      <td>102900</td>\n",
       "      <td>62.0</td>\n",
       "    </tr>\n",
       "  </tbody>\n",
       "</table>\n",
       "</div>"
      ],
      "text/plain": [
       "  type_of_contract    datetime product  amount   age\n",
       "0               렌탈  2019-10-20      K1   96900  43.0\n",
       "1               렌탈  2019-10-20      K1  102900  62.0"
      ]
     },
     "execution_count": 4,
     "metadata": {},
     "output_type": "execute_result"
    }
   ],
   "source": [
    "df_TOCC_choose = df_TOCC[['type_of_contract','datetime','product','amount', 'age']]\n",
    "df_TOCC_choose[:2]"
   ]
  },
  {
   "cell_type": "code",
   "execution_count": 5,
   "id": "ecb52bfa-a072-4cba-9e9f-263fee8af8b2",
   "metadata": {
    "tags": []
   },
   "outputs": [
    {
     "data": {
      "text/plain": [
       "type_of_contract        4\n",
       "datetime                0\n",
       "product                 1\n",
       "amount                  0\n",
       "age                 10795\n",
       "dtype: int64"
      ]
     },
     "execution_count": 5,
     "metadata": {},
     "output_type": "execute_result"
    }
   ],
   "source": [
    "# df_TOCC_choose.info()\n",
    "#df_TOCC_choose.isnull().sum()               #null확인 : age 에 null값 많이 들어가있음\n",
    "# df_TOCC_choose = df_TOCC_choose.dropna()   # 결측값 제거\n",
    "df_TOCC_choose[:2]   #컬럼은 변화없는지 확인\n",
    "df_TOCC_choose.isnull().sum()                 #dropna 후 null값 없는거 확인 age 0됨!"
   ]
  },
  {
   "cell_type": "markdown",
   "id": "4d553c4e-7b53-4b9c-83eb-04a52d2e6dd2",
   "metadata": {
    "tags": []
   },
   "source": [
    "#### 범주형과 연속형(순서형)으로 dtype 변형"
   ]
  },
  {
   "cell_type": "code",
   "execution_count": 6,
   "id": "38bf72ee-aee7-462a-b835-7162e0dfb5ad",
   "metadata": {
    "tags": []
   },
   "outputs": [
    {
     "name": "stderr",
     "output_type": "stream",
     "text": [
      "C:\\Users\\04-04\\AppData\\Local\\Temp\\ipykernel_14184\\1451601271.py:1: SettingWithCopyWarning: \n",
      "A value is trying to be set on a copy of a slice from a DataFrame.\n",
      "Try using .loc[row_indexer,col_indexer] = value instead\n",
      "\n",
      "See the caveats in the documentation: https://pandas.pydata.org/pandas-docs/stable/user_guide/indexing.html#returning-a-view-versus-a-copy\n",
      "  df_TOCC_choose['datetime'] = pd.to_datetime(df_TOCC_choose['datetime']) # datetime dtype : object였다가 datetime으로 바뀜)\n"
     ]
    }
   ],
   "source": [
    "df_TOCC_choose['datetime'] = pd.to_datetime(df_TOCC_choose['datetime']) # datetime dtype : object였다가 datetime으로 바뀜)"
   ]
  },
  {
   "cell_type": "code",
   "execution_count": 7,
   "id": "3ac5e719-707a-4f1c-8753-ac4549572bbf",
   "metadata": {
    "tags": []
   },
   "outputs": [
    {
     "data": {
      "text/plain": [
       "type_of_contract            object\n",
       "datetime            datetime64[ns]\n",
       "product                     object\n",
       "amount                       int64\n",
       "age                        float64\n",
       "dtype: object"
      ]
     },
     "execution_count": 7,
     "metadata": {},
     "output_type": "execute_result"
    }
   ],
   "source": [
    "df_TOCC_choose.dtypes   #각 항목 dtype 보기 "
   ]
  },
  {
   "cell_type": "code",
   "execution_count": 8,
   "id": "451f2827-937f-4ef9-99a7-22960fa12d71",
   "metadata": {
    "tags": []
   },
   "outputs": [
    {
     "name": "stderr",
     "output_type": "stream",
     "text": [
      "C:\\Users\\04-04\\AppData\\Local\\Temp\\ipykernel_14184\\3380263989.py:2: FutureWarning: Treating datetime data as categorical rather than numeric in `.describe` is deprecated and will be removed in a future version of pandas. Specify `datetime_is_numeric=True` to silence this warning and adopt the future behavior now.\n",
      "  df_TOCC_choose.describe(include='all')  # 왜 object로 datetime 표현 안되는 이유\n"
     ]
    },
    {
     "data": {
      "text/html": [
       "<div>\n",
       "<style scoped>\n",
       "    .dataframe tbody tr th:only-of-type {\n",
       "        vertical-align: middle;\n",
       "    }\n",
       "\n",
       "    .dataframe tbody tr th {\n",
       "        vertical-align: top;\n",
       "    }\n",
       "\n",
       "    .dataframe thead th {\n",
       "        text-align: right;\n",
       "    }\n",
       "</style>\n",
       "<table border=\"1\" class=\"dataframe\">\n",
       "  <thead>\n",
       "    <tr style=\"text-align: right;\">\n",
       "      <th></th>\n",
       "      <th>type_of_contract</th>\n",
       "      <th>datetime</th>\n",
       "      <th>product</th>\n",
       "      <th>amount</th>\n",
       "      <th>age</th>\n",
       "    </tr>\n",
       "  </thead>\n",
       "  <tbody>\n",
       "    <tr>\n",
       "      <th>count</th>\n",
       "      <td>51300</td>\n",
       "      <td>51304</td>\n",
       "      <td>51303</td>\n",
       "      <td>51304.000000</td>\n",
       "      <td>40509.000000</td>\n",
       "    </tr>\n",
       "    <tr>\n",
       "      <th>unique</th>\n",
       "      <td>2</td>\n",
       "      <td>101</td>\n",
       "      <td>6</td>\n",
       "      <td>NaN</td>\n",
       "      <td>NaN</td>\n",
       "    </tr>\n",
       "    <tr>\n",
       "      <th>top</th>\n",
       "      <td>렌탈</td>\n",
       "      <td>2019-10-29 00:00:00</td>\n",
       "      <td>K1</td>\n",
       "      <td>NaN</td>\n",
       "      <td>NaN</td>\n",
       "    </tr>\n",
       "    <tr>\n",
       "      <th>freq</th>\n",
       "      <td>46481</td>\n",
       "      <td>817</td>\n",
       "      <td>39134</td>\n",
       "      <td>NaN</td>\n",
       "      <td>NaN</td>\n",
       "    </tr>\n",
       "    <tr>\n",
       "      <th>first</th>\n",
       "      <td>NaN</td>\n",
       "      <td>2019-10-20 00:00:00</td>\n",
       "      <td>NaN</td>\n",
       "      <td>NaN</td>\n",
       "      <td>NaN</td>\n",
       "    </tr>\n",
       "    <tr>\n",
       "      <th>last</th>\n",
       "      <td>NaN</td>\n",
       "      <td>2020-02-03 00:00:00</td>\n",
       "      <td>NaN</td>\n",
       "      <td>NaN</td>\n",
       "      <td>NaN</td>\n",
       "    </tr>\n",
       "    <tr>\n",
       "      <th>mean</th>\n",
       "      <td>NaN</td>\n",
       "      <td>NaN</td>\n",
       "      <td>NaN</td>\n",
       "      <td>93994.980021</td>\n",
       "      <td>46.608285</td>\n",
       "    </tr>\n",
       "    <tr>\n",
       "      <th>std</th>\n",
       "      <td>NaN</td>\n",
       "      <td>NaN</td>\n",
       "      <td>NaN</td>\n",
       "      <td>15305.147334</td>\n",
       "      <td>13.465977</td>\n",
       "    </tr>\n",
       "    <tr>\n",
       "      <th>min</th>\n",
       "      <td>NaN</td>\n",
       "      <td>NaN</td>\n",
       "      <td>NaN</td>\n",
       "      <td>54603.000000</td>\n",
       "      <td>20.000000</td>\n",
       "    </tr>\n",
       "    <tr>\n",
       "      <th>25%</th>\n",
       "      <td>NaN</td>\n",
       "      <td>NaN</td>\n",
       "      <td>NaN</td>\n",
       "      <td>81900.000000</td>\n",
       "      <td>37.000000</td>\n",
       "    </tr>\n",
       "    <tr>\n",
       "      <th>50%</th>\n",
       "      <td>NaN</td>\n",
       "      <td>NaN</td>\n",
       "      <td>NaN</td>\n",
       "      <td>96900.000000</td>\n",
       "      <td>46.000000</td>\n",
       "    </tr>\n",
       "    <tr>\n",
       "      <th>75%</th>\n",
       "      <td>NaN</td>\n",
       "      <td>NaN</td>\n",
       "      <td>NaN</td>\n",
       "      <td>98400.000000</td>\n",
       "      <td>56.000000</td>\n",
       "    </tr>\n",
       "    <tr>\n",
       "      <th>max</th>\n",
       "      <td>NaN</td>\n",
       "      <td>NaN</td>\n",
       "      <td>NaN</td>\n",
       "      <td>215700.000000</td>\n",
       "      <td>107.000000</td>\n",
       "    </tr>\n",
       "  </tbody>\n",
       "</table>\n",
       "</div>"
      ],
      "text/plain": [
       "       type_of_contract             datetime product         amount  \\\n",
       "count             51300                51304   51303   51304.000000   \n",
       "unique                2                  101       6            NaN   \n",
       "top                  렌탈  2019-10-29 00:00:00      K1            NaN   \n",
       "freq              46481                  817   39134            NaN   \n",
       "first               NaN  2019-10-20 00:00:00     NaN            NaN   \n",
       "last                NaN  2020-02-03 00:00:00     NaN            NaN   \n",
       "mean                NaN                  NaN     NaN   93994.980021   \n",
       "std                 NaN                  NaN     NaN   15305.147334   \n",
       "min                 NaN                  NaN     NaN   54603.000000   \n",
       "25%                 NaN                  NaN     NaN   81900.000000   \n",
       "50%                 NaN                  NaN     NaN   96900.000000   \n",
       "75%                 NaN                  NaN     NaN   98400.000000   \n",
       "max                 NaN                  NaN     NaN  215700.000000   \n",
       "\n",
       "                 age  \n",
       "count   40509.000000  \n",
       "unique           NaN  \n",
       "top              NaN  \n",
       "freq             NaN  \n",
       "first            NaN  \n",
       "last             NaN  \n",
       "mean       46.608285  \n",
       "std        13.465977  \n",
       "min        20.000000  \n",
       "25%        37.000000  \n",
       "50%        46.000000  \n",
       "75%        56.000000  \n",
       "max       107.000000  "
      ]
     },
     "execution_count": 8,
     "metadata": {},
     "output_type": "execute_result"
    }
   ],
   "source": [
    "#df_TOCC_choose.describe()\n",
    "df_TOCC_choose.describe(include='all')  # 왜 object로 datetime 표현 안되는 이유"
   ]
  },
  {
   "cell_type": "markdown",
   "id": "f61c53e0-60d8-4b8c-b573-9d24c28acbcb",
   "metadata": {
    "tags": []
   },
   "source": [
    "#### 변수간에 상관성 확인\n",
    "- 목표 변수는 정규화 여부 판단\n",
    "- 목표 변수와 각 설명 변수 간에 관계 확인"
   ]
  },
  {
   "cell_type": "code",
   "execution_count": 9,
   "id": "6b781dfb-e956-439b-a927-6967086d431e",
   "metadata": {
    "tags": []
   },
   "outputs": [
    {
     "data": {
      "text/plain": [
       "<Axes: xlabel='amount', ylabel='Count'>"
      ]
     },
     "execution_count": 9,
     "metadata": {},
     "output_type": "execute_result"
    },
    {
     "data": {
      "image/png": "[encoded data removed]",
      "text/plain": [
       "<Figure size 640x480 with 1 Axes>"
      ]
     },
     "metadata": {},
     "output_type": "display_data"
    }
   ],
   "source": [
    "sns.histplot(data=df_TOCC_choose,x='amount',kde=True)  #histplot는 ked와 함께~"
   ]
  },
  {
   "cell_type": "code",
   "execution_count": 10,
   "id": "beaa67b7-c718-4b5d-8614-f2c1fbd79d53",
   "metadata": {
    "tags": []
   },
   "outputs": [
    {
     "name": "stderr",
     "output_type": "stream",
     "text": [
      "C:\\Users\\04-04\\AppData\\Local\\Temp\\ipykernel_14184\\10591586.py:2: FutureWarning: The default value of numeric_only in DataFrame.corr is deprecated. In a future version, it will default to False. Select only valid columns or specify the value of numeric_only to silence this warning.\n",
      "  df_TOCC_choose.corr() # 관계성 있을 경우 pairplot()\n"
     ]
    },
    {
     "data": {
      "text/html": [
       "<div>\n",
       "<style scoped>\n",
       "    .dataframe tbody tr th:only-of-type {\n",
       "        vertical-align: middle;\n",
       "    }\n",
       "\n",
       "    .dataframe tbody tr th {\n",
       "        vertical-align: top;\n",
       "    }\n",
       "\n",
       "    .dataframe thead th {\n",
       "        text-align: right;\n",
       "    }\n",
       "</style>\n",
       "<table border=\"1\" class=\"dataframe\">\n",
       "  <thead>\n",
       "    <tr style=\"text-align: right;\">\n",
       "      <th></th>\n",
       "      <th>amount</th>\n",
       "      <th>age</th>\n",
       "    </tr>\n",
       "  </thead>\n",
       "  <tbody>\n",
       "    <tr>\n",
       "      <th>amount</th>\n",
       "      <td>1.000000</td>\n",
       "      <td>-0.003537</td>\n",
       "    </tr>\n",
       "    <tr>\n",
       "      <th>age</th>\n",
       "      <td>-0.003537</td>\n",
       "      <td>1.000000</td>\n",
       "    </tr>\n",
       "  </tbody>\n",
       "</table>\n",
       "</div>"
      ],
      "text/plain": [
       "          amount       age\n",
       "amount  1.000000 -0.003537\n",
       "age    -0.003537  1.000000"
      ]
     },
     "execution_count": 10,
     "metadata": {},
     "output_type": "execute_result"
    }
   ],
   "source": [
    "# 연속형 / 연속형 : 상관계수 \n",
    "df_TOCC_choose.corr() # 관계성 있을 경우 pairplot()"
   ]
  },
  {
   "cell_type": "code",
   "execution_count": 11,
   "id": "360bfef3-6b9c-4c3d-9855-23b31172c59e",
   "metadata": {
    "tags": []
   },
   "outputs": [
    {
     "data": {
      "text/plain": [
       "<Axes: xlabel='product', ylabel='amount'>"
      ]
     },
     "execution_count": 11,
     "metadata": {},
     "output_type": "execute_result"
    },
    {
     "data": {
      "image/png": "[encoded data removed]",
      "text/plain": [
       "<Figure size 640x480 with 1 Axes>"
      ]
     },
     "metadata": {},
     "output_type": "display_data"
    }
   ],
   "source": [
    "# 범주형 / 연속형  :최상/최하 갯수 선택(항목 중에 영향을 주는 것을 선택)\n",
    "# 항목 2개 이상 필요 \n",
    "sns.barplot(data=df_TOCC_choose,x='product',y='amount')  # x는 내가 궁금한 범주형 변수 , y는 목표변수"
   ]
  },
  {
   "cell_type": "code",
   "execution_count": 12,
   "id": "644738a7-5b6c-4025-bade-54a4b089862c",
   "metadata": {
    "tags": []
   },
   "outputs": [
    {
     "data": {
      "text/html": [
       "<div>\n",
       "<style scoped>\n",
       "    .dataframe tbody tr th:only-of-type {\n",
       "        vertical-align: middle;\n",
       "    }\n",
       "\n",
       "    .dataframe tbody tr th {\n",
       "        vertical-align: top;\n",
       "    }\n",
       "\n",
       "    .dataframe thead th {\n",
       "        text-align: right;\n",
       "    }\n",
       "</style>\n",
       "<table border=\"1\" class=\"dataframe\">\n",
       "  <thead>\n",
       "    <tr style=\"text-align: right;\">\n",
       "      <th></th>\n",
       "      <th>type_of_contract</th>\n",
       "      <th>datetime</th>\n",
       "      <th>product</th>\n",
       "      <th>amount</th>\n",
       "      <th>age</th>\n",
       "    </tr>\n",
       "  </thead>\n",
       "  <tbody>\n",
       "    <tr>\n",
       "      <th>58</th>\n",
       "      <td>렌탈</td>\n",
       "      <td>2019-10-21</td>\n",
       "      <td>K4</td>\n",
       "      <td>126900</td>\n",
       "      <td>28.0</td>\n",
       "    </tr>\n",
       "    <tr>\n",
       "      <th>110</th>\n",
       "      <td>렌탈</td>\n",
       "      <td>2019-10-21</td>\n",
       "      <td>K4</td>\n",
       "      <td>125700</td>\n",
       "      <td>23.0</td>\n",
       "    </tr>\n",
       "  </tbody>\n",
       "</table>\n",
       "</div>"
      ],
      "text/plain": [
       "    type_of_contract   datetime product  amount   age\n",
       "58                렌탈 2019-10-21      K4  126900  28.0\n",
       "110               렌탈 2019-10-21      K4  125700  23.0"
      ]
     },
     "execution_count": 12,
     "metadata": {},
     "output_type": "execute_result"
    }
   ],
   "source": [
    "## 변수 안에 있는 원하는 항목 필터\n",
    "conditions = (df_TOCC_choose['product'] == 'K4') | (df_TOCC_choose['product'] == 'K5') | (df_TOCC_choose['product'] == 'K6')\n",
    "df_TOCC_choose_product = df_TOCC_choose.loc[conditions]\n",
    "df_TOCC_choose_product[:2]"
   ]
  },
  {
   "cell_type": "code",
   "execution_count": 13,
   "id": "21c48e0b-a152-4ad0-aed1-204ae6a0c80f",
   "metadata": {
    "tags": []
   },
   "outputs": [
    {
     "data": {
      "text/plain": [
       "<Axes: xlabel='product', ylabel='amount'>"
      ]
     },
     "execution_count": 13,
     "metadata": {},
     "output_type": "execute_result"
    },
    {
     "data": {
      "image/png": "[encoded data removed]",
      "text/plain": [
       "<Figure size 640x480 with 1 Axes>"
      ]
     },
     "metadata": {},
     "output_type": "display_data"
    }
   ],
   "source": [
    "sns.barplot(data=df_TOCC_choose_product,x='product',y='amount') "
   ]
  },
  {
   "cell_type": "code",
   "execution_count": 14,
   "id": "cbc89069-e39a-498d-9767-8e09694227b1",
   "metadata": {
    "tags": []
   },
   "outputs": [
    {
     "data": {
      "text/plain": [
       "<Axes: xlabel='datetime', ylabel='amount'>"
      ]
     },
     "execution_count": 14,
     "metadata": {},
     "output_type": "execute_result"
    },
    {
     "data": {
      "image/png": "[encoded data removed]",
      "text/plain": [
       "<Figure size 640x480 with 1 Axes>"
      ]
     },
     "metadata": {},
     "output_type": "display_data"
    }
   ],
   "source": [
    "## 순서형 / 연속형\n",
    "sns.lineplot(data=df_TOCC_choose_product,x='datetime',y='amount')"
   ]
  },
  {
   "cell_type": "code",
   "execution_count": 15,
   "id": "c9dd826d-dd38-488f-bdf9-902c362a8c81",
   "metadata": {
    "tags": []
   },
   "outputs": [
    {
     "name": "stderr",
     "output_type": "stream",
     "text": [
      "C:\\Users\\04-04\\AppData\\Local\\Temp\\ipykernel_14184\\3955412109.py:3: SettingWithCopyWarning: \n",
      "A value is trying to be set on a copy of a slice from a DataFrame.\n",
      "Try using .loc[row_indexer,col_indexer] = value instead\n",
      "\n",
      "See the caveats in the documentation: https://pandas.pydata.org/pandas-docs/stable/user_guide/indexing.html#returning-a-view-versus-a-copy\n",
      "  df_TOCC_choose_product['day_name'] = df_TOCC_choose_product['datetime'].dt.day_name()\n"
     ]
    },
    {
     "data": {
      "text/plain": [
       "Thursday     205\n",
       "Friday       188\n",
       "Tuesday      184\n",
       "Monday       173\n",
       "Wednesday    173\n",
       "Sunday       163\n",
       "Saturday       6\n",
       "Name: day_name, dtype: int64"
      ]
     },
     "execution_count": 15,
     "metadata": {},
     "output_type": "execute_result"
    }
   ],
   "source": [
    "# .Loc()컬럼이 없는 경우, 있는 []\n",
    "#df_TOCC_choose_product['datetime'].dt.day_name()\n",
    "df_TOCC_choose_product['day_name'] = df_TOCC_choose_product['datetime'].dt.day_name()\n",
    "df_TOCC_choose_product['day_name'].value_counts()"
   ]
  },
  {
   "cell_type": "code",
   "execution_count": 16,
   "id": "dedc8c34-2b5a-4285-9a3a-57a583d1faa3",
   "metadata": {
    "tags": []
   },
   "outputs": [
    {
     "data": {
      "text/plain": [
       "<Axes: xlabel='day_name', ylabel='amount'>"
      ]
     },
     "execution_count": 16,
     "metadata": {},
     "output_type": "execute_result"
    },
    {
     "data": {
      "image/png": "[encoded data removed]",
      "text/plain": [
       "<Figure size 640x480 with 1 Axes>"
      ]
     },
     "metadata": {},
     "output_type": "display_data"
    }
   ],
   "source": [
    "# 범주형 / 연속형\n",
    "sns.barplot(data=df_TOCC_choose_product,x='day_name' ,y='amount')"
   ]
  },
  {
   "cell_type": "markdown",
   "id": "6bed2730-6515-438d-ba5e-9790d9763041",
   "metadata": {},
   "source": [
    "### 보고서\n",
    "- 변수간 상관성 확인용\n",
    "    - 목표변수 : 비정규 분포\n",
    "    - 설명변수 \n",
    "        - type_of_contract(범주형) : 2개 항목\n",
    "        - product(범주형) : 상위 3개 항목\n",
    "        - age : 상관 계수가 -0.003537 <0.5 작아서 설명 변수 채택 어려움\n",
    "        - datetime(순서형) : 분포 특성상 요일별 변환\n",
    "        - day_name : 요일별 분석 위한 컬럼 추가"
   ]
  },
  {
   "cell_type": "code",
   "execution_count": null,
   "id": "104972a5-d192-4487-9dde-048b8b64bac0",
   "metadata": {},
   "outputs": [],
   "source": []
  }
 ],
 "metadata": {
  "kernelspec": {
   "display_name": "Python 3 (ipykernel)",
   "language": "python",
   "name": "python3"
  },
  "language_info": {
   "codemirror_mode": {
    "name": "ipython",
    "version": 3
   },
   "file_extension": ".py",
   "mimetype": "text/x-python",
   "name": "python",
   "nbconvert_exporter": "python",
   "pygments_lexer": "ipython3",
   "version": "3.11.3"
  }
 },
 "nbformat": 4,
 "nbformat_minor": 5
}
