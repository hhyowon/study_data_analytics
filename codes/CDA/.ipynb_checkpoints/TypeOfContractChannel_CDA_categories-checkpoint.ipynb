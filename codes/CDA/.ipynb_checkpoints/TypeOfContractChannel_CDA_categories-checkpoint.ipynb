{
 "cells": [
  {
   "cell_type": "code",
   "execution_count": 1,
   "id": "5a73b15f-60f9-47dc-ae48-c463f1722a21",
   "metadata": {
    "tags": []
   },
   "outputs": [],
   "source": [
    "import matplotlib.pyplot as plt\n",
    "import matplotlib as mpl\n",
    "mpl.rc('font',family='Malgun Gothic')\n",
    "import seaborn as sns\n",
    "import pandas as pd"
   ]
  },
  {
   "cell_type": "code",
   "execution_count": 2,
   "id": "910ae848-c515-4cbb-82f9-752ddf098d1b",
   "metadata": {
    "tags": []
   },
   "outputs": [
    {
     "data": {
      "text/html": [
       "<div>\n",
       "<style scoped>\n",
       "    .dataframe tbody tr th:only-of-type {\n",
       "        vertical-align: middle;\n",
       "    }\n",
       "\n",
       "    .dataframe tbody tr th {\n",
       "        vertical-align: top;\n",
       "    }\n",
       "\n",
       "    .dataframe thead th {\n",
       "        text-align: right;\n",
       "    }\n",
       "</style>\n",
       "<table border=\"1\" class=\"dataframe\">\n",
       "  <thead>\n",
       "    <tr style=\"text-align: right;\">\n",
       "      <th></th>\n",
       "      <th>id</th>\n",
       "      <th>type_of_contract</th>\n",
       "      <th>type_of_contract2</th>\n",
       "      <th>channel</th>\n",
       "      <th>datetime</th>\n",
       "      <th>Term</th>\n",
       "      <th>payment_type</th>\n",
       "      <th>product</th>\n",
       "      <th>amount</th>\n",
       "      <th>state</th>\n",
       "      <th>overdue_count</th>\n",
       "      <th>overdue</th>\n",
       "      <th>credit rating</th>\n",
       "      <th>bank</th>\n",
       "      <th>cancellation</th>\n",
       "      <th>age</th>\n",
       "      <th>Mileage</th>\n",
       "    </tr>\n",
       "  </thead>\n",
       "  <tbody>\n",
       "    <tr>\n",
       "      <th>0</th>\n",
       "      <td>66758234</td>\n",
       "      <td>렌탈</td>\n",
       "      <td>Normal</td>\n",
       "      <td>서비스 방문</td>\n",
       "      <td>2019-10-20</td>\n",
       "      <td>60</td>\n",
       "      <td>CMS</td>\n",
       "      <td>K1</td>\n",
       "      <td>96900</td>\n",
       "      <td>계약확정</td>\n",
       "      <td>0</td>\n",
       "      <td>없음</td>\n",
       "      <td>9.0</td>\n",
       "      <td>새마을금고</td>\n",
       "      <td>정상</td>\n",
       "      <td>43.0</td>\n",
       "      <td>1862.0</td>\n",
       "    </tr>\n",
       "    <tr>\n",
       "      <th>1</th>\n",
       "      <td>66755948</td>\n",
       "      <td>렌탈</td>\n",
       "      <td>Extension_Rental</td>\n",
       "      <td>서비스 방문</td>\n",
       "      <td>2019-10-20</td>\n",
       "      <td>60</td>\n",
       "      <td>카드이체</td>\n",
       "      <td>K1</td>\n",
       "      <td>102900</td>\n",
       "      <td>계약확정</td>\n",
       "      <td>0</td>\n",
       "      <td>없음</td>\n",
       "      <td>2.0</td>\n",
       "      <td>현대카드</td>\n",
       "      <td>정상</td>\n",
       "      <td>62.0</td>\n",
       "      <td>2532.0</td>\n",
       "    </tr>\n",
       "  </tbody>\n",
       "</table>\n",
       "</div>"
      ],
      "text/plain": [
       "         id type_of_contract type_of_contract2 channel    datetime  Term  \\\n",
       "0  66758234               렌탈            Normal  서비스 방문  2019-10-20    60   \n",
       "1  66755948               렌탈  Extension_Rental  서비스 방문  2019-10-20    60   \n",
       "\n",
       "  payment_type product  amount state  overdue_count overdue  credit rating  \\\n",
       "0          CMS      K1   96900  계약확정              0      없음            9.0   \n",
       "1         카드이체      K1  102900  계약확정              0      없음            2.0   \n",
       "\n",
       "    bank cancellation   age  Mileage  \n",
       "0  새마을금고           정상  43.0   1862.0  \n",
       "1   현대카드           정상  62.0   2532.0  "
      ]
     },
     "execution_count": 2,
     "metadata": {},
     "output_type": "execute_result"
    }
   ],
   "source": [
    "df_TOCC = pd.read_csv('../../datasets/TypeOfContractChannel.csv')\n",
    "df_TOCC[:2]"
   ]
  },
  {
   "cell_type": "markdown",
   "id": "6584f202-3580-4c6b-9fbf-820756bf1341",
   "metadata": {},
   "source": [
    "### x 범주형, y 범주형 : 주로 독립성 증명\n",
    "- 선정 변수 : type_of_contract, cancellation\n",
    "- 분석 내용 : 계약유형에 따라 해약여부가 달라지는가 ?\n",
    "    - 귀무가설 : 계약유형에 따라 해약여부가 달라지지 않는다.\n",
    "    - 대립가설 : 계약유형에 따라 해약여부가 달라진다.\n",
    "- 분석 결론 (기준 : p-value 0.05)\n",
    "    - 통계 결론 : 대립가설 참, \n",
    "    - 사실 결론 : 계약유형에 따라 해약여부가 달라진다.\n"
   ]
  },
  {
   "cell_type": "code",
   "execution_count": 3,
   "id": "05b9e4e2-6de3-45e7-a23c-bc4302dc0c66",
   "metadata": {
    "tags": []
   },
   "outputs": [
    {
     "data": {
      "text/html": [
       "<div>\n",
       "<style scoped>\n",
       "    .dataframe tbody tr th:only-of-type {\n",
       "        vertical-align: middle;\n",
       "    }\n",
       "\n",
       "    .dataframe tbody tr th {\n",
       "        vertical-align: top;\n",
       "    }\n",
       "\n",
       "    .dataframe thead th {\n",
       "        text-align: right;\n",
       "    }\n",
       "</style>\n",
       "<table border=\"1\" class=\"dataframe\">\n",
       "  <thead>\n",
       "    <tr style=\"text-align: right;\">\n",
       "      <th></th>\n",
       "      <th>type_of_contract</th>\n",
       "      <th>cancellation</th>\n",
       "    </tr>\n",
       "  </thead>\n",
       "  <tbody>\n",
       "    <tr>\n",
       "      <th>count</th>\n",
       "      <td>51300</td>\n",
       "      <td>51279</td>\n",
       "    </tr>\n",
       "    <tr>\n",
       "      <th>unique</th>\n",
       "      <td>2</td>\n",
       "      <td>2</td>\n",
       "    </tr>\n",
       "    <tr>\n",
       "      <th>top</th>\n",
       "      <td>렌탈</td>\n",
       "      <td>정상</td>\n",
       "    </tr>\n",
       "    <tr>\n",
       "      <th>freq</th>\n",
       "      <td>46481</td>\n",
       "      <td>50372</td>\n",
       "    </tr>\n",
       "  </tbody>\n",
       "</table>\n",
       "</div>"
      ],
      "text/plain": [
       "       type_of_contract cancellation\n",
       "count             51300        51279\n",
       "unique                2            2\n",
       "top                  렌탈           정상\n",
       "freq              46481        50372"
      ]
     },
     "execution_count": 3,
     "metadata": {},
     "output_type": "execute_result"
    }
   ],
   "source": [
    "df_TOCC[['type_of_contract', 'cancellation']].describe()"
   ]
  },
  {
   "cell_type": "code",
   "execution_count": 4,
   "id": "91bfb7b7-6803-45d3-9e4c-38dd4e293aef",
   "metadata": {
    "tags": []
   },
   "outputs": [],
   "source": [
    "df_TOCC_category = df_TOCC[['type_of_contract', 'cancellation']]"
   ]
  },
  {
   "cell_type": "code",
   "execution_count": 5,
   "id": "6ec7b093-2589-4626-8f24-3b2639358a1d",
   "metadata": {
    "tags": []
   },
   "outputs": [
    {
     "data": {
      "text/html": [
       "<div>\n",
       "<style scoped>\n",
       "    .dataframe tbody tr th:only-of-type {\n",
       "        vertical-align: middle;\n",
       "    }\n",
       "\n",
       "    .dataframe tbody tr th {\n",
       "        vertical-align: top;\n",
       "    }\n",
       "\n",
       "    .dataframe thead th {\n",
       "        text-align: right;\n",
       "    }\n",
       "</style>\n",
       "<table border=\"1\" class=\"dataframe\">\n",
       "  <thead>\n",
       "    <tr style=\"text-align: right;\">\n",
       "      <th>cancellation</th>\n",
       "      <th>정상</th>\n",
       "      <th>해약</th>\n",
       "    </tr>\n",
       "    <tr>\n",
       "      <th>type_of_contract</th>\n",
       "      <th></th>\n",
       "      <th></th>\n",
       "    </tr>\n",
       "  </thead>\n",
       "  <tbody>\n",
       "    <tr>\n",
       "      <th>렌탈</th>\n",
       "      <td>46137</td>\n",
       "      <td>344</td>\n",
       "    </tr>\n",
       "    <tr>\n",
       "      <th>멤버십</th>\n",
       "      <td>4231</td>\n",
       "      <td>563</td>\n",
       "    </tr>\n",
       "  </tbody>\n",
       "</table>\n",
       "</div>"
      ],
      "text/plain": [
       "cancellation         정상   해약\n",
       "type_of_contract            \n",
       "렌탈                46137  344\n",
       "멤버십                4231  563"
      ]
     },
     "execution_count": 5,
     "metadata": {},
     "output_type": "execute_result"
    }
   ],
   "source": [
    "df_TOCC_category_pivot = pd.pivot_table(data=df_TOCC_category\n",
    "               , index='type_of_contract', columns='cancellation'\n",
    "               , aggfunc=len)\n",
    "df_TOCC_category_pivot"
   ]
  },
  {
   "cell_type": "code",
   "execution_count": 6,
   "id": "9c91cc94-4273-492c-9549-d79a8f87eee2",
   "metadata": {
    "tags": []
   },
   "outputs": [],
   "source": [
    "import scipy\n",
    "scipy.__version__\n",
    "import scipy.stats as stats"
   ]
  },
  {
   "cell_type": "code",
   "execution_count": 7,
   "id": "ea33d7c6-37ce-4e4b-82f4-2bed9044af97",
   "metadata": {
    "tags": []
   },
   "outputs": [
    {
     "data": {
      "text/plain": [
       "Chi2ContingencyResult(statistic=3021.9735309482894, pvalue=0.0, dof=1, expected_freq=array([[45658.8007411,   822.1992589],\n",
       "       [ 4709.1992589,    84.8007411]]))"
      ]
     },
     "execution_count": 7,
     "metadata": {},
     "output_type": "execute_result"
    }
   ],
   "source": [
    "stats.chi2_contingency(observed=df_TOCC_category_pivot, correction=True)"
   ]
  },
  {
   "cell_type": "markdown",
   "id": "ef2e9704-20fa-4531-815f-a7ea54d2f465",
   "metadata": {},
   "source": [
    "#### 선정 변수 : product, cancellation\n",
    "- 분석 내용 : 차종에 따라 해약여부가 달라지는가?\n",
    "    - 귀무가설 : 차종에 따라 해약여부가 달라지지 않는다.\n",
    "    - 대립가설 : 차종에 따라 해약여부가 달라진다.\n",
    "- 분석 결론 : (기준 : P-value 0.05)\n",
    "    - 통계 결론 : 대립가설\n",
    "    - 사실 결론 : 차종에 따라서 해약여부가 달라진다."
   ]
  },
  {
   "cell_type": "code",
   "execution_count": 15,
   "id": "44f21d3c-328c-48fe-b7b4-74614114bc8a",
   "metadata": {},
   "outputs": [
    {
     "data": {
      "text/html": [
       "<div>\n",
       "<style scoped>\n",
       "    .dataframe tbody tr th:only-of-type {\n",
       "        vertical-align: middle;\n",
       "    }\n",
       "\n",
       "    .dataframe tbody tr th {\n",
       "        vertical-align: top;\n",
       "    }\n",
       "\n",
       "    .dataframe thead th {\n",
       "        text-align: right;\n",
       "    }\n",
       "</style>\n",
       "<table border=\"1\" class=\"dataframe\">\n",
       "  <thead>\n",
       "    <tr style=\"text-align: right;\">\n",
       "      <th></th>\n",
       "      <th>product</th>\n",
       "      <th>cancellation</th>\n",
       "    </tr>\n",
       "  </thead>\n",
       "  <tbody>\n",
       "    <tr>\n",
       "      <th>count</th>\n",
       "      <td>51278</td>\n",
       "      <td>51278</td>\n",
       "    </tr>\n",
       "    <tr>\n",
       "      <th>unique</th>\n",
       "      <td>6</td>\n",
       "      <td>2</td>\n",
       "    </tr>\n",
       "    <tr>\n",
       "      <th>top</th>\n",
       "      <td>K1</td>\n",
       "      <td>정상</td>\n",
       "    </tr>\n",
       "    <tr>\n",
       "      <th>freq</th>\n",
       "      <td>39111</td>\n",
       "      <td>50371</td>\n",
       "    </tr>\n",
       "  </tbody>\n",
       "</table>\n",
       "</div>"
      ],
      "text/plain": [
       "       product cancellation\n",
       "count    51278        51278\n",
       "unique       6            2\n",
       "top         K1           정상\n",
       "freq     39111        50371"
      ]
     },
     "execution_count": 15,
     "metadata": {},
     "output_type": "execute_result"
    }
   ],
   "source": [
    "# 다른 변수 이름 작성시 copy() 사용\n",
    "df_TOCC_product = df_TOCC[['product', 'cancellation']].dropna().copy()\n",
    "# df_TOCC_product[:2]\n",
    "df_TOCC_product.describe()"
   ]
  },
  {
   "cell_type": "code",
   "execution_count": 27,
   "id": "fafcc4d1-ac19-47bd-92c1-f3b544f98523",
   "metadata": {
    "tags": []
   },
   "outputs": [
    {
     "data": {
      "text/html": [
       "<div>\n",
       "<style scoped>\n",
       "    .dataframe tbody tr th:only-of-type {\n",
       "        vertical-align: middle;\n",
       "    }\n",
       "\n",
       "    .dataframe tbody tr th {\n",
       "        vertical-align: top;\n",
       "    }\n",
       "\n",
       "    .dataframe thead th {\n",
       "        text-align: right;\n",
       "    }\n",
       "</style>\n",
       "<table border=\"1\" class=\"dataframe\">\n",
       "  <thead>\n",
       "    <tr style=\"text-align: right;\">\n",
       "      <th>product</th>\n",
       "      <th>K1</th>\n",
       "      <th>K2</th>\n",
       "      <th>K3</th>\n",
       "      <th>K4</th>\n",
       "      <th>K5</th>\n",
       "      <th>K6</th>\n",
       "    </tr>\n",
       "    <tr>\n",
       "      <th>cancellation</th>\n",
       "      <th></th>\n",
       "      <th></th>\n",
       "      <th></th>\n",
       "      <th></th>\n",
       "      <th></th>\n",
       "      <th></th>\n",
       "    </tr>\n",
       "  </thead>\n",
       "  <tbody>\n",
       "    <tr>\n",
       "      <th>정상</th>\n",
       "      <td>38291</td>\n",
       "      <td>8926</td>\n",
       "      <td>2072</td>\n",
       "      <td>323</td>\n",
       "      <td>641</td>\n",
       "      <td>118</td>\n",
       "    </tr>\n",
       "    <tr>\n",
       "      <th>해약</th>\n",
       "      <td>820</td>\n",
       "      <td>67</td>\n",
       "      <td>10</td>\n",
       "      <td>4</td>\n",
       "      <td>4</td>\n",
       "      <td>2</td>\n",
       "    </tr>\n",
       "  </tbody>\n",
       "</table>\n",
       "</div>"
      ],
      "text/plain": [
       "product          K1    K2    K3   K4   K5   K6\n",
       "cancellation                                  \n",
       "정상            38291  8926  2072  323  641  118\n",
       "해약              820    67    10    4    4    2"
      ]
     },
     "execution_count": 27,
     "metadata": {},
     "output_type": "execute_result"
    }
   ],
   "source": [
    "# df_TOCC_product_pivot = pd.pivot_table(data=df_TOCC_product\n",
    "#                        ,index='product'\n",
    "#                        ,columns='cancellation'\n",
    "#                        ,aggfunc=len)\n",
    "# df_TOCC_product_pivot\n",
    "df_TOCC_product_pivot = pd.pivot_table(data=df_TOCC_product\n",
    "                       ,index='cancellation'\n",
    "                       ,columns='product'\n",
    "                       ,aggfunc=len)\n",
    "df_TOCC_product_pivot"
   ]
  },
  {
   "cell_type": "code",
   "execution_count": 20,
   "id": "a91f0621-ad05-45bd-afaf-14306c9723f7",
   "metadata": {
    "tags": []
   },
   "outputs": [
    {
     "data": {
      "text/plain": [
       "Chi2ContingencyResult(statistic=103.79474317337241, pvalue=8.372028115481391e-21, dof=5, expected_freq=array([[3.84192086e+04, 6.91791353e+02],\n",
       "       [8.83393274e+03, 1.59067261e+02],\n",
       "       [2.04517380e+03, 3.68262023e+01],\n",
       "       [3.21216058e+02, 5.78394243e+00],\n",
       "       [6.33591306e+02, 1.14086938e+01],\n",
       "       [1.17877452e+02, 2.12254768e+00]]))"
      ]
     },
     "execution_count": 20,
     "metadata": {},
     "output_type": "execute_result"
    }
   ],
   "source": [
    "## product기준\n",
    "stats.chi2_contingency(observed=df_TOCC_product_pivot\n",
    "                       , correction=True)"
   ]
  },
  {
   "cell_type": "code",
   "execution_count": 28,
   "id": "1ffa92a5-1893-4102-ae39-cd6d50ba43aa",
   "metadata": {
    "tags": []
   },
   "outputs": [
    {
     "data": {
      "text/plain": [
       "Chi2ContingencyResult(statistic=103.79474317337241, pvalue=8.372028115481391e-21, dof=5, expected_freq=array([[3.84192086e+04, 8.83393274e+03, 2.04517380e+03, 3.21216058e+02,\n",
       "        6.33591306e+02, 1.17877452e+02],\n",
       "       [6.91791353e+02, 1.59067261e+02, 3.68262023e+01, 5.78394243e+00,\n",
       "        1.14086938e+01, 2.12254768e+00]]))"
      ]
     },
     "execution_count": 28,
     "metadata": {},
     "output_type": "execute_result"
    }
   ],
   "source": [
    "## cancellation 기준\n",
    "stats.chi2_contingency(observed=df_TOCC_product_pivot\n",
    "                       , correction=True)"
   ]
  },
  {
   "cell_type": "markdown",
   "id": "74948da5-24e1-4c5a-8814-1f0a5d637a74",
   "metadata": {},
   "source": [
    "#### 선정 변수 : state, cancellation\n",
    "\n",
    "\n",
    "- 분석 내용 : 차종에 따라 해약여부가 달라지는가?\n",
    "    - 귀무가설 : 차종에 따라 해약여부가 달라지지 않는다.\n",
    "    - 대립가설 : 차종에 따라 해약여부가 달라진다.\n",
    "- 분석 결론 : (기준 : P-value 0.05)\n",
    "    - 통계 결론 : 대립가설\n",
    "    - 사실 결론 : 차종에 따라서 해약여부가 달라진다."
   ]
  },
  {
   "cell_type": "code",
   "execution_count": 23,
   "id": "34057e68-61e8-4d36-8f7f-a4f207df3ec1",
   "metadata": {
    "tags": []
   },
   "outputs": [
    {
     "data": {
      "text/html": [
       "<div>\n",
       "<style scoped>\n",
       "    .dataframe tbody tr th:only-of-type {\n",
       "        vertical-align: middle;\n",
       "    }\n",
       "\n",
       "    .dataframe tbody tr th {\n",
       "        vertical-align: top;\n",
       "    }\n",
       "\n",
       "    .dataframe thead th {\n",
       "        text-align: right;\n",
       "    }\n",
       "</style>\n",
       "<table border=\"1\" class=\"dataframe\">\n",
       "  <thead>\n",
       "    <tr style=\"text-align: right;\">\n",
       "      <th></th>\n",
       "      <th>state</th>\n",
       "      <th>cancellation</th>\n",
       "    </tr>\n",
       "  </thead>\n",
       "  <tbody>\n",
       "    <tr>\n",
       "      <th>count</th>\n",
       "      <td>51279</td>\n",
       "      <td>51279</td>\n",
       "    </tr>\n",
       "    <tr>\n",
       "      <th>unique</th>\n",
       "      <td>4</td>\n",
       "      <td>2</td>\n",
       "    </tr>\n",
       "    <tr>\n",
       "      <th>top</th>\n",
       "      <td>계약확정</td>\n",
       "      <td>정상</td>\n",
       "    </tr>\n",
       "    <tr>\n",
       "      <th>freq</th>\n",
       "      <td>50326</td>\n",
       "      <td>50372</td>\n",
       "    </tr>\n",
       "  </tbody>\n",
       "</table>\n",
       "</div>"
      ],
      "text/plain": [
       "        state cancellation\n",
       "count   51279        51279\n",
       "unique      4            2\n",
       "top      계약확정           정상\n",
       "freq    50326        50372"
      ]
     },
     "execution_count": 23,
     "metadata": {},
     "output_type": "execute_result"
    }
   ],
   "source": [
    "#error with Nan\n",
    "df_TOCC_error = df_TOCC[['state','cancellation']].dropna().copy()\n",
    "# df_TOCC_error.head()\n",
    "df_TOCC_error.describe()"
   ]
  },
  {
   "cell_type": "code",
   "execution_count": 24,
   "id": "281a19ca-20f4-46ff-806e-6b7ddc0c75f9",
   "metadata": {
    "tags": []
   },
   "outputs": [
    {
     "data": {
      "text/html": [
       "<div>\n",
       "<style scoped>\n",
       "    .dataframe tbody tr th:only-of-type {\n",
       "        vertical-align: middle;\n",
       "    }\n",
       "\n",
       "    .dataframe tbody tr th {\n",
       "        vertical-align: top;\n",
       "    }\n",
       "\n",
       "    .dataframe thead th {\n",
       "        text-align: right;\n",
       "    }\n",
       "</style>\n",
       "<table border=\"1\" class=\"dataframe\">\n",
       "  <thead>\n",
       "    <tr style=\"text-align: right;\">\n",
       "      <th>cancellation</th>\n",
       "      <th>정상</th>\n",
       "      <th>해약</th>\n",
       "    </tr>\n",
       "    <tr>\n",
       "      <th>state</th>\n",
       "      <th></th>\n",
       "      <th></th>\n",
       "    </tr>\n",
       "  </thead>\n",
       "  <tbody>\n",
       "    <tr>\n",
       "      <th>계약확정</th>\n",
       "      <td>50326.0</td>\n",
       "      <td>NaN</td>\n",
       "    </tr>\n",
       "    <tr>\n",
       "      <th>기간만료</th>\n",
       "      <td>32.0</td>\n",
       "      <td>NaN</td>\n",
       "    </tr>\n",
       "    <tr>\n",
       "      <th>해약진행중</th>\n",
       "      <td>14.0</td>\n",
       "      <td>NaN</td>\n",
       "    </tr>\n",
       "    <tr>\n",
       "      <th>해약확정</th>\n",
       "      <td>NaN</td>\n",
       "      <td>907.0</td>\n",
       "    </tr>\n",
       "  </tbody>\n",
       "</table>\n",
       "</div>"
      ],
      "text/plain": [
       "cancellation       정상     해약\n",
       "state                       \n",
       "계약확정          50326.0    NaN\n",
       "기간만료             32.0    NaN\n",
       "해약진행중            14.0    NaN\n",
       "해약확정              NaN  907.0"
      ]
     },
     "execution_count": 24,
     "metadata": {},
     "output_type": "execute_result"
    }
   ],
   "source": [
    "df_TOCC_error_pivot= pd.pivot_table(data=df_TOCC_error, \n",
    "               index='state',\n",
    "               columns='cancellation',\n",
    "               aggfunc=len) \n",
    "df_TOCC_error_pivot         \n",
    "# len 함수를 적용하여 해당 조합에 속하는 데이터 포인트의 개수를 세고 있습니다.\n",
    "# len 함수는 범주형 데이터의 분포를 파악하는 데 자주 사용되는 집계 함수"
   ]
  },
  {
   "cell_type": "code",
   "execution_count": 26,
   "id": "4cd4b9bf-ab5a-4b20-a3ac-7d26fc1bb754",
   "metadata": {
    "tags": []
   },
   "outputs": [
    {
     "data": {
      "text/plain": [
       "Chi2ContingencyResult(statistic=nan, pvalue=nan, dof=3, expected_freq=array([[nan, nan],\n",
       "       [nan, nan],\n",
       "       [nan, nan],\n",
       "       [nan, nan]]))"
      ]
     },
     "execution_count": 26,
     "metadata": {},
     "output_type": "execute_result"
    }
   ],
   "source": [
    "stats.chi2_contingency(observed=df_TOCC_error_pivot, correction=True)"
   ]
  },
  {
   "cell_type": "code",
   "execution_count": null,
   "id": "7ef06c1a-fc15-47cd-b44e-36a4acd6d0a1",
   "metadata": {},
   "outputs": [],
   "source": []
  }
 ],
 "metadata": {
  "kernelspec": {
   "display_name": "Python 3 (ipykernel)",
   "language": "python",
   "name": "python3"
  },
  "language_info": {
   "codemirror_mode": {
    "name": "ipython",
    "version": 3
   },
   "file_extension": ".py",
   "mimetype": "text/x-python",
   "name": "python",
   "nbconvert_exporter": "python",
   "pygments_lexer": "ipython3",
   "version": "3.11.3"
  }
 },
 "nbformat": 4,
 "nbformat_minor": 5
}
