{
 "cells": [
  {
   "cell_type": "markdown",
   "id": "cbf02bed-9296-40e9-91c5-7672f75357be",
   "metadata": {},
   "source": [
    "#### from dataset :\n",
    "https://blog.naver.com/data_station/222493245799"
   ]
  },
  {
   "cell_type": "code",
   "execution_count": 1,
   "id": "cc7fbfc3-d77a-4b77-b016-5fb196baf1d2",
   "metadata": {
    "tags": []
   },
   "outputs": [],
   "source": [
    "import pandas as pd"
   ]
  },
  {
   "cell_type": "code",
   "execution_count": null,
   "id": "c77c8e7a-1081-4910-a348-2aa41f8a404e",
   "metadata": {},
   "outputs": [],
   "source": [
    "pd.read_csv('../../datasets/TypeOfContractChannel.csv')"
   ]
  }
 ],
 "metadata": {
  "kernelspec": {
   "display_name": "Python 3 (ipykernel)",
   "language": "python",
   "name": "python3"
  },
  "language_info": {
   "codemirror_mode": {
    "name": "ipython",
    "version": 3
   },
   "file_extension": ".py",
   "mimetype": "text/x-python",
   "name": "python",
   "nbconvert_exporter": "python",
   "pygments_lexer": "ipython3",
   "version": "3.11.3"
  }
 },
 "nbformat": 4,
 "nbformat_minor": 5
}
