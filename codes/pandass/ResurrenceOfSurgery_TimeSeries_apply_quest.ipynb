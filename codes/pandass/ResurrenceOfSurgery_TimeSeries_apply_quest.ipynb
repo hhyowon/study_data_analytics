{
 "cells": [
  {
   "cell_type": "markdown",
   "id": "4d807ac2-a111-491d-90db-2e98f0b08fba",
   "metadata": {},
   "source": [
    "### Quest\n",
    "- apply() : '신장', '체중' -> BMI\n",
    "- BMI 시각화 및 인사이트 분석"
   ]
  },
  {
   "cell_type": "code",
   "execution_count": 1,
   "id": "73091c11-b4dc-4c5d-b85f-b78b58616348",
   "metadata": {
    "tags": []
   },
   "outputs": [],
   "source": [
    "import pandas as pd\n",
    "import matplotlib.pyplot as plt\n",
    "import matplotlib as mpl\n",
    "mpl.rc('font',family='Malgun Gothic')\n",
    "import seaborn as sns"
   ]
  },
  {
   "cell_type": "code",
   "execution_count": 2,
   "id": "0164e756-7b2a-4bc3-9bdc-13fd620feb30",
   "metadata": {
    "tags": []
   },
   "outputs": [],
   "source": [
    "df_ROS = pd.read_csv('../../datasets/RecurrenceOfSurgery.csv')"
   ]
  },
  {
   "cell_type": "code",
   "execution_count": 3,
   "id": "3349a027-4e31-4198-a9f0-5d295c9d6154",
   "metadata": {
    "tags": []
   },
   "outputs": [
    {
     "data": {
      "text/plain": [
       "Index(['Unnamed: 0', '환자ID', 'Large Lymphocyte', 'Location of herniation',\n",
       "       'ODI', '가족력', '간질성폐질환', '고혈압여부', '과거수술횟수', '당뇨여부', '말초동맥질환여부', '빈혈여부',\n",
       "       '성별', '스테로이드치료', '신부전여부', '신장', '심혈관질환', '암발병여부', '연령', '우울증여부', '입원기간',\n",
       "       '입원일자', '종양진행여부', '직업', '체중', '퇴원일자', '헤모글로빈수치', '혈전합병증여부', '환자통증정도',\n",
       "       '흡연여부', '통증기간(월)', '수술기법', '수술시간', '수술실패여부', '수술일자', '재발여부', '혈액형',\n",
       "       '전방디스크높이(mm)', '후방디스크높이(mm)', '지방축적도', 'Instability', 'MF + ES',\n",
       "       'Modic change', 'PI', 'PT', 'Seg Angle(raw)', 'Vaccum disc', '골밀도',\n",
       "       '디스크단면적', '디스크위치', '척추이동척도', '척추전방위증'],\n",
       "      dtype='object')"
      ]
     },
     "execution_count": 3,
     "metadata": {},
     "output_type": "execute_result"
    }
   ],
   "source": [
    "df_ROS.columns"
   ]
  },
  {
   "cell_type": "code",
   "execution_count": 5,
   "id": "8c024106-1078-4840-9d1e-08a2e5f72b13",
   "metadata": {
    "tags": []
   },
   "outputs": [
    {
     "data": {
      "text/html": [
       "<div>\n",
       "<style scoped>\n",
       "    .dataframe tbody tr th:only-of-type {\n",
       "        vertical-align: middle;\n",
       "    }\n",
       "\n",
       "    .dataframe tbody tr th {\n",
       "        vertical-align: top;\n",
       "    }\n",
       "\n",
       "    .dataframe thead th {\n",
       "        text-align: right;\n",
       "    }\n",
       "</style>\n",
       "<table border=\"1\" class=\"dataframe\">\n",
       "  <thead>\n",
       "    <tr style=\"text-align: right;\">\n",
       "      <th></th>\n",
       "      <th>환자ID</th>\n",
       "      <th>신장</th>\n",
       "      <th>체중</th>\n",
       "    </tr>\n",
       "  </thead>\n",
       "  <tbody>\n",
       "    <tr>\n",
       "      <th>0</th>\n",
       "      <td>1PT</td>\n",
       "      <td>163</td>\n",
       "      <td>60.3</td>\n",
       "    </tr>\n",
       "    <tr>\n",
       "      <th>1</th>\n",
       "      <td>2PT</td>\n",
       "      <td>171</td>\n",
       "      <td>71.7</td>\n",
       "    </tr>\n",
       "  </tbody>\n",
       "</table>\n",
       "</div>"
      ],
      "text/plain": [
       "  환자ID   신장    체중\n",
       "0  1PT  163  60.3\n",
       "1  2PT  171  71.7"
      ]
     },
     "execution_count": 5,
     "metadata": {},
     "output_type": "execute_result"
    }
   ],
   "source": [
    "# 필요한 변수만 추출\n",
    "df_ROS_extract =df_ROS[['환자ID','신장','체중']]\n",
    "df_ROS_extract[:2]"
   ]
  },
  {
   "cell_type": "code",
   "execution_count": 8,
   "id": "1b11ef6c-4922-4b71-a504-0c8591e30732",
   "metadata": {
    "tags": []
   },
   "outputs": [
    {
     "name": "stdout",
     "output_type": "stream",
     "text": [
      "<class 'pandas.core.series.Series'>\n",
      "RangeIndex: 1894 entries, 0 to 1893\n",
      "Series name: 신장\n",
      "Non-Null Count  Dtype\n",
      "--------------  -----\n",
      "1894 non-null   int64\n",
      "dtypes: int64(1)\n",
      "memory usage: 14.9 KB\n"
     ]
    }
   ],
   "source": [
    "df_ROS['신장'].info()"
   ]
  },
  {
   "cell_type": "code",
   "execution_count": 13,
   "id": "163737b0-6df9-49b0-be53-e17766a09c5c",
   "metadata": {
    "tags": []
   },
   "outputs": [
    {
     "name": "stdout",
     "output_type": "stream",
     "text": [
      "<class 'pandas.core.series.Series'>\n",
      "RangeIndex: 1894 entries, 0 to 1893\n",
      "Series name: 체중\n",
      "Non-Null Count  Dtype  \n",
      "--------------  -----  \n",
      "1894 non-null   float64\n",
      "dtypes: float64(1)\n",
      "memory usage: 14.9 KB\n"
     ]
    }
   ],
   "source": [
    "df_ROS['체중'].info()"
   ]
  },
  {
   "cell_type": "code",
   "execution_count": 41,
   "id": "2b843026-63a7-4e64-9baa-ff2e786520e4",
   "metadata": {
    "tags": []
   },
   "outputs": [],
   "source": [
    "def calculate_bmi(체중, 신장):\n",
    "    return 체중 / (신장 / 100) ** 2"
   ]
  },
  {
   "cell_type": "code",
   "execution_count": 43,
   "id": "078233db-7d7b-4d47-9c3c-4995e614ad1b",
   "metadata": {
    "tags": []
   },
   "outputs": [
    {
     "data": {
      "text/plain": [
       "0       22.695623\n",
       "1       24.520365\n",
       "2       24.334049\n",
       "3       24.507861\n",
       "4       24.097465\n",
       "          ...    \n",
       "1889    25.964542\n",
       "1890    23.936062\n",
       "1891    25.099502\n",
       "1892    24.577867\n",
       "1893    17.361111\n",
       "Name: BMI, Length: 1894, dtype: float64"
      ]
     },
     "execution_count": 43,
     "metadata": {},
     "output_type": "execute_result"
    }
   ],
   "source": [
    "df_ROS['BMI'] = df_ROS.apply(lambda row: calculate_bmi(row['체중'], row['신장']), axis=1)\n",
    "df_ROS['BMI'] "
   ]
  },
  {
   "cell_type": "code",
   "execution_count": 44,
   "id": "53217552-e1d3-449d-975f-7ca25614ffcc",
   "metadata": {
    "tags": []
   },
   "outputs": [
    {
     "data": {
      "text/plain": [
       "count    1894.000000\n",
       "mean       24.035520\n",
       "std         2.829173\n",
       "min        14.479500\n",
       "25%        22.414666\n",
       "50%        24.163444\n",
       "75%        24.968010\n",
       "max        48.221372\n",
       "Name: BMI, dtype: float64"
      ]
     },
     "execution_count": 44,
     "metadata": {},
     "output_type": "execute_result"
    }
   ],
   "source": [
    "df_ROS['BMI'].describe()    "
   ]
  },
  {
   "cell_type": "code",
   "execution_count": 50,
   "id": "5007330d-ad0e-4aad-ba51-5557afb05694",
   "metadata": {
    "tags": []
   },
   "outputs": [],
   "source": [
    "def bmi_categori(bmi):\n",
    "    if bmi < 18.5:\n",
    "        return \"저체중\"\n",
    "    elif 18.5 <= bmi < 24.9:\n",
    "        return \"정상 체중\"\n",
    "    elif 25 <= bmi < 29.9:\n",
    "        return \"과체중\"\n",
    "    else:\n",
    "        return \"비만\""
   ]
  },
  {
   "cell_type": "code",
   "execution_count": 59,
   "id": "91b79079-a1bb-4e0e-aed1-7f5d69231af4",
   "metadata": {
    "tags": []
   },
   "outputs": [
    {
     "data": {
      "text/plain": [
       "0       정상 체중\n",
       "1       정상 체중\n",
       "2       정상 체중\n",
       "3       정상 체중\n",
       "4       정상 체중\n",
       "        ...  \n",
       "1889      과체중\n",
       "1890    정상 체중\n",
       "1891      과체중\n",
       "1892    정상 체중\n",
       "1893      저체중\n",
       "Name: BMI_categori, Length: 1894, dtype: object"
      ]
     },
     "execution_count": 59,
     "metadata": {},
     "output_type": "execute_result"
    }
   ],
   "source": [
    "df_ROS['BMI_categori'] = df_ROS['BMI'].apply(bmi_categori)\n",
    "df_ROS['BMI_categori']"
   ]
  },
  {
   "cell_type": "code",
   "execution_count": 77,
   "id": "054f4b86-70b0-4fbc-932f-d83d5d87eab4",
   "metadata": {
    "tags": []
   },
   "outputs": [],
   "source": [
    "df_ROS['성별'] = df_ROS['성별'].replace({1: '남성', 2: '여성'})"
   ]
  },
  {
   "cell_type": "code",
   "execution_count": 86,
   "id": "676f8b6f-0cb2-4d76-a377-b37d96c63a4f",
   "metadata": {
    "tags": []
   },
   "outputs": [
    {
     "data": {
      "text/html": [
       "<div>\n",
       "<style scoped>\n",
       "    .dataframe tbody tr th:only-of-type {\n",
       "        vertical-align: middle;\n",
       "    }\n",
       "\n",
       "    .dataframe tbody tr th {\n",
       "        vertical-align: top;\n",
       "    }\n",
       "\n",
       "    .dataframe thead th {\n",
       "        text-align: right;\n",
       "    }\n",
       "</style>\n",
       "<table border=\"1\" class=\"dataframe\">\n",
       "  <thead>\n",
       "    <tr style=\"text-align: right;\">\n",
       "      <th></th>\n",
       "      <th>환자ID</th>\n",
       "      <th>성별</th>\n",
       "      <th>신장</th>\n",
       "      <th>체중</th>\n",
       "      <th>BMI</th>\n",
       "      <th>BMI_categori</th>\n",
       "    </tr>\n",
       "  </thead>\n",
       "  <tbody>\n",
       "    <tr>\n",
       "      <th>0</th>\n",
       "      <td>1PT</td>\n",
       "      <td>여성</td>\n",
       "      <td>163</td>\n",
       "      <td>60.3</td>\n",
       "      <td>22.695623</td>\n",
       "      <td>정상 체중</td>\n",
       "    </tr>\n",
       "    <tr>\n",
       "      <th>1</th>\n",
       "      <td>2PT</td>\n",
       "      <td>남성</td>\n",
       "      <td>171</td>\n",
       "      <td>71.7</td>\n",
       "      <td>24.520365</td>\n",
       "      <td>정상 체중</td>\n",
       "    </tr>\n",
       "    <tr>\n",
       "      <th>2</th>\n",
       "      <td>3PT</td>\n",
       "      <td>남성</td>\n",
       "      <td>178</td>\n",
       "      <td>77.1</td>\n",
       "      <td>24.334049</td>\n",
       "      <td>정상 체중</td>\n",
       "    </tr>\n",
       "    <tr>\n",
       "      <th>3</th>\n",
       "      <td>4PT</td>\n",
       "      <td>남성</td>\n",
       "      <td>174</td>\n",
       "      <td>74.2</td>\n",
       "      <td>24.507861</td>\n",
       "      <td>정상 체중</td>\n",
       "    </tr>\n",
       "    <tr>\n",
       "      <th>4</th>\n",
       "      <td>5PT</td>\n",
       "      <td>남성</td>\n",
       "      <td>183</td>\n",
       "      <td>80.7</td>\n",
       "      <td>24.097465</td>\n",
       "      <td>정상 체중</td>\n",
       "    </tr>\n",
       "    <tr>\n",
       "      <th>...</th>\n",
       "      <td>...</td>\n",
       "      <td>...</td>\n",
       "      <td>...</td>\n",
       "      <td>...</td>\n",
       "      <td>...</td>\n",
       "      <td>...</td>\n",
       "    </tr>\n",
       "    <tr>\n",
       "      <th>1889</th>\n",
       "      <td>1890PT</td>\n",
       "      <td>여성</td>\n",
       "      <td>157</td>\n",
       "      <td>64.0</td>\n",
       "      <td>25.964542</td>\n",
       "      <td>과체중</td>\n",
       "    </tr>\n",
       "    <tr>\n",
       "      <th>1890</th>\n",
       "      <td>1891PT</td>\n",
       "      <td>여성</td>\n",
       "      <td>157</td>\n",
       "      <td>59.0</td>\n",
       "      <td>23.936062</td>\n",
       "      <td>정상 체중</td>\n",
       "    </tr>\n",
       "    <tr>\n",
       "      <th>1891</th>\n",
       "      <td>1892PT</td>\n",
       "      <td>남성</td>\n",
       "      <td>167</td>\n",
       "      <td>70.0</td>\n",
       "      <td>25.099502</td>\n",
       "      <td>과체중</td>\n",
       "    </tr>\n",
       "    <tr>\n",
       "      <th>1892</th>\n",
       "      <td>1893PT</td>\n",
       "      <td>남성</td>\n",
       "      <td>177</td>\n",
       "      <td>77.0</td>\n",
       "      <td>24.577867</td>\n",
       "      <td>정상 체중</td>\n",
       "    </tr>\n",
       "    <tr>\n",
       "      <th>1893</th>\n",
       "      <td>1894PT</td>\n",
       "      <td>여성</td>\n",
       "      <td>168</td>\n",
       "      <td>49.0</td>\n",
       "      <td>17.361111</td>\n",
       "      <td>저체중</td>\n",
       "    </tr>\n",
       "  </tbody>\n",
       "</table>\n",
       "<p>1894 rows × 6 columns</p>\n",
       "</div>"
      ],
      "text/plain": [
       "        환자ID  성별   신장    체중        BMI BMI_categori\n",
       "0        1PT  여성  163  60.3  22.695623        정상 체중\n",
       "1        2PT  남성  171  71.7  24.520365        정상 체중\n",
       "2        3PT  남성  178  77.1  24.334049        정상 체중\n",
       "3        4PT  남성  174  74.2  24.507861        정상 체중\n",
       "4        5PT  남성  183  80.7  24.097465        정상 체중\n",
       "...      ...  ..  ...   ...        ...          ...\n",
       "1889  1890PT  여성  157  64.0  25.964542          과체중\n",
       "1890  1891PT  여성  157  59.0  23.936062        정상 체중\n",
       "1891  1892PT  남성  167  70.0  25.099502          과체중\n",
       "1892  1893PT  남성  177  77.0  24.577867        정상 체중\n",
       "1893  1894PT  여성  168  49.0  17.361111          저체중\n",
       "\n",
       "[1894 rows x 6 columns]"
      ]
     },
     "execution_count": 86,
     "metadata": {},
     "output_type": "execute_result"
    }
   ],
   "source": [
    "df_ROS[['환자ID','성별','신장','체중', 'BMI','BMI_categori']]"
   ]
  },
  {
   "cell_type": "markdown",
   "id": "bdea4e50-a855-4c2f-b114-5e6ab189bf2e",
   "metadata": {},
   "source": [
    "#### bmi 종류 : 종류중에 정상체중 비율이 가장 많음"
   ]
  },
  {
   "cell_type": "code",
   "execution_count": 81,
   "id": "f786b5da-d1bc-46f1-a555-187feac98b61",
   "metadata": {
    "tags": []
   },
   "outputs": [
    {
     "data": {
      "text/plain": [
       "<Axes: xlabel='BMI_categori'>"
      ]
     },
     "execution_count": 81,
     "metadata": {},
     "output_type": "execute_result"
    },
    {
     "data": {
      "image/png": "[encoded data removed]",
      "text/plain": [
       "<Figure size 640x480 with 1 Axes>"
      ]
     },
     "metadata": {},
     "output_type": "display_data"
    }
   ],
   "source": [
    "pd.pivot_table(data=df_ROS[['BMI', 'BMI_categori']], index='BMI_categori', aggfunc=len).plot(kind='bar')"
   ]
  },
  {
   "cell_type": "markdown",
   "id": "6f897ea1-da55-4e0c-9288-994f41c3d7b6",
   "metadata": {
    "tags": []
   },
   "source": [
    "#### 성별 bmi 지수 : 남성이 비만,과체중,정상체중 비율이 더 높다"
   ]
  },
  {
   "cell_type": "code",
   "execution_count": 80,
   "id": "4af7d32e-67dd-4f4b-a5d2-afda3c6d0ece",
   "metadata": {
    "tags": []
   },
   "outputs": [
    {
     "data": {
      "text/plain": [
       "Text(0.5, 1.0, '성별 BMI 지수')"
      ]
     },
     "execution_count": 80,
     "metadata": {},
     "output_type": "execute_result"
    },
    {
     "data": {
      "image/png": "[encoded data removed]",
      "text/plain": [
       "<Figure size 640x480 with 1 Axes>"
      ]
     },
     "metadata": {},
     "output_type": "display_data"
    }
   ],
   "source": [
    "pd.pivot_table(data=df_ROS, values='BMI', index='BMI_categori', columns='성별', aggfunc=len).plot(kind='bar')\n",
    "plt.title('성별 BMI 지수')"
   ]
  },
  {
   "cell_type": "markdown",
   "id": "f4e61691-9844-4217-8694-2b3fb96db177",
   "metadata": {
    "tags": []
   },
   "source": []
  },
  {
   "cell_type": "code",
   "execution_count": null,
   "id": "09e894b3-3c14-472c-862a-cd1fc7f50f30",
   "metadata": {
    "tags": []
   },
   "outputs": [],
   "source": []
  },
  {
   "cell_type": "code",
   "execution_count": null,
   "id": "234f6179-a948-4331-9113-01bb0a886455",
   "metadata": {},
   "outputs": [],
   "source": []
  }
 ],
 "metadata": {
  "kernelspec": {
   "display_name": "Python 3 (ipykernel)",
   "language": "python",
   "name": "python3"
  },
  "language_info": {
   "codemirror_mode": {
    "name": "ipython",
    "version": 3
   },
   "file_extension": ".py",
   "mimetype": "text/x-python",
   "name": "python",
   "nbconvert_exporter": "python",
   "pygments_lexer": "ipython3",
   "version": "3.11.3"
  }
 },
 "nbformat": 4,
 "nbformat_minor": 5
}
