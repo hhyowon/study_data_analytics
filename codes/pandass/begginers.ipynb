{
 "cells": [
  {
   "cell_type": "code",
   "execution_count": 68,
   "id": "7928a1ad-89cd-4059-858d-57268ed7c93b",
   "metadata": {
    "tags": []
   },
   "outputs": [],
   "source": [
    "import pandas as pd"
   ]
  },
  {
   "cell_type": "code",
   "execution_count": 69,
   "id": "3464b561-ae3b-4de5-96cf-ebb9034d525c",
   "metadata": {},
   "outputs": [
    {
     "data": {
      "text/plain": [
       "'1.5.3'"
      ]
     },
     "execution_count": 69,
     "metadata": {},
     "output_type": "execute_result"
    }
   ],
   "source": [
    "pd.__version__"
   ]
  },
  {
   "cell_type": "markdown",
   "id": "14b290a5-5fd4-4ff4-a1f4-55c29655b9ed",
   "metadata": {},
   "source": [
    "## DataFrame 구조\n",
    "- index(row) - column(colunm) - data"
   ]
  },
  {
   "cell_type": "code",
   "execution_count": 70,
   "id": "9a8ef0db-f528-4b6a-9a6d-0f2fa7a76317",
   "metadata": {
    "tags": []
   },
   "outputs": [
    {
     "data": {
      "text/html": [
       "<div>\n",
       "<style scoped>\n",
       "    .dataframe tbody tr th:only-of-type {\n",
       "        vertical-align: middle;\n",
       "    }\n",
       "\n",
       "    .dataframe tbody tr th {\n",
       "        vertical-align: top;\n",
       "    }\n",
       "\n",
       "    .dataframe thead th {\n",
       "        text-align: right;\n",
       "    }\n",
       "</style>\n",
       "<table border=\"1\" class=\"dataframe\">\n",
       "  <thead>\n",
       "    <tr style=\"text-align: right;\">\n",
       "      <th></th>\n",
       "      <th>0</th>\n",
       "    </tr>\n",
       "  </thead>\n",
       "  <tbody>\n",
       "    <tr>\n",
       "      <th>0</th>\n",
       "      <td>10</td>\n",
       "    </tr>\n",
       "    <tr>\n",
       "      <th>1</th>\n",
       "      <td>20</td>\n",
       "    </tr>\n",
       "    <tr>\n",
       "      <th>2</th>\n",
       "      <td>30</td>\n",
       "    </tr>\n",
       "    <tr>\n",
       "      <th>3</th>\n",
       "      <td>40</td>\n",
       "    </tr>\n",
       "    <tr>\n",
       "      <th>4</th>\n",
       "      <td>50</td>\n",
       "    </tr>\n",
       "  </tbody>\n",
       "</table>\n",
       "</div>"
      ],
      "text/plain": [
       "    0\n",
       "0  10\n",
       "1  20\n",
       "2  30\n",
       "3  40\n",
       "4  50"
      ]
     },
     "execution_count": 70,
     "metadata": {},
     "output_type": "execute_result"
    }
   ],
   "source": [
    "num_list = [10,20,30,40,50]\n",
    "pd.DataFrame(num_list)"
   ]
  },
  {
   "cell_type": "code",
   "execution_count": 71,
   "id": "e38b614a-d755-4aa5-a820-36a27634c5f6",
   "metadata": {
    "tags": []
   },
   "outputs": [
    {
     "data": {
      "text/html": [
       "<div>\n",
       "<style scoped>\n",
       "    .dataframe tbody tr th:only-of-type {\n",
       "        vertical-align: middle;\n",
       "    }\n",
       "\n",
       "    .dataframe tbody tr th {\n",
       "        vertical-align: top;\n",
       "    }\n",
       "\n",
       "    .dataframe thead th {\n",
       "        text-align: right;\n",
       "    }\n",
       "</style>\n",
       "<table border=\"1\" class=\"dataframe\">\n",
       "  <thead>\n",
       "    <tr style=\"text-align: right;\">\n",
       "      <th></th>\n",
       "      <th>0</th>\n",
       "      <th>1</th>\n",
       "      <th>2</th>\n",
       "      <th>3</th>\n",
       "    </tr>\n",
       "  </thead>\n",
       "  <tbody>\n",
       "    <tr>\n",
       "      <th>0</th>\n",
       "      <td>1000</td>\n",
       "      <td>과자</td>\n",
       "      <td>2019-12-31</td>\n",
       "      <td>반품</td>\n",
       "    </tr>\n",
       "    <tr>\n",
       "      <th>1</th>\n",
       "      <td>2000</td>\n",
       "      <td>음료</td>\n",
       "      <td>2020-03-02</td>\n",
       "      <td>정상</td>\n",
       "    </tr>\n",
       "    <tr>\n",
       "      <th>2</th>\n",
       "      <td>3000</td>\n",
       "      <td>아이스크림</td>\n",
       "      <td>2020-02-03</td>\n",
       "      <td>정상</td>\n",
       "    </tr>\n",
       "    <tr>\n",
       "      <th>3</th>\n",
       "      <td>1000</td>\n",
       "      <td>과자</td>\n",
       "      <td>2019-12-31</td>\n",
       "      <td>반품</td>\n",
       "    </tr>\n",
       "  </tbody>\n",
       "</table>\n",
       "</div>"
      ],
      "text/plain": [
       "      0      1           2   3\n",
       "0  1000     과자  2019-12-31  반품\n",
       "1  2000     음료  2020-03-02  정상\n",
       "2  3000  아이스크림  2020-02-03  정상\n",
       "3  1000     과자  2019-12-31  반품"
      ]
     },
     "execution_count": 71,
     "metadata": {},
     "output_type": "execute_result"
    }
   ],
   "source": [
    "double_list = [[1000, '과자','2019-12-31','반품'],\n",
    " [2000, '음료', '2020-03-02', '정상'],\n",
    " [3000, '아이스크림', '2020-02-03','정상'],\n",
    " [1000,'과자','2019-12-31','반품']]\n",
    "pd.DataFrame(data=double_list)"
   ]
  },
  {
   "cell_type": "code",
   "execution_count": 72,
   "id": "732119b8-d415-4e05-96b0-e3b77b658d26",
   "metadata": {
    "tags": []
   },
   "outputs": [
    {
     "data": {
      "text/html": [
       "<div>\n",
       "<style scoped>\n",
       "    .dataframe tbody tr th:only-of-type {\n",
       "        vertical-align: middle;\n",
       "    }\n",
       "\n",
       "    .dataframe tbody tr th {\n",
       "        vertical-align: top;\n",
       "    }\n",
       "\n",
       "    .dataframe thead th {\n",
       "        text-align: right;\n",
       "    }\n",
       "</style>\n",
       "<table border=\"1\" class=\"dataframe\">\n",
       "  <thead>\n",
       "    <tr style=\"text-align: right;\">\n",
       "      <th></th>\n",
       "      <th>가격</th>\n",
       "      <th>종류</th>\n",
       "      <th>판매일자</th>\n",
       "      <th>반품여부</th>\n",
       "    </tr>\n",
       "  </thead>\n",
       "  <tbody>\n",
       "    <tr>\n",
       "      <th>0</th>\n",
       "      <td>1000</td>\n",
       "      <td>과자</td>\n",
       "      <td>2019-12-31</td>\n",
       "      <td>반품</td>\n",
       "    </tr>\n",
       "    <tr>\n",
       "      <th>1</th>\n",
       "      <td>2000</td>\n",
       "      <td>음료</td>\n",
       "      <td>2020-03-02</td>\n",
       "      <td>정상</td>\n",
       "    </tr>\n",
       "    <tr>\n",
       "      <th>2</th>\n",
       "      <td>3000</td>\n",
       "      <td>아이스크림</td>\n",
       "      <td>2020-02-03</td>\n",
       "      <td>정상</td>\n",
       "    </tr>\n",
       "    <tr>\n",
       "      <th>3</th>\n",
       "      <td>1000</td>\n",
       "      <td>과자</td>\n",
       "      <td>2019-12-31</td>\n",
       "      <td>반품</td>\n",
       "    </tr>\n",
       "  </tbody>\n",
       "</table>\n",
       "</div>"
      ],
      "text/plain": [
       "     가격     종류        판매일자 반품여부\n",
       "0  1000     과자  2019-12-31   반품\n",
       "1  2000     음료  2020-03-02   정상\n",
       "2  3000  아이스크림  2020-02-03   정상\n",
       "3  1000     과자  2019-12-31   반품"
      ]
     },
     "execution_count": 72,
     "metadata": {},
     "output_type": "execute_result"
    }
   ],
   "source": [
    "double_columns = ['가격','종류','판매일자','반품여부']\n",
    "df_salesdays = pd.DataFrame(data=double_list, columns=double_columns)\n",
    "df_salesdays"
   ]
  },
  {
   "cell_type": "code",
   "execution_count": null,
   "id": "7cc9bba5-3123-442f-b1b0-c6689030701c",
   "metadata": {},
   "outputs": [],
   "source": []
  },
  {
   "cell_type": "code",
   "execution_count": 73,
   "id": "533eb7f3-b4be-4cbc-a756-6bce3e7d3ad4",
   "metadata": {
    "tags": []
   },
   "outputs": [
    {
     "data": {
      "text/plain": [
       "(Index(['가격', '종류', '판매일자', '반품여부'], dtype='object'),\n",
       " pandas.core.indexes.base.Index,\n",
       " ['가격', '종류', '판매일자', '반품여부'])"
      ]
     },
     "execution_count": 73,
     "metadata": {},
     "output_type": "execute_result"
    }
   ],
   "source": [
    "df_salesdays.columns , type(df_salesdays.columns), list(df_salesdays.columns)"
   ]
  },
  {
   "cell_type": "code",
   "execution_count": 74,
   "id": "18cfdad4-a88e-4b95-89fb-8f0a496b20dc",
   "metadata": {
    "tags": []
   },
   "outputs": [
    {
     "data": {
      "text/plain": [
       "RangeIndex(start=0, stop=4, step=1)"
      ]
     },
     "execution_count": 74,
     "metadata": {},
     "output_type": "execute_result"
    }
   ],
   "source": [
    "df_salesdays.index"
   ]
  },
  {
   "cell_type": "code",
   "execution_count": 75,
   "id": "9325fa12-fc74-4407-ae6c-93d43d3732c1",
   "metadata": {
    "tags": []
   },
   "outputs": [
    {
     "data": {
      "text/plain": [
       "array([[1000, '과자', '2019-12-31', '반품'],\n",
       "       [2000, '음료', '2020-03-02', '정상'],\n",
       "       [3000, '아이스크림', '2020-02-03', '정상'],\n",
       "       [1000, '과자', '2019-12-31', '반품']], dtype=object)"
      ]
     },
     "execution_count": 75,
     "metadata": {},
     "output_type": "execute_result"
    }
   ],
   "source": [
    "df_salesdays.values"
   ]
  },
  {
   "cell_type": "code",
   "execution_count": 76,
   "id": "c646bd04-567d-45e9-b4fd-88f1aa2975e2",
   "metadata": {
    "tags": []
   },
   "outputs": [],
   "source": [
    "df_salesdays_dropcol = df_salesdays.drop(columns=['종류','판매일자',])\n",
    "# df_salesdays.drop(columns=['종류','판매일자',],inplace=True) # 자체 지정한 df값이 변화한다"
   ]
  },
  {
   "cell_type": "code",
   "execution_count": 77,
   "id": "f673c23b-b188-4b92-bd9d-9a54f4cb35d9",
   "metadata": {
    "tags": []
   },
   "outputs": [
    {
     "data": {
      "text/html": [
       "<div>\n",
       "<style scoped>\n",
       "    .dataframe tbody tr th:only-of-type {\n",
       "        vertical-align: middle;\n",
       "    }\n",
       "\n",
       "    .dataframe tbody tr th {\n",
       "        vertical-align: top;\n",
       "    }\n",
       "\n",
       "    .dataframe thead th {\n",
       "        text-align: right;\n",
       "    }\n",
       "</style>\n",
       "<table border=\"1\" class=\"dataframe\">\n",
       "  <thead>\n",
       "    <tr style=\"text-align: right;\">\n",
       "      <th></th>\n",
       "      <th>가격</th>\n",
       "      <th>반품여부</th>\n",
       "    </tr>\n",
       "  </thead>\n",
       "  <tbody>\n",
       "    <tr>\n",
       "      <th>0</th>\n",
       "      <td>1000</td>\n",
       "      <td>반품</td>\n",
       "    </tr>\n",
       "    <tr>\n",
       "      <th>1</th>\n",
       "      <td>2000</td>\n",
       "      <td>정상</td>\n",
       "    </tr>\n",
       "    <tr>\n",
       "      <th>2</th>\n",
       "      <td>3000</td>\n",
       "      <td>정상</td>\n",
       "    </tr>\n",
       "    <tr>\n",
       "      <th>3</th>\n",
       "      <td>1000</td>\n",
       "      <td>반품</td>\n",
       "    </tr>\n",
       "  </tbody>\n",
       "</table>\n",
       "</div>"
      ],
      "text/plain": [
       "     가격 반품여부\n",
       "0  1000   반품\n",
       "1  2000   정상\n",
       "2  3000   정상\n",
       "3  1000   반품"
      ]
     },
     "execution_count": 77,
     "metadata": {},
     "output_type": "execute_result"
    }
   ],
   "source": [
    "df_salesdays_dropcol"
   ]
  },
  {
   "cell_type": "code",
   "execution_count": 78,
   "id": "406b2dd3-1021-4be8-9d3b-9da46f829ff2",
   "metadata": {
    "tags": []
   },
   "outputs": [
    {
     "data": {
      "text/html": [
       "<div>\n",
       "<style scoped>\n",
       "    .dataframe tbody tr th:only-of-type {\n",
       "        vertical-align: middle;\n",
       "    }\n",
       "\n",
       "    .dataframe tbody tr th {\n",
       "        vertical-align: top;\n",
       "    }\n",
       "\n",
       "    .dataframe thead th {\n",
       "        text-align: right;\n",
       "    }\n",
       "</style>\n",
       "<table border=\"1\" class=\"dataframe\">\n",
       "  <thead>\n",
       "    <tr style=\"text-align: right;\">\n",
       "      <th></th>\n",
       "      <th>가격</th>\n",
       "      <th>반품여부</th>\n",
       "    </tr>\n",
       "  </thead>\n",
       "  <tbody>\n",
       "    <tr>\n",
       "      <th>2</th>\n",
       "      <td>3000</td>\n",
       "      <td>정상</td>\n",
       "    </tr>\n",
       "  </tbody>\n",
       "</table>\n",
       "</div>"
      ],
      "text/plain": [
       "     가격 반품여부\n",
       "2  3000   정상"
      ]
     },
     "execution_count": 78,
     "metadata": {},
     "output_type": "execute_result"
    }
   ],
   "source": [
    "## 필터 : and - & , or - | \n",
    "# condition = (df_salesdays_dropcol['반품여부'] == '정상')\n",
    "condition = (df_salesdays_dropcol['가격'] >= 2500)\n",
    "df_salesdays_dropcol.loc[condition]"
   ]
  },
  {
   "cell_type": "code",
   "execution_count": 79,
   "id": "aa8e959d-032a-4125-b2ff-18d20cf1f6b1",
   "metadata": {
    "tags": []
   },
   "outputs": [
    {
     "data": {
      "text/plain": [
       "0    False\n",
       "1    False\n",
       "2     True\n",
       "3    False\n",
       "dtype: bool"
      ]
     },
     "execution_count": 79,
     "metadata": {},
     "output_type": "execute_result"
    }
   ],
   "source": [
    "# (df_salesdays_dropcol['가격'] >= 2500) | (df_salesdays_dropcol['가격'] <= 1000)  # 특정 범위 선택\n",
    "(df_salesdays_dropcol['반품여부'] == '정상') & (df_salesdays_dropcol['가격'] >= 2500)"
   ]
  },
  {
   "cell_type": "code",
   "execution_count": 80,
   "id": "3c838fbc-a2d9-470f-b888-993a97fb8510",
   "metadata": {
    "tags": []
   },
   "outputs": [
    {
     "data": {
      "text/html": [
       "<div>\n",
       "<style scoped>\n",
       "    .dataframe tbody tr th:only-of-type {\n",
       "        vertical-align: middle;\n",
       "    }\n",
       "\n",
       "    .dataframe tbody tr th {\n",
       "        vertical-align: top;\n",
       "    }\n",
       "\n",
       "    .dataframe thead th {\n",
       "        text-align: right;\n",
       "    }\n",
       "</style>\n",
       "<table border=\"1\" class=\"dataframe\">\n",
       "  <thead>\n",
       "    <tr style=\"text-align: right;\">\n",
       "      <th></th>\n",
       "      <th>가격</th>\n",
       "    </tr>\n",
       "    <tr>\n",
       "      <th>반품여부</th>\n",
       "      <th></th>\n",
       "    </tr>\n",
       "  </thead>\n",
       "  <tbody>\n",
       "    <tr>\n",
       "      <th>반품</th>\n",
       "      <td>1000</td>\n",
       "    </tr>\n",
       "    <tr>\n",
       "      <th>정상</th>\n",
       "      <td>2000</td>\n",
       "    </tr>\n",
       "  </tbody>\n",
       "</table>\n",
       "</div>"
      ],
      "text/plain": [
       "        가격\n",
       "반품여부      \n",
       "반품    1000\n",
       "정상    2000"
      ]
     },
     "execution_count": 80,
     "metadata": {},
     "output_type": "execute_result"
    }
   ],
   "source": [
    "## 요약\n",
    "# df_salesdays_dropcol.pivot_table(index='반품여부', values='가격')\n",
    "# pd.pivot_table(data=df_salesdays_dropcol,index='반품여부', values='가격')\n",
    "import numpy as np\n",
    "df_salesdays_dropcol.pivot_table(index='반품여부', values='가격',aggfunc=np.min)"
   ]
  },
  {
   "cell_type": "code",
   "execution_count": 81,
   "id": "18d7a6e3-2e23-4767-a8c4-a4ba571773e5",
   "metadata": {
    "tags": []
   },
   "outputs": [
    {
     "data": {
      "text/html": [
       "<div>\n",
       "<style scoped>\n",
       "    .dataframe tbody tr th:only-of-type {\n",
       "        vertical-align: middle;\n",
       "    }\n",
       "\n",
       "    .dataframe tbody tr th {\n",
       "        vertical-align: top;\n",
       "    }\n",
       "\n",
       "    .dataframe thead th {\n",
       "        text-align: right;\n",
       "    }\n",
       "</style>\n",
       "<table border=\"1\" class=\"dataframe\">\n",
       "  <thead>\n",
       "    <tr style=\"text-align: right;\">\n",
       "      <th></th>\n",
       "      <th>가격</th>\n",
       "    </tr>\n",
       "    <tr>\n",
       "      <th>반품여부</th>\n",
       "      <th></th>\n",
       "    </tr>\n",
       "  </thead>\n",
       "  <tbody>\n",
       "    <tr>\n",
       "      <th>반품</th>\n",
       "      <td>1000</td>\n",
       "    </tr>\n",
       "    <tr>\n",
       "      <th>정상</th>\n",
       "      <td>2500</td>\n",
       "    </tr>\n",
       "  </tbody>\n",
       "</table>\n",
       "</div>"
      ],
      "text/plain": [
       "        가격\n",
       "반품여부      \n",
       "반품    1000\n",
       "정상    2500"
      ]
     },
     "execution_count": 81,
     "metadata": {},
     "output_type": "execute_result"
    }
   ],
   "source": [
    "pd.pivot_table(data=df_salesdays_dropcol,index='반품여부', values='가격')"
   ]
  },
  {
   "cell_type": "code",
   "execution_count": 82,
   "id": "0afb0f95-86ca-44a3-a31a-45902ac4bb80",
   "metadata": {},
   "outputs": [
    {
     "data": {
      "text/html": [
       "<div>\n",
       "<style scoped>\n",
       "    .dataframe tbody tr th:only-of-type {\n",
       "        vertical-align: middle;\n",
       "    }\n",
       "\n",
       "    .dataframe tbody tr th {\n",
       "        vertical-align: top;\n",
       "    }\n",
       "\n",
       "    .dataframe thead th {\n",
       "        text-align: right;\n",
       "    }\n",
       "</style>\n",
       "<table border=\"1\" class=\"dataframe\">\n",
       "  <thead>\n",
       "    <tr style=\"text-align: right;\">\n",
       "      <th></th>\n",
       "      <th>가격</th>\n",
       "      <th>종류</th>\n",
       "      <th>판매일자</th>\n",
       "      <th>반품여부</th>\n",
       "    </tr>\n",
       "  </thead>\n",
       "  <tbody>\n",
       "    <tr>\n",
       "      <th>0</th>\n",
       "      <td>1000</td>\n",
       "      <td>과자</td>\n",
       "      <td>2019-12-31</td>\n",
       "      <td>반품</td>\n",
       "    </tr>\n",
       "    <tr>\n",
       "      <th>1</th>\n",
       "      <td>2000</td>\n",
       "      <td>음료</td>\n",
       "      <td>2020-03-02</td>\n",
       "      <td>정상</td>\n",
       "    </tr>\n",
       "    <tr>\n",
       "      <th>2</th>\n",
       "      <td>3000</td>\n",
       "      <td>아이스크림</td>\n",
       "      <td>2020-02-03</td>\n",
       "      <td>정상</td>\n",
       "    </tr>\n",
       "    <tr>\n",
       "      <th>3</th>\n",
       "      <td>1000</td>\n",
       "      <td>과자</td>\n",
       "      <td>2019-12-31</td>\n",
       "      <td>반품</td>\n",
       "    </tr>\n",
       "  </tbody>\n",
       "</table>\n",
       "</div>"
      ],
      "text/plain": [
       "     가격     종류        판매일자 반품여부\n",
       "0  1000     과자  2019-12-31   반품\n",
       "1  2000     음료  2020-03-02   정상\n",
       "2  3000  아이스크림  2020-02-03   정상\n",
       "3  1000     과자  2019-12-31   반품"
      ]
     },
     "execution_count": 82,
     "metadata": {},
     "output_type": "execute_result"
    }
   ],
   "source": [
    "df_salesdays #df_salesdays['가격'].mean()"
   ]
  },
  {
   "cell_type": "code",
   "execution_count": 83,
   "id": "25ff2c24-83b6-479d-ace1-32e6f9f3c13d",
   "metadata": {
    "tags": []
   },
   "outputs": [],
   "source": [
    "def mean_subtraction(cell_value) : \n",
    "    result = 1750 - cell_value   #가격평균 - 개별값\n",
    "    return result "
   ]
  },
  {
   "cell_type": "code",
   "execution_count": 84,
   "id": "e985dc34-fade-47f4-ab70-de12d4179ac2",
   "metadata": {
    "tags": []
   },
   "outputs": [
    {
     "data": {
      "text/plain": [
       "1000"
      ]
     },
     "execution_count": 84,
     "metadata": {},
     "output_type": "execute_result"
    }
   ],
   "source": [
    "mean_subtraction(750)"
   ]
  },
  {
   "cell_type": "code",
   "execution_count": 85,
   "id": "37076aaf-2da5-48af-8102-24daf74552d9",
   "metadata": {
    "tags": []
   },
   "outputs": [
    {
     "data": {
      "text/plain": [
       "0     750\n",
       "1    -250\n",
       "2   -1250\n",
       "3     750\n",
       "Name: 가격, dtype: int64"
      ]
     },
     "execution_count": 85,
     "metadata": {},
     "output_type": "execute_result"
    }
   ],
   "source": [
    "df_salesdays['가격'].apply(mean_subtraction)"
   ]
  },
  {
   "cell_type": "code",
   "execution_count": 88,
   "id": "a5b3eb0e-d2df-4c3b-a4a1-12f6f0b4cb6b",
   "metadata": {
    "tags": []
   },
   "outputs": [],
   "source": [
    "df_salesdays['가격차이'] = df_salesdays['가격'].apply(mean_subtraction)  #각 cell 당 평균 차이값"
   ]
  },
  {
   "cell_type": "code",
   "execution_count": 89,
   "id": "738fd447-77cb-4077-8df2-2d827c9d0cbc",
   "metadata": {
    "tags": []
   },
   "outputs": [
    {
     "data": {
      "text/html": [
       "<div>\n",
       "<style scoped>\n",
       "    .dataframe tbody tr th:only-of-type {\n",
       "        vertical-align: middle;\n",
       "    }\n",
       "\n",
       "    .dataframe tbody tr th {\n",
       "        vertical-align: top;\n",
       "    }\n",
       "\n",
       "    .dataframe thead th {\n",
       "        text-align: right;\n",
       "    }\n",
       "</style>\n",
       "<table border=\"1\" class=\"dataframe\">\n",
       "  <thead>\n",
       "    <tr style=\"text-align: right;\">\n",
       "      <th></th>\n",
       "      <th>가격</th>\n",
       "      <th>종류</th>\n",
       "      <th>판매일자</th>\n",
       "      <th>반품여부</th>\n",
       "      <th>가격차이</th>\n",
       "    </tr>\n",
       "  </thead>\n",
       "  <tbody>\n",
       "    <tr>\n",
       "      <th>0</th>\n",
       "      <td>1000</td>\n",
       "      <td>과자</td>\n",
       "      <td>2019-12-31</td>\n",
       "      <td>반품</td>\n",
       "      <td>750</td>\n",
       "    </tr>\n",
       "    <tr>\n",
       "      <th>1</th>\n",
       "      <td>2000</td>\n",
       "      <td>음료</td>\n",
       "      <td>2020-03-02</td>\n",
       "      <td>정상</td>\n",
       "      <td>-250</td>\n",
       "    </tr>\n",
       "    <tr>\n",
       "      <th>2</th>\n",
       "      <td>3000</td>\n",
       "      <td>아이스크림</td>\n",
       "      <td>2020-02-03</td>\n",
       "      <td>정상</td>\n",
       "      <td>-1250</td>\n",
       "    </tr>\n",
       "    <tr>\n",
       "      <th>3</th>\n",
       "      <td>1000</td>\n",
       "      <td>과자</td>\n",
       "      <td>2019-12-31</td>\n",
       "      <td>반품</td>\n",
       "      <td>750</td>\n",
       "    </tr>\n",
       "  </tbody>\n",
       "</table>\n",
       "</div>"
      ],
      "text/plain": [
       "     가격     종류        판매일자 반품여부  가격차이\n",
       "0  1000     과자  2019-12-31   반품   750\n",
       "1  2000     음료  2020-03-02   정상  -250\n",
       "2  3000  아이스크림  2020-02-03   정상 -1250\n",
       "3  1000     과자  2019-12-31   반품   750"
      ]
     },
     "execution_count": 89,
     "metadata": {},
     "output_type": "execute_result"
    }
   ],
   "source": [
    "df_salesdays"
   ]
  },
  {
   "cell_type": "markdown",
   "id": "30ff6319-ec54-4466-b0e0-300d3e3c2bd5",
   "metadata": {},
   "source": [
    "## Series\n",
    "- index - data"
   ]
  },
  {
   "cell_type": "code",
   "execution_count": null,
   "id": "c61abf0b-7483-4efa-8ad1-463d2d82e116",
   "metadata": {
    "tags": []
   },
   "outputs": [],
   "source": [
    "single_data = [0.1,0.2,0.3,0.4,0.5]\n",
    "series_floats = pd.Series(data=single_data)\n",
    "series_floats"
   ]
  },
  {
   "cell_type": "code",
   "execution_count": null,
   "id": "1220c71b-9d1f-4152-bc23-894d38e13aec",
   "metadata": {
    "tags": []
   },
   "outputs": [],
   "source": [
    "type(series_floats)"
   ]
  },
  {
   "cell_type": "markdown",
   "id": "0ca06e75-fc11-4a75-bbbd-1c88a1e7be00",
   "metadata": {},
   "source": [
    "### 통계 수치 표현"
   ]
  },
  {
   "cell_type": "code",
   "execution_count": null,
   "id": "b224f93a-9eeb-4df7-b96d-26b086a14254",
   "metadata": {
    "tags": []
   },
   "outputs": [],
   "source": [
    "import numpy as np"
   ]
  },
  {
   "cell_type": "code",
   "execution_count": null,
   "id": "b97d44b4-bfe5-47e3-8ee5-305b184c425a",
   "metadata": {
    "tags": []
   },
   "outputs": [],
   "source": [
    "arr = np.array([6,4,1,3,5,3,10,7,9])\n",
    "arr"
   ]
  },
  {
   "cell_type": "code",
   "execution_count": null,
   "id": "4f7d5e65-efa7-4047-ac67-4e121c272b46",
   "metadata": {
    "tags": []
   },
   "outputs": [],
   "source": [
    "# 평균 , 합계\n",
    "np.mean(arr) , np.sum(arr)"
   ]
  },
  {
   "cell_type": "code",
   "execution_count": null,
   "id": "2acc3ae3-8cd9-426f-901b-26c32f1a2058",
   "metadata": {
    "tags": []
   },
   "outputs": [],
   "source": [
    "np.median(arr)"
   ]
  },
  {
   "cell_type": "code",
   "execution_count": null,
   "id": "d8d24f5d-aab7-4926-859a-4fcd93341041",
   "metadata": {
    "tags": []
   },
   "outputs": [],
   "source": [
    "# 최소값, 최대값\n",
    "print(np.min(arr),np.max(arr))"
   ]
  },
  {
   "cell_type": "code",
   "execution_count": null,
   "id": "de1e1fae-e190-4714-bcd8-4b4ecc55edab",
   "metadata": {
    "tags": []
   },
   "outputs": [],
   "source": [
    "# 분산 , 표준편차\n",
    "np.var(arr),np.std(arr)"
   ]
  },
  {
   "cell_type": "code",
   "execution_count": null,
   "id": "9113f096-297a-4e7c-95dc-adbc252bcaa9",
   "metadata": {},
   "outputs": [],
   "source": [
    "np.size(arr)"
   ]
  },
  {
   "cell_type": "markdown",
   "id": "341493e4-024e-427c-8ca4-8b4c80a4551c",
   "metadata": {},
   "source": [
    "### IQR"
   ]
  },
  {
   "cell_type": "code",
   "execution_count": null,
   "id": "806859b2-0e36-4261-a08d-bb0922744474",
   "metadata": {
    "tags": []
   },
   "outputs": [],
   "source": [
    "import numpy as np\n",
    "data = np.array([44, 32, 53, 75, 36, 45, 25, 49, 46, 28])"
   ]
  },
  {
   "cell_type": "code",
   "execution_count": null,
   "id": "ba21484c-2268-4d3c-a334-a3702d748acc",
   "metadata": {
    "tags": []
   },
   "outputs": [],
   "source": [
    "Q1 = np.percentile(data,25)"
   ]
  },
  {
   "cell_type": "code",
   "execution_count": null,
   "id": "19e7b767-0359-402d-bf99-1591a668871c",
   "metadata": {
    "tags": []
   },
   "outputs": [],
   "source": [
    "Q3 = np.percentile(data,75)"
   ]
  },
  {
   "cell_type": "code",
   "execution_count": null,
   "id": "aa504658-3cd8-420d-8092-c718f1c37d75",
   "metadata": {
    "tags": []
   },
   "outputs": [],
   "source": [
    "Q1,Q3,Q3 - Q1 ,np.median(data)"
   ]
  },
  {
   "cell_type": "code",
   "execution_count": null,
   "id": "25d7b714-73cc-4b4e-bced-23443c06f4f7",
   "metadata": {
    "tags": []
   },
   "outputs": [],
   "source": [
    "import seaborn as sns"
   ]
  },
  {
   "cell_type": "code",
   "execution_count": null,
   "id": "41048a0d-2a93-4a14-a29d-b4b3899d3610",
   "metadata": {
    "tags": []
   },
   "outputs": [],
   "source": [
    "sns.boxplot(data)"
   ]
  },
  {
   "cell_type": "code",
   "execution_count": null,
   "id": "7f14efa4-72a7-41c4-bc9e-a5711da35781",
   "metadata": {},
   "outputs": [],
   "source": []
  },
  {
   "cell_type": "code",
   "execution_count": null,
   "id": "f85cc924-bf34-4405-9933-9427c69e1c8b",
   "metadata": {},
   "outputs": [],
   "source": []
  }
 ],
 "metadata": {
  "kernelspec": {
   "display_name": "Python 3 (ipykernel)",
   "language": "python",
   "name": "python3"
  },
  "language_info": {
   "codemirror_mode": {
    "name": "ipython",
    "version": 3
   },
   "file_extension": ".py",
   "mimetype": "text/x-python",
   "name": "python",
   "nbconvert_exporter": "python",
   "pygments_lexer": "ipython3",
   "version": "3.11.3"
  }
 },
 "nbformat": 4,
 "nbformat_minor": 5
}
