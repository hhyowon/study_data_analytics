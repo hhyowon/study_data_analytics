{
 "cells": [
  {
   "cell_type": "code",
   "execution_count": 1,
   "id": "59b959bc-bbaf-4048-b811-5717abf5f5ad",
   "metadata": {
    "tags": []
   },
   "outputs": [],
   "source": [
    "import pandas as pd\n",
    "import matplotlib.pyplot as plt\n",
    "import matplotlib as mpl\n",
    "mpl.rc('font',family='Malgun Gothic')\n",
    "import seaborn as sns"
   ]
  },
  {
   "cell_type": "code",
   "execution_count": 2,
   "id": "4026875f-c763-4314-9591-b0b1c125a3d4",
   "metadata": {
    "tags": []
   },
   "outputs": [],
   "source": [
    "df_ROS = pd.read_csv('../../datasets/RecurrenceOfSurgery.csv')"
   ]
  },
  {
   "cell_type": "code",
   "execution_count": 3,
   "id": "ca3812ee-4678-4a24-9fbd-405d7a0a384b",
   "metadata": {
    "tags": []
   },
   "outputs": [
    {
     "data": {
      "text/plain": [
       "Index(['Unnamed: 0', '환자ID', 'Large Lymphocyte', 'Location of herniation',\n",
       "       'ODI', '가족력', '간질성폐질환', '고혈압여부', '과거수술횟수', '당뇨여부', '말초동맥질환여부', '빈혈여부',\n",
       "       '성별', '스테로이드치료', '신부전여부', '신장', '심혈관질환', '암발병여부', '연령', '우울증여부', '입원기간',\n",
       "       '입원일자', '종양진행여부', '직업', '체중', '퇴원일자', '헤모글로빈수치', '혈전합병증여부', '환자통증정도',\n",
       "       '흡연여부', '통증기간(월)', '수술기법', '수술시간', '수술실패여부', '수술일자', '재발여부', '혈액형',\n",
       "       '전방디스크높이(mm)', '후방디스크높이(mm)', '지방축적도', 'Instability', 'MF + ES',\n",
       "       'Modic change', 'PI', 'PT', 'Seg Angle(raw)', 'Vaccum disc', '골밀도',\n",
       "       '디스크단면적', '디스크위치', '척추이동척도', '척추전방위증'],\n",
       "      dtype='object')"
      ]
     },
     "execution_count": 3,
     "metadata": {},
     "output_type": "execute_result"
    }
   ],
   "source": [
    "df_ROS.columns"
   ]
  },
  {
   "cell_type": "markdown",
   "id": "dde383bf-5697-4969-91cf-99caf59e7ec5",
   "metadata": {},
   "source": [
    "### 시각화 분석 접근 방식\n",
    "- 표현하는 데이터 타입 : 연속형, 단일변수\n",
    "- 시각화 종류\n",
    "   - 단일변수 / 연속형 : histplot \n",
    "   - 단일변수 / 범주형 : barplot\n",
    "   - 단일변수 / 순서형 : lineplot\n",
    "- 현 데이터로 시각화 가능 여부\n",
    "    - 한 chart에 동시 시각화 가능 여부 : 레코드 분리 되어 잇어야 함.\n",
    "    - 단일 변수 표현 시 주의점 : count 대치하는 변수 여부"
   ]
  },
  {
   "cell_type": "code",
   "execution_count": 6,
   "id": "1a6c12fd-1ee6-4ea9-8397-6e0c764bd535",
   "metadata": {
    "tags": []
   },
   "outputs": [
    {
     "data": {
      "text/html": [
       "<div>\n",
       "<style scoped>\n",
       "    .dataframe tbody tr th:only-of-type {\n",
       "        vertical-align: middle;\n",
       "    }\n",
       "\n",
       "    .dataframe tbody tr th {\n",
       "        vertical-align: top;\n",
       "    }\n",
       "\n",
       "    .dataframe thead th {\n",
       "        text-align: right;\n",
       "    }\n",
       "</style>\n",
       "<table border=\"1\" class=\"dataframe\">\n",
       "  <thead>\n",
       "    <tr style=\"text-align: right;\">\n",
       "      <th></th>\n",
       "      <th>환자ID</th>\n",
       "      <th>퇴원일자</th>\n",
       "      <th>입원일자</th>\n",
       "    </tr>\n",
       "  </thead>\n",
       "  <tbody>\n",
       "    <tr>\n",
       "      <th>0</th>\n",
       "      <td>1PT</td>\n",
       "      <td>20190716</td>\n",
       "      <td>20190713</td>\n",
       "    </tr>\n",
       "    <tr>\n",
       "      <th>1</th>\n",
       "      <td>2PT</td>\n",
       "      <td>20190716</td>\n",
       "      <td>20190715</td>\n",
       "    </tr>\n",
       "    <tr>\n",
       "      <th>2</th>\n",
       "      <td>3PT</td>\n",
       "      <td>20190801</td>\n",
       "      <td>20190729</td>\n",
       "    </tr>\n",
       "    <tr>\n",
       "      <th>3</th>\n",
       "      <td>4PT</td>\n",
       "      <td>20190803</td>\n",
       "      <td>20190731</td>\n",
       "    </tr>\n",
       "    <tr>\n",
       "      <th>4</th>\n",
       "      <td>5PT</td>\n",
       "      <td>20190907</td>\n",
       "      <td>20190903</td>\n",
       "    </tr>\n",
       "    <tr>\n",
       "      <th>...</th>\n",
       "      <td>...</td>\n",
       "      <td>...</td>\n",
       "      <td>...</td>\n",
       "    </tr>\n",
       "    <tr>\n",
       "      <th>1889</th>\n",
       "      <td>1890PT</td>\n",
       "      <td>20170408</td>\n",
       "      <td>20170407</td>\n",
       "    </tr>\n",
       "    <tr>\n",
       "      <th>1890</th>\n",
       "      <td>1891PT</td>\n",
       "      <td>20170429</td>\n",
       "      <td>20170426</td>\n",
       "    </tr>\n",
       "    <tr>\n",
       "      <th>1891</th>\n",
       "      <td>1892PT</td>\n",
       "      <td>20170412</td>\n",
       "      <td>20170410</td>\n",
       "    </tr>\n",
       "    <tr>\n",
       "      <th>1892</th>\n",
       "      <td>1893PT</td>\n",
       "      <td>20170411</td>\n",
       "      <td>20170408</td>\n",
       "    </tr>\n",
       "    <tr>\n",
       "      <th>1893</th>\n",
       "      <td>1894PT</td>\n",
       "      <td>20170413</td>\n",
       "      <td>20170412</td>\n",
       "    </tr>\n",
       "  </tbody>\n",
       "</table>\n",
       "<p>1894 rows × 3 columns</p>\n",
       "</div>"
      ],
      "text/plain": [
       "        환자ID      퇴원일자      입원일자\n",
       "0        1PT  20190716  20190713\n",
       "1        2PT  20190716  20190715\n",
       "2        3PT  20190801  20190729\n",
       "3        4PT  20190803  20190731\n",
       "4        5PT  20190907  20190903\n",
       "...      ...       ...       ...\n",
       "1889  1890PT  20170408  20170407\n",
       "1890  1891PT  20170429  20170426\n",
       "1891  1892PT  20170412  20170410\n",
       "1892  1893PT  20170411  20170408\n",
       "1893  1894PT  20170413  20170412\n",
       "\n",
       "[1894 rows x 3 columns]"
      ]
     },
     "execution_count": 6,
     "metadata": {},
     "output_type": "execute_result"
    }
   ],
   "source": [
    "# 필요한 변수만 추출\n",
    "df_ROS_extract =df_ROS[['환자ID','퇴원일자','입원일자']]\n",
    "df_ROS_extract"
   ]
  },
  {
   "cell_type": "code",
   "execution_count": 11,
   "id": "4e13da29-a6a7-4fc7-8b46-e6b71d656783",
   "metadata": {
    "tags": []
   },
   "outputs": [
    {
     "name": "stderr",
     "output_type": "stream",
     "text": [
      "C:\\Users\\04-04\\AppData\\Local\\Temp\\ipykernel_9068\\2196080446.py:1: SettingWithCopyWarning: \n",
      "A value is trying to be set on a copy of a slice from a DataFrame.\n",
      "Try using .loc[row_indexer,col_indexer] = value instead\n",
      "\n",
      "See the caveats in the documentation: https://pandas.pydata.org/pandas-docs/stable/user_guide/indexing.html#returning-a-view-versus-a-copy\n",
      "  df_ROS_extract['입원일자_datetime'] = pd.to_datetime(df_ROS_extract['입원일자'].astype(str))   # string 으로 변환\n",
      "C:\\Users\\04-04\\AppData\\Local\\Temp\\ipykernel_9068\\2196080446.py:2: SettingWithCopyWarning: \n",
      "A value is trying to be set on a copy of a slice from a DataFrame.\n",
      "Try using .loc[row_indexer,col_indexer] = value instead\n",
      "\n",
      "See the caveats in the documentation: https://pandas.pydata.org/pandas-docs/stable/user_guide/indexing.html#returning-a-view-versus-a-copy\n",
      "  df_ROS_extract['퇴원일자_datetime'] = pd.to_datetime(df_ROS_extract['퇴원일자'].astype(str))   # string 으로 변환\n"
     ]
    }
   ],
   "source": [
    "df_ROS_extract['입원일자_datetime'] = pd.to_datetime(df_ROS_extract['입원일자'].astype(str))   # string 으로 변환\n",
    "df_ROS_extract['퇴원일자_datetime'] = pd.to_datetime(df_ROS_extract['퇴원일자'].astype(str))   # string 으로 변환"
   ]
  },
  {
   "cell_type": "code",
   "execution_count": 15,
   "id": "8d51692d-ad36-4bf0-b7ee-dc1fb4632771",
   "metadata": {
    "tags": []
   },
   "outputs": [
    {
     "data": {
      "text/html": [
       "<div>\n",
       "<style scoped>\n",
       "    .dataframe tbody tr th:only-of-type {\n",
       "        vertical-align: middle;\n",
       "    }\n",
       "\n",
       "    .dataframe tbody tr th {\n",
       "        vertical-align: top;\n",
       "    }\n",
       "\n",
       "    .dataframe thead th {\n",
       "        text-align: right;\n",
       "    }\n",
       "</style>\n",
       "<table border=\"1\" class=\"dataframe\">\n",
       "  <thead>\n",
       "    <tr style=\"text-align: right;\">\n",
       "      <th></th>\n",
       "      <th>환자ID</th>\n",
       "      <th>퇴원일자</th>\n",
       "      <th>입원일자</th>\n",
       "      <th>입원일자_datetime</th>\n",
       "      <th>퇴원일자_datetime</th>\n",
       "    </tr>\n",
       "  </thead>\n",
       "  <tbody>\n",
       "    <tr>\n",
       "      <th>0</th>\n",
       "      <td>1PT</td>\n",
       "      <td>20190716</td>\n",
       "      <td>20190713</td>\n",
       "      <td>2019-07-13</td>\n",
       "      <td>2019-07-16</td>\n",
       "    </tr>\n",
       "    <tr>\n",
       "      <th>1</th>\n",
       "      <td>2PT</td>\n",
       "      <td>20190716</td>\n",
       "      <td>20190715</td>\n",
       "      <td>2019-07-15</td>\n",
       "      <td>2019-07-16</td>\n",
       "    </tr>\n",
       "    <tr>\n",
       "      <th>2</th>\n",
       "      <td>3PT</td>\n",
       "      <td>20190801</td>\n",
       "      <td>20190729</td>\n",
       "      <td>2019-07-29</td>\n",
       "      <td>2019-08-01</td>\n",
       "    </tr>\n",
       "    <tr>\n",
       "      <th>3</th>\n",
       "      <td>4PT</td>\n",
       "      <td>20190803</td>\n",
       "      <td>20190731</td>\n",
       "      <td>2019-07-31</td>\n",
       "      <td>2019-08-03</td>\n",
       "    </tr>\n",
       "    <tr>\n",
       "      <th>4</th>\n",
       "      <td>5PT</td>\n",
       "      <td>20190907</td>\n",
       "      <td>20190903</td>\n",
       "      <td>2019-09-03</td>\n",
       "      <td>2019-09-07</td>\n",
       "    </tr>\n",
       "    <tr>\n",
       "      <th>5</th>\n",
       "      <td>6PT</td>\n",
       "      <td>20190907</td>\n",
       "      <td>20190905</td>\n",
       "      <td>2019-09-05</td>\n",
       "      <td>2019-09-07</td>\n",
       "    </tr>\n",
       "    <tr>\n",
       "      <th>6</th>\n",
       "      <td>7PT</td>\n",
       "      <td>20190626</td>\n",
       "      <td>20190622</td>\n",
       "      <td>2019-06-22</td>\n",
       "      <td>2019-06-26</td>\n",
       "    </tr>\n",
       "    <tr>\n",
       "      <th>7</th>\n",
       "      <td>8PT</td>\n",
       "      <td>20190402</td>\n",
       "      <td>20190330</td>\n",
       "      <td>2019-03-30</td>\n",
       "      <td>2019-04-02</td>\n",
       "    </tr>\n",
       "    <tr>\n",
       "      <th>8</th>\n",
       "      <td>9PT</td>\n",
       "      <td>20191206</td>\n",
       "      <td>20191203</td>\n",
       "      <td>2019-12-03</td>\n",
       "      <td>2019-12-06</td>\n",
       "    </tr>\n",
       "    <tr>\n",
       "      <th>9</th>\n",
       "      <td>10PT</td>\n",
       "      <td>20191213</td>\n",
       "      <td>20191210</td>\n",
       "      <td>2019-12-10</td>\n",
       "      <td>2019-12-13</td>\n",
       "    </tr>\n",
       "  </tbody>\n",
       "</table>\n",
       "</div>"
      ],
      "text/plain": [
       "   환자ID      퇴원일자      입원일자 입원일자_datetime 퇴원일자_datetime\n",
       "0   1PT  20190716  20190713    2019-07-13    2019-07-16\n",
       "1   2PT  20190716  20190715    2019-07-15    2019-07-16\n",
       "2   3PT  20190801  20190729    2019-07-29    2019-08-01\n",
       "3   4PT  20190803  20190731    2019-07-31    2019-08-03\n",
       "4   5PT  20190907  20190903    2019-09-03    2019-09-07\n",
       "5   6PT  20190907  20190905    2019-09-05    2019-09-07\n",
       "6   7PT  20190626  20190622    2019-06-22    2019-06-26\n",
       "7   8PT  20190402  20190330    2019-03-30    2019-04-02\n",
       "8   9PT  20191206  20191203    2019-12-03    2019-12-06\n",
       "9  10PT  20191213  20191210    2019-12-10    2019-12-13"
      ]
     },
     "execution_count": 15,
     "metadata": {},
     "output_type": "execute_result"
    }
   ],
   "source": [
    "df_ROS_extract[:10]\n",
    "# df_ROS_extract.info()"
   ]
  },
  {
   "cell_type": "markdown",
   "id": "60e3fbdd-ff36-46dd-b627-405c0e6a339c",
   "metadata": {},
   "source": [
    "### 주차별 환자 입원/퇴원 추이 시각화 및 인사이트\n",
    "- 표현하는 데이터 타입 : 연속형, 단일변수\n",
    "- 시각화 종류 : lineplot"
   ]
  },
  {
   "cell_type": "markdown",
   "id": "c75965fc-9f84-4930-adf9-1cfa8172b90b",
   "metadata": {},
   "source": [
    "### 요일별 환자 입원/퇴원 시각화 및 인사이트\n",
    "- 표현하는 데이터 타입 : 범주형 , 단일변수\n",
    "- 시각화 종류 : barplot\n",
    "- 레코드 갯수로 count"
   ]
  },
  {
   "cell_type": "code",
   "execution_count": 18,
   "id": "842d251b-472b-4530-89ea-10abe2b4f822",
   "metadata": {
    "collapsed": true,
    "jupyter": {
     "outputs_hidden": true
    },
    "tags": []
   },
   "outputs": [
    {
     "name": "stderr",
     "output_type": "stream",
     "text": [
      "C:\\Users\\04-04\\AppData\\Local\\Temp\\ipykernel_9068\\1296604899.py:1: SettingWithCopyWarning: \n",
      "A value is trying to be set on a copy of a slice from a DataFrame.\n",
      "Try using .loc[row_indexer,col_indexer] = value instead\n",
      "\n",
      "See the caveats in the documentation: https://pandas.pydata.org/pandas-docs/stable/user_guide/indexing.html#returning-a-view-versus-a-copy\n",
      "  df_ROS_extract['입원일자_datetime_day'] = df_ROS_extract['입원일자_datetime'].dt.day_name()\n",
      "C:\\Users\\04-04\\AppData\\Local\\Temp\\ipykernel_9068\\1296604899.py:2: SettingWithCopyWarning: \n",
      "A value is trying to be set on a copy of a slice from a DataFrame.\n",
      "Try using .loc[row_indexer,col_indexer] = value instead\n",
      "\n",
      "See the caveats in the documentation: https://pandas.pydata.org/pandas-docs/stable/user_guide/indexing.html#returning-a-view-versus-a-copy\n",
      "  df_ROS_extract['퇴원일자_datetime_day'] = df_ROS_extract['퇴원일자_datetime'].dt.day_name()\n"
     ]
    }
   ],
   "source": [
    "df_ROS_extract['입원일자_datetime_day'] = df_ROS_extract['입원일자_datetime'].dt.day_name()\n",
    "df_ROS_extract['퇴원일자_datetime_day'] = df_ROS_extract['퇴원일자_datetime'].dt.day_name()"
   ]
  },
  {
   "cell_type": "code",
   "execution_count": 19,
   "id": "4ad5c231-f555-4040-b730-1bc68c313afb",
   "metadata": {
    "tags": []
   },
   "outputs": [
    {
     "data": {
      "text/html": [
       "<div>\n",
       "<style scoped>\n",
       "    .dataframe tbody tr th:only-of-type {\n",
       "        vertical-align: middle;\n",
       "    }\n",
       "\n",
       "    .dataframe tbody tr th {\n",
       "        vertical-align: top;\n",
       "    }\n",
       "\n",
       "    .dataframe thead th {\n",
       "        text-align: right;\n",
       "    }\n",
       "</style>\n",
       "<table border=\"1\" class=\"dataframe\">\n",
       "  <thead>\n",
       "    <tr style=\"text-align: right;\">\n",
       "      <th></th>\n",
       "      <th>환자ID</th>\n",
       "      <th>퇴원일자</th>\n",
       "      <th>입원일자</th>\n",
       "      <th>입원일자_datetime</th>\n",
       "      <th>퇴원일자_datetime</th>\n",
       "      <th>입원일자_datetime_day</th>\n",
       "      <th>퇴원일자_datetime_day</th>\n",
       "    </tr>\n",
       "  </thead>\n",
       "  <tbody>\n",
       "    <tr>\n",
       "      <th>0</th>\n",
       "      <td>1PT</td>\n",
       "      <td>20190716</td>\n",
       "      <td>20190713</td>\n",
       "      <td>2019-07-13</td>\n",
       "      <td>2019-07-16</td>\n",
       "      <td>Saturday</td>\n",
       "      <td>Tuesday</td>\n",
       "    </tr>\n",
       "    <tr>\n",
       "      <th>1</th>\n",
       "      <td>2PT</td>\n",
       "      <td>20190716</td>\n",
       "      <td>20190715</td>\n",
       "      <td>2019-07-15</td>\n",
       "      <td>2019-07-16</td>\n",
       "      <td>Monday</td>\n",
       "      <td>Tuesday</td>\n",
       "    </tr>\n",
       "  </tbody>\n",
       "</table>\n",
       "</div>"
      ],
      "text/plain": [
       "  환자ID      퇴원일자      입원일자 입원일자_datetime 퇴원일자_datetime 입원일자_datetime_day  \\\n",
       "0  1PT  20190716  20190713    2019-07-13    2019-07-16          Saturday   \n",
       "1  2PT  20190716  20190715    2019-07-15    2019-07-16            Monday   \n",
       "\n",
       "  퇴원일자_datetime_day  \n",
       "0           Tuesday  \n",
       "1           Tuesday  "
      ]
     },
     "execution_count": 19,
     "metadata": {},
     "output_type": "execute_result"
    }
   ],
   "source": [
    "df_ROS_extract[:2]"
   ]
  },
  {
   "cell_type": "code",
   "execution_count": 26,
   "id": "611e5cce-daf7-4676-b19b-fa43c12d152b",
   "metadata": {
    "tags": []
   },
   "outputs": [
    {
     "data": {
      "text/plain": [
       "Tuesday      376\n",
       "Monday       329\n",
       "Thursday     329\n",
       "Wednesday    304\n",
       "Sunday       204\n",
       "Friday       204\n",
       "Saturday     148\n",
       "Name: 입원일자_datetime_day, dtype: int64"
      ]
     },
     "execution_count": 26,
     "metadata": {},
     "output_type": "execute_result"
    }
   ],
   "source": [
    "df_ROS_extract['입원일자_datetime_day'].value_counts()"
   ]
  },
  {
   "cell_type": "code",
   "execution_count": 35,
   "id": "d11dce7f-18c8-484d-9a40-dece47efc27a",
   "metadata": {
    "tags": []
   },
   "outputs": [
    {
     "data": {
      "text/plain": [
       "<Axes: xlabel='입원일자_datetime_day'>"
      ]
     },
     "execution_count": 35,
     "metadata": {},
     "output_type": "execute_result"
    },
    {
     "data": {
      "image/png": "[encoded data removed]",
      "text/plain": [
       "<Figure size 640x480 with 1 Axes>"
      ]
     },
     "metadata": {},
     "output_type": "display_data"
    }
   ],
   "source": [
    "pd.pivot_table(data=df_ROS_extract[['입원일자_datetime_day','환자ID']],index='입원일자_datetime_day',aggfunc=len).plot(kind='bar')  #index = group by\n",
    "#df_ROS_extract_pivot = pd.pivot_table(data=df_ROS_extract[['입원일자_datetime_day','환자ID']],index='입원일자_datetime_day',aggfunc=len) #index = group by\n",
    "#df_ROS_extract_pivot[:2]"
   ]
  },
  {
   "cell_type": "code",
   "execution_count": 32,
   "id": "4bee3d98-b71e-46a8-8a07-4cfc19d1d3d6",
   "metadata": {
    "tags": []
   },
   "outputs": [],
   "source": [
    "df_ROS_extract_pivot['입원일자_dayname']=df_ROS_extract_pivot.index"
   ]
  },
  {
   "cell_type": "code",
   "execution_count": 34,
   "id": "e44a7dae-0c0a-403c-93c8-0e1212b21d80",
   "metadata": {
    "tags": []
   },
   "outputs": [
    {
     "data": {
      "text/html": [
       "<div>\n",
       "<style scoped>\n",
       "    .dataframe tbody tr th:only-of-type {\n",
       "        vertical-align: middle;\n",
       "    }\n",
       "\n",
       "    .dataframe tbody tr th {\n",
       "        vertical-align: top;\n",
       "    }\n",
       "\n",
       "    .dataframe thead th {\n",
       "        text-align: right;\n",
       "    }\n",
       "</style>\n",
       "<table border=\"1\" class=\"dataframe\">\n",
       "  <thead>\n",
       "    <tr style=\"text-align: right;\">\n",
       "      <th></th>\n",
       "      <th>환자ID</th>\n",
       "      <th>입원일자_dayname</th>\n",
       "    </tr>\n",
       "    <tr>\n",
       "      <th>입원일자_datetime_day</th>\n",
       "      <th></th>\n",
       "      <th></th>\n",
       "    </tr>\n",
       "  </thead>\n",
       "  <tbody>\n",
       "    <tr>\n",
       "      <th>Friday</th>\n",
       "      <td>204</td>\n",
       "      <td>Friday</td>\n",
       "    </tr>\n",
       "    <tr>\n",
       "      <th>Monday</th>\n",
       "      <td>329</td>\n",
       "      <td>Monday</td>\n",
       "    </tr>\n",
       "    <tr>\n",
       "      <th>Saturday</th>\n",
       "      <td>148</td>\n",
       "      <td>Saturday</td>\n",
       "    </tr>\n",
       "    <tr>\n",
       "      <th>Sunday</th>\n",
       "      <td>204</td>\n",
       "      <td>Sunday</td>\n",
       "    </tr>\n",
       "    <tr>\n",
       "      <th>Thursday</th>\n",
       "      <td>329</td>\n",
       "      <td>Thursday</td>\n",
       "    </tr>\n",
       "    <tr>\n",
       "      <th>Tuesday</th>\n",
       "      <td>376</td>\n",
       "      <td>Tuesday</td>\n",
       "    </tr>\n",
       "    <tr>\n",
       "      <th>Wednesday</th>\n",
       "      <td>304</td>\n",
       "      <td>Wednesday</td>\n",
       "    </tr>\n",
       "  </tbody>\n",
       "</table>\n",
       "</div>"
      ],
      "text/plain": [
       "                   환자ID 입원일자_dayname\n",
       "입원일자_datetime_day                   \n",
       "Friday              204       Friday\n",
       "Monday              329       Monday\n",
       "Saturday            148     Saturday\n",
       "Sunday              204       Sunday\n",
       "Thursday            329     Thursday\n",
       "Tuesday             376      Tuesday\n",
       "Wednesday           304    Wednesday"
      ]
     },
     "execution_count": 34,
     "metadata": {},
     "output_type": "execute_result"
    }
   ],
   "source": [
    "df_ROS_extract_pivot  # 오른쪽 요일은 index , 왼쪽은 컬럼 "
   ]
  },
  {
   "cell_type": "code",
   "execution_count": null,
   "id": "b3c247c9-aef5-48c5-bbbb-a96deac8872e",
   "metadata": {},
   "outputs": [],
   "source": []
  }
 ],
 "metadata": {
  "kernelspec": {
   "display_name": "Python 3 (ipykernel)",
   "language": "python",
   "name": "python3"
  },
  "language_info": {
   "codemirror_mode": {
    "name": "ipython",
    "version": 3
   },
   "file_extension": ".py",
   "mimetype": "text/x-python",
   "name": "python",
   "nbconvert_exporter": "python",
   "pygments_lexer": "ipython3",
   "version": "3.11.3"
  }
 },
 "nbformat": 4,
 "nbformat_minor": 5
}
