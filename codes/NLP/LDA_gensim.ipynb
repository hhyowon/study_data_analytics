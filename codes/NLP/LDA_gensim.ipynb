{
 "cells": [
  {
   "cell_type": "code",
   "execution_count": 17,
   "id": "3fbc26c4-9c74-4a10-b38d-312c5d9fc567",
   "metadata": {},
   "outputs": [],
   "source": [
    "sentences = [\n",
    "    \"오늘 날씨가 좋아서 나들이 가고 싶다.\", # -> [오늘, 날씨가, 좋아서 ...]\n",
    "    \"이 영화는 정말 재미있었어요.\",\n",
    "    \"맛있는 음식을 먹으러 갈까요?\",\n",
    "    \"운동을 하면 건강에 좋아지는 것 같아요.\",\n",
    "    \"공부하기 싫어서 미루고 있어요.\",\n",
    "    \"여행 계획을 세우고 있는데 어디로 갈까요?\",\n",
    "    \"좋은 책을 읽으면 마음이 편안해져요.\",\n",
    "    \"오늘은 친구들과 만나서 재미있게 놀았어요.\",\n",
    "    \"새로운 언어를 배우는 것은 어려워도 흥미로워요.\",\n",
    "    \"주말에 가족들과 함께 시간을 보내기로 했습니다.\"\n",
    "]\n",
    "# [(0, '0.092*\"것\" + 0.090*\"건강\" + 0.090*\"오늘\" + 0.089*\"운동\" + 0.089*\"친구\"'),\n",
    "#  (1, '0.073*\"계획\" + 0.073*\"여행\" + 0.073*\"어디\" + 0.073*\"가족\" + 0.073*\"시간\"'),\n",
    "#  (2, '0.113*\"것\" + 0.113*\"흥미\" + 0.112*\"언어\" + 0.103*\"음식\" + 0.038*\"공부\"')]"
   ]
  },
  {
   "cell_type": "code",
   "execution_count": 4,
   "id": "687dd1db-6a71-4726-97c6-51a720ea974f",
   "metadata": {},
   "outputs": [],
   "source": [
    "from gensim.corpora import Dictionary\n",
    "from gensim.models import LdaModel # 주제어 확인"
   ]
  },
  {
   "cell_type": "markdown",
   "id": "caed3fbe-abcf-43a2-bffc-525d1411ccbe",
   "metadata": {},
   "source": [
    "### 전처리(형태소 분석, 불용어 처리 등)"
   ]
  },
  {
   "cell_type": "code",
   "execution_count": 36,
   "id": "1fb507dc-df9c-48af-a2f3-8388332fd97d",
   "metadata": {
    "tags": []
   },
   "outputs": [
    {
     "data": {
      "text/plain": [
       "[['날씨', '나'],\n",
       " ['영화'],\n",
       " ['음식'],\n",
       " ['운동', '건강', '것'],\n",
       " ['공부'],\n",
       " ['여행', '계획', '어디'],\n",
       " ['책', '마음', '편안'],\n",
       " ['오늘', '친구'],\n",
       " ['언어', '것', '흥미'],\n",
       " ['주말', '가족', '시간']]"
      ]
     },
     "execution_count": 36,
     "metadata": {},
     "output_type": "execute_result"
    }
   ],
   "source": [
    "from mecab import MeCab\n",
    "mecab = MeCab()\n",
    "# 형태분석기 사용해 명사만 추출\n",
    "morphs_list = list()\n",
    "for sentence in sentences :\n",
    "    morphs = mecab.nouns(sentence)\n",
    "    morphs_list.append(morphs)\n",
    "morphs_list"
   ]
  },
  {
   "cell_type": "code",
   "execution_count": 37,
   "id": "a8ce1579-884d-4874-b5e9-555788bc3c74",
   "metadata": {},
   "outputs": [],
   "source": [
    "preprocessed_sentences = morphs_list"
   ]
  },
  {
   "cell_type": "code",
   "execution_count": 38,
   "id": "6cb2e858-0543-477a-81d6-b31045b8b92f",
   "metadata": {},
   "outputs": [
    {
     "data": {
      "text/plain": [
       "<gensim.corpora.dictionary.Dictionary at 0x18dc14fb4c0>"
      ]
     },
     "execution_count": 38,
     "metadata": {},
     "output_type": "execute_result"
    }
   ],
   "source": [
    "dictionary = Dictionary(preprocessed_sentences) # fix in like sklean\n",
    "dictionary"
   ]
  },
  {
   "cell_type": "markdown",
   "id": "7d813d6d-4d6e-4e9b-b598-05ef155bad08",
   "metadata": {},
   "source": [
    "### transform with dictionary"
   ]
  },
  {
   "cell_type": "code",
   "execution_count": 39,
   "id": "99a60e3a-1201-406c-83eb-e01ccc8850bd",
   "metadata": {
    "tags": []
   },
   "outputs": [
    {
     "data": {
      "text/plain": [
       "[(0, 1), (1, 1)]"
      ]
     },
     "execution_count": 39,
     "metadata": {},
     "output_type": "execute_result"
    }
   ],
   "source": [
    "# dictionary.token2id\n",
    "dictionary.doc2bow(preprocessed_sentences[0])  # transform"
   ]
  },
  {
   "cell_type": "code",
   "execution_count": 40,
   "id": "306f8d5b-9847-471e-b3aa-06ed80bef77e",
   "metadata": {
    "tags": []
   },
   "outputs": [],
   "source": [
    "corpus_list = list()\n",
    "for sentence in preprocessed_sentences:\n",
    "    morphs_vector = dictionary.doc2bow(sentence)\n",
    "    corpus_list.append(morphs_vector)\n",
    "# corpus_list    "
   ]
  },
  {
   "cell_type": "code",
   "execution_count": 41,
   "id": "f0f040cd-ee13-4475-bfb3-44e75ab9dd4f",
   "metadata": {},
   "outputs": [],
   "source": [
    "lda_model = LdaModel(corpus=corpus_list, id2word=dictionary, num_topics=3) # fix"
   ]
  },
  {
   "cell_type": "code",
   "execution_count": 42,
   "id": "74c174a3-82b8-44a0-82d3-fa13d25e954f",
   "metadata": {},
   "outputs": [
    {
     "data": {
      "text/plain": [
       "[(0, '0.092*\"것\" + 0.090*\"건강\" + 0.090*\"오늘\" + 0.089*\"운동\" + 0.089*\"친구\"'),\n",
       " (1, '0.073*\"계획\" + 0.073*\"여행\" + 0.073*\"어디\" + 0.073*\"가족\" + 0.073*\"시간\"'),\n",
       " (2, '0.113*\"것\" + 0.113*\"흥미\" + 0.112*\"언어\" + 0.103*\"음식\" + 0.038*\"공부\"')]"
      ]
     },
     "execution_count": 42,
     "metadata": {},
     "output_type": "execute_result"
    }
   ],
   "source": [
    "lda_model.print_topics(num_words=5)"
   ]
  },
  {
   "cell_type": "code",
   "execution_count": null,
   "id": "c15346d9-4b57-416b-a934-88f6edb4f3e2",
   "metadata": {},
   "outputs": [],
   "source": []
  }
 ],
 "metadata": {
  "kernelspec": {
   "display_name": "Python 3 (ipykernel)",
   "language": "python",
   "name": "python3"
  },
  "language_info": {
   "codemirror_mode": {
    "name": "ipython",
    "version": 3
   },
   "file_extension": ".py",
   "mimetype": "text/x-python",
   "name": "python",
   "nbconvert_exporter": "python",
   "pygments_lexer": "ipython3",
   "version": "3.9.13"
  }
 },
 "nbformat": 4,
 "nbformat_minor": 5
}
