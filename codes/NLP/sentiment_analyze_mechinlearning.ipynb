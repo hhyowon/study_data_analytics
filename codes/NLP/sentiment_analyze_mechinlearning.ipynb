{
 "cells": [
  {
   "cell_type": "code",
   "execution_count": 1,
   "id": "ded3a6d7-af42-44c5-85fd-64de11cebbb1",
   "metadata": {
    "tags": []
   },
   "outputs": [
    {
     "name": "stdout",
     "output_type": "stream",
     "text": [
      "Collecting python-mecab-ko\n",
      "  Using cached python_mecab_ko-1.3.3-cp311-cp311-win_amd64.whl (814 kB)\n",
      "Collecting python-mecab-ko-dic (from python-mecab-ko)\n",
      "  Using cached python_mecab_ko_dic-2.1.1.post2-py3-none-any.whl (34.5 MB)\n",
      "Installing collected packages: python-mecab-ko-dic, python-mecab-ko\n",
      "Successfully installed python-mecab-ko-1.3.3 python-mecab-ko-dic-2.1.1.post2\n"
     ]
    }
   ],
   "source": [
    "!pip install python-mecab-ko"
   ]
  },
  {
   "cell_type": "markdown",
   "id": "d2387a83-3fc2-4172-9594-626f26e3c4e1",
   "metadata": {},
   "source": [
    "## 머신러닝 의한 감성 분석 "
   ]
  },
  {
   "cell_type": "code",
   "execution_count": 40,
   "id": "cb9e85c4-983b-406c-90ca-f6c17bafd57d",
   "metadata": {
    "tags": []
   },
   "outputs": [],
   "source": [
    "comments_positive = [\n",
    "    \"맛이 정말 풍부하고, 재료도 신선해서 좋았어요. 서비스도 훌륭했습니다.\",  # 음식\n",
    "    \"해변이 너무 깨끗하고 아름다웠습니다. 다음 여행에서는 더 오래 머물고 싶네요.\",  # 여행지\n",
    "    \"연기력이 대단했고, 스토리 전개가 매우 재미있었습니다. 강력 추천합니다!\",  # 영화\n",
    "    \"노래의 가사와 멜로디가 너무 좋아요, 계속 듣게 되네요.\",  # 음악\n",
    "    \"핸들링이 매우 부드럽고 연비도 좋습니다. 차량 내부 디자인도 세련되었어요.\",  # 자동차\n",
    "    \"배터리 수명이 길고 카메라 기능이 우수합니다. 사용하기 편리한 UI가 마음에 듭니다.\",  # 스마트폰\n",
    "    \"교수님 설명이 명확하시고 이해하기 쉽습니다, 추가 자료도 유용했습니다.\",  # 강의\n",
    "    \"성능 대비 가격이 아주 만족스러워요, 게임을 할 때 지연 없이 부드럽게 실행됩니다.\",  # 컴퓨터 \n",
    "    \"분위기가 정말 좋아서 친구들과 수다 떨기 좋아요, 커피 맛도 최상입니다!\",   #카페 \n",
    "     \"글쓰기 스타일과 주제 모두 제 취향에 딱 맞아서 한 번 읽기 시작하면 멈출 수 없어요.\"   #서적 \n",
    "]\n",
    "\n",
    "comments_negative = [\n",
    "    \"음식이 너무 짜고, 서비스도 별로였어요. 다시 가고 싶지 않네요.\",  # 음식\n",
    "    \"해변이 너무 더러웠고, 주변 시설도 부족했습니다. 다시는 방문하고 싶지 않아요.\",  # 여행지\n",
    "    \"연기력이 별로였고, 스토리 전개도 지루했습니다. 비추합니다!\",  # 영화\n",
    "    \"노래 가사가 이해가 안 가고, 멜로디도 재미없어요. 듣기 싫네요.\",  # 음악\n",
    "    \"핸들링이 너무 뻑뻑하고 연비도 나쁩니다. 차량 내부 디자인도 구식이에요.\",  # 자동차\n",
    "    \"배터리 수명이 짧고 카메라 기능도 별로입니다. 사용하기 어렵습니다.\",  # 스마트폰\n",
    "    \"교수님 설명이 애매하시고 이해하기 어렵습니다, 추가 자료도 도움되지 않았어요.\",  # 강의\n",
    "    \"성능 대비 가격이 너무 비싸요, 게임을 할 때 계속 지연됩니다.\",  # 컴퓨터 \n",
    "    \"분위기가 시끄럽서 친구들과 수다 떨기 힘들었어요, 커피 맛도 그다지...\",   #카페 \n",
    "     \"글쓰기 스타일과 주제 모두 제 취향과 맞지 않아서 한 페이지 읽는 것조차 힘들었어요.\"   #서적 \n",
    "]"
   ]
  },
  {
   "cell_type": "code",
   "execution_count": 41,
   "id": "e2473cc6-1ddc-4e46-9f29-0dc4293f81d4",
   "metadata": {
    "tags": []
   },
   "outputs": [
    {
     "data": {
      "text/plain": [
       "(10, 10)"
      ]
     },
     "execution_count": 41,
     "metadata": {},
     "output_type": "execute_result"
    }
   ],
   "source": [
    "len(comments_positive) , len(comments_negative)"
   ]
  },
  {
   "cell_type": "code",
   "execution_count": 42,
   "id": "2a8be3c4-d002-4dcf-8cf5-69e8eb31b839",
   "metadata": {
    "tags": []
   },
   "outputs": [],
   "source": [
    "comments_list = comments_positive + comments_negative"
   ]
  },
  {
   "cell_type": "markdown",
   "id": "8e5356e2-e4c4-4783-ab75-7479ae0cc3be",
   "metadata": {},
   "source": [
    "## 형태소 분석기 통한 품사 분류"
   ]
  },
  {
   "cell_type": "code",
   "execution_count": 43,
   "id": "2aa8a6ca-8683-491e-819a-e9ff4471b308",
   "metadata": {
    "collapsed": true,
    "jupyter": {
     "outputs_hidden": true
    },
    "tags": []
   },
   "outputs": [
    {
     "data": {
      "text/plain": [
       "[['맛',\n",
       "  '이',\n",
       "  '정말',\n",
       "  '풍부',\n",
       "  '하',\n",
       "  '고',\n",
       "  ',',\n",
       "  '재료',\n",
       "  '도',\n",
       "  '신선',\n",
       "  '해서',\n",
       "  '좋',\n",
       "  '았',\n",
       "  '어요',\n",
       "  '.',\n",
       "  '서비스',\n",
       "  '도',\n",
       "  '훌륭',\n",
       "  '했',\n",
       "  '습니다',\n",
       "  '.'],\n",
       " ['해변',\n",
       "  '이',\n",
       "  '너무',\n",
       "  '깨끗',\n",
       "  '하',\n",
       "  '고',\n",
       "  '아름다웠',\n",
       "  '습니다',\n",
       "  '.',\n",
       "  '다음',\n",
       "  '여행',\n",
       "  '에서',\n",
       "  '는',\n",
       "  '더',\n",
       "  '오래',\n",
       "  '머물',\n",
       "  '고',\n",
       "  '싶',\n",
       "  '네요',\n",
       "  '.'],\n",
       " ['연기력',\n",
       "  '이',\n",
       "  '대단',\n",
       "  '했',\n",
       "  '고',\n",
       "  ',',\n",
       "  '스토리',\n",
       "  '전개',\n",
       "  '가',\n",
       "  '매우',\n",
       "  '재미있',\n",
       "  '었',\n",
       "  '습니다',\n",
       "  '.',\n",
       "  '강력',\n",
       "  '추천',\n",
       "  '합니다',\n",
       "  '!'],\n",
       " ['노래',\n",
       "  '의',\n",
       "  '가사',\n",
       "  '와',\n",
       "  '멜로디',\n",
       "  '가',\n",
       "  '너무',\n",
       "  '좋',\n",
       "  '아요',\n",
       "  ',',\n",
       "  '계속',\n",
       "  '듣',\n",
       "  '게',\n",
       "  '되',\n",
       "  '네요',\n",
       "  '.'],\n",
       " ['핸들링',\n",
       "  '이',\n",
       "  '매우',\n",
       "  '부드럽',\n",
       "  '고',\n",
       "  '연비',\n",
       "  '도',\n",
       "  '좋',\n",
       "  '습니다',\n",
       "  '.',\n",
       "  '차량',\n",
       "  '내부',\n",
       "  '디자인',\n",
       "  '도',\n",
       "  '세련',\n",
       "  '되',\n",
       "  '었',\n",
       "  '어요',\n",
       "  '.'],\n",
       " ['배터리',\n",
       "  '수명',\n",
       "  '이',\n",
       "  '길',\n",
       "  '고',\n",
       "  '카메라',\n",
       "  '기능',\n",
       "  '이',\n",
       "  '우수',\n",
       "  '합니다',\n",
       "  '.',\n",
       "  '사용',\n",
       "  '하',\n",
       "  '기',\n",
       "  '편리',\n",
       "  '한',\n",
       "  'UI',\n",
       "  '가',\n",
       "  '마음',\n",
       "  '에',\n",
       "  '듭니다',\n",
       "  '.'],\n",
       " ['교수',\n",
       "  '님',\n",
       "  '설명',\n",
       "  '이',\n",
       "  '명확',\n",
       "  '하',\n",
       "  '시',\n",
       "  '고',\n",
       "  '이해',\n",
       "  '하',\n",
       "  '기',\n",
       "  '쉽',\n",
       "  '습니다',\n",
       "  ',',\n",
       "  '추가',\n",
       "  '자료',\n",
       "  '도',\n",
       "  '유용',\n",
       "  '했',\n",
       "  '습니다',\n",
       "  '.'],\n",
       " ['성능',\n",
       "  '대비',\n",
       "  '가격',\n",
       "  '이',\n",
       "  '아주',\n",
       "  '만족',\n",
       "  '스러워',\n",
       "  '요',\n",
       "  ',',\n",
       "  '게임',\n",
       "  '을',\n",
       "  '할',\n",
       "  '때',\n",
       "  '지연',\n",
       "  '없이',\n",
       "  '부드럽',\n",
       "  '게',\n",
       "  '실행',\n",
       "  '됩니다',\n",
       "  '.'],\n",
       " ['분위기',\n",
       "  '가',\n",
       "  '정말',\n",
       "  '좋',\n",
       "  '아서',\n",
       "  '친구',\n",
       "  '들',\n",
       "  '과',\n",
       "  '수다',\n",
       "  '떨기',\n",
       "  '좋',\n",
       "  '아요',\n",
       "  ',',\n",
       "  '커피',\n",
       "  '맛',\n",
       "  '도',\n",
       "  '최상',\n",
       "  '입니다',\n",
       "  '!'],\n",
       " ['글쓰기',\n",
       "  '스타일',\n",
       "  '과',\n",
       "  '주제',\n",
       "  '모두',\n",
       "  '제',\n",
       "  '취향',\n",
       "  '에',\n",
       "  '딱',\n",
       "  '맞',\n",
       "  '아서',\n",
       "  '한',\n",
       "  '번',\n",
       "  '읽',\n",
       "  '기',\n",
       "  '시작',\n",
       "  '하',\n",
       "  '면',\n",
       "  '멈출',\n",
       "  '수',\n",
       "  '없',\n",
       "  '어요',\n",
       "  '.'],\n",
       " ['음식',\n",
       "  '이',\n",
       "  '너무',\n",
       "  '짜',\n",
       "  '고',\n",
       "  ',',\n",
       "  '서비스',\n",
       "  '도',\n",
       "  '별로',\n",
       "  '였',\n",
       "  '어요',\n",
       "  '.',\n",
       "  '다시',\n",
       "  '가',\n",
       "  '고',\n",
       "  '싶',\n",
       "  '지',\n",
       "  '않',\n",
       "  '네요',\n",
       "  '.'],\n",
       " ['해변',\n",
       "  '이',\n",
       "  '너무',\n",
       "  '더러웠',\n",
       "  '고',\n",
       "  ',',\n",
       "  '주변',\n",
       "  '시설',\n",
       "  '도',\n",
       "  '부족',\n",
       "  '했',\n",
       "  '습니다',\n",
       "  '.',\n",
       "  '다시',\n",
       "  '는',\n",
       "  '방문',\n",
       "  '하',\n",
       "  '고',\n",
       "  '싶',\n",
       "  '지',\n",
       "  '않',\n",
       "  '아요',\n",
       "  '.'],\n",
       " ['연기력',\n",
       "  '이',\n",
       "  '별로',\n",
       "  '였',\n",
       "  '고',\n",
       "  ',',\n",
       "  '스토리',\n",
       "  '전개',\n",
       "  '도',\n",
       "  '지루',\n",
       "  '했',\n",
       "  '습니다',\n",
       "  '.',\n",
       "  '비추',\n",
       "  '합니다',\n",
       "  '!'],\n",
       " ['노래',\n",
       "  '가사',\n",
       "  '가',\n",
       "  '이해',\n",
       "  '가',\n",
       "  '안',\n",
       "  '가',\n",
       "  '고',\n",
       "  ',',\n",
       "  '멜로디',\n",
       "  '도',\n",
       "  '재미없',\n",
       "  '어요',\n",
       "  '.',\n",
       "  '듣',\n",
       "  '기',\n",
       "  '싫',\n",
       "  '네요',\n",
       "  '.'],\n",
       " ['핸들링',\n",
       "  '이',\n",
       "  '너무',\n",
       "  '뻑뻑',\n",
       "  '하',\n",
       "  '고',\n",
       "  '연비',\n",
       "  '도',\n",
       "  '나쁩니다',\n",
       "  '.',\n",
       "  '차량',\n",
       "  '내부',\n",
       "  '디자인',\n",
       "  '도',\n",
       "  '구식',\n",
       "  '이',\n",
       "  '에요',\n",
       "  '.'],\n",
       " ['배터리',\n",
       "  '수명',\n",
       "  '이',\n",
       "  '짧',\n",
       "  '고',\n",
       "  '카메라',\n",
       "  '기능',\n",
       "  '도',\n",
       "  '별로',\n",
       "  '입니다',\n",
       "  '.',\n",
       "  '사용',\n",
       "  '하',\n",
       "  '기',\n",
       "  '어렵',\n",
       "  '습니다',\n",
       "  '.'],\n",
       " ['교수',\n",
       "  '님',\n",
       "  '설명',\n",
       "  '이',\n",
       "  '애매',\n",
       "  '하',\n",
       "  '시',\n",
       "  '고',\n",
       "  '이해',\n",
       "  '하',\n",
       "  '기',\n",
       "  '어렵',\n",
       "  '습니다',\n",
       "  ',',\n",
       "  '추가',\n",
       "  '자료',\n",
       "  '도',\n",
       "  '도움',\n",
       "  '되',\n",
       "  '지',\n",
       "  '않',\n",
       "  '았',\n",
       "  '어요',\n",
       "  '.'],\n",
       " ['성능',\n",
       "  '대비',\n",
       "  '가격',\n",
       "  '이',\n",
       "  '너무',\n",
       "  '비싸',\n",
       "  '요',\n",
       "  ',',\n",
       "  '게임',\n",
       "  '을',\n",
       "  '할',\n",
       "  '때',\n",
       "  '계속',\n",
       "  '지연',\n",
       "  '됩니다',\n",
       "  '.'],\n",
       " ['분위기',\n",
       "  '가',\n",
       "  '시끄럽',\n",
       "  '서',\n",
       "  '친구',\n",
       "  '들',\n",
       "  '과',\n",
       "  '수다',\n",
       "  '떨기',\n",
       "  '힘들',\n",
       "  '었',\n",
       "  '어요',\n",
       "  ',',\n",
       "  '커피',\n",
       "  '맛',\n",
       "  '도',\n",
       "  '그다지',\n",
       "  '.',\n",
       "  '..'],\n",
       " ['글쓰기',\n",
       "  '스타일',\n",
       "  '과',\n",
       "  '주제',\n",
       "  '모두',\n",
       "  '제',\n",
       "  '취향',\n",
       "  '과',\n",
       "  '맞',\n",
       "  '지',\n",
       "  '않',\n",
       "  '아서',\n",
       "  '한',\n",
       "  '페이지',\n",
       "  '읽',\n",
       "  '는',\n",
       "  '것',\n",
       "  '조차',\n",
       "  '힘들',\n",
       "  '었',\n",
       "  '어요',\n",
       "  '.']]"
      ]
     },
     "execution_count": 43,
     "metadata": {},
     "output_type": "execute_result"
    }
   ],
   "source": [
    "from mecab import MeCab\n",
    "mecab = MeCab()\n",
    "# 다른종류의 mecab임\n",
    "\n",
    "tokenized_comments = list()\n",
    "for comment in comments_list :\n",
    "    comment_morphs = mecab.morphs(comment)\n",
    "   # ''.join(comment_morphs)\n",
    "   # 추가로 불용어 처리 필요\n",
    "    tokenized_comments.append(comment_morphs)\n",
    "tokenized_comments"
   ]
  },
  {
   "cell_type": "code",
   "execution_count": 44,
   "id": "89fab07f-4360-43fb-a9f7-6edc38c97794",
   "metadata": {
    "collapsed": true,
    "jupyter": {
     "outputs_hidden": true
    },
    "tags": []
   },
   "outputs": [
    {
     "data": {
      "text/plain": [
       "[('맛', 'NNG'),\n",
       " ('이', 'JKS'),\n",
       " ('정말', 'MAG'),\n",
       " ('풍부', 'XR'),\n",
       " ('하', 'XSA'),\n",
       " ('고', 'EC'),\n",
       " (',', 'SC'),\n",
       " ('재료', 'NNG'),\n",
       " ('도', 'JX'),\n",
       " ('신선', 'XR'),\n",
       " ('해서', 'XSA+EC'),\n",
       " ('좋', 'VA'),\n",
       " ('았', 'EP'),\n",
       " ('어요', 'EF'),\n",
       " ('.', 'SF'),\n",
       " ('서비스', 'NNG'),\n",
       " ('도', 'JX'),\n",
       " ('훌륭', 'XR'),\n",
       " ('했', 'XSA+EP'),\n",
       " ('습니다', 'EF'),\n",
       " ('.', 'SF')]"
      ]
     },
     "execution_count": 44,
     "metadata": {},
     "output_type": "execute_result"
    }
   ],
   "source": [
    "mecab.pos(comments_list[0])"
   ]
  },
  {
   "cell_type": "markdown",
   "id": "6798b848-d5fb-4a56-a691-62b82deeec85",
   "metadata": {
    "tags": []
   },
   "source": [
    "## 벡터 토큰화(단어 숫자화)"
   ]
  },
  {
   "cell_type": "code",
   "execution_count": 45,
   "id": "6cfb4ee7-b1d7-4ceb-abd4-9ec49a9a29ad",
   "metadata": {
    "tags": []
   },
   "outputs": [],
   "source": [
    "from sklearn.feature_extraction.text import CountVectorizer, TfidfVectorizer"
   ]
  },
  {
   "cell_type": "code",
   "execution_count": 49,
   "id": "582e2b81-dce4-4387-bcfb-419e0c3fc83e",
   "metadata": {
    "tags": []
   },
   "outputs": [],
   "source": [
    "comments = list()\n",
    "for token in tokenized_comments:\n",
    "    comments.append(''.join(token))"
   ]
  },
  {
   "cell_type": "code",
   "execution_count": 50,
   "id": "955cae4a-867e-495e-becb-681a6ef3d37e",
   "metadata": {
    "tags": []
   },
   "outputs": [
    {
     "data": {
      "text/html": [
       "<style>#sk-container-id-3 {color: black;background-color: white;}#sk-container-id-3 pre{padding: 0;}#sk-container-id-3 div.sk-toggleable {background-color: white;}#sk-container-id-3 label.sk-toggleable__label {cursor: pointer;display: block;width: 100%;margin-bottom: 0;padding: 0.3em;box-sizing: border-box;text-align: center;}#sk-container-id-3 label.sk-toggleable__label-arrow:before {content: \"▸\";float: left;margin-right: 0.25em;color: #696969;}#sk-container-id-3 label.sk-toggleable__label-arrow:hover:before {color: black;}#sk-container-id-3 div.sk-estimator:hover label.sk-toggleable__label-arrow:before {color: black;}#sk-container-id-3 div.sk-toggleable__content {max-height: 0;max-width: 0;overflow: hidden;text-align: left;background-color: #f0f8ff;}#sk-container-id-3 div.sk-toggleable__content pre {margin: 0.2em;color: black;border-radius: 0.25em;background-color: #f0f8ff;}#sk-container-id-3 input.sk-toggleable__control:checked~div.sk-toggleable__content {max-height: 200px;max-width: 100%;overflow: auto;}#sk-container-id-3 input.sk-toggleable__control:checked~label.sk-toggleable__label-arrow:before {content: \"▾\";}#sk-container-id-3 div.sk-estimator input.sk-toggleable__control:checked~label.sk-toggleable__label {background-color: #d4ebff;}#sk-container-id-3 div.sk-label input.sk-toggleable__control:checked~label.sk-toggleable__label {background-color: #d4ebff;}#sk-container-id-3 input.sk-hidden--visually {border: 0;clip: rect(1px 1px 1px 1px);clip: rect(1px, 1px, 1px, 1px);height: 1px;margin: -1px;overflow: hidden;padding: 0;position: absolute;width: 1px;}#sk-container-id-3 div.sk-estimator {font-family: monospace;background-color: #f0f8ff;border: 1px dotted black;border-radius: 0.25em;box-sizing: border-box;margin-bottom: 0.5em;}#sk-container-id-3 div.sk-estimator:hover {background-color: #d4ebff;}#sk-container-id-3 div.sk-parallel-item::after {content: \"\";width: 100%;border-bottom: 1px solid gray;flex-grow: 1;}#sk-container-id-3 div.sk-label:hover label.sk-toggleable__label {background-color: #d4ebff;}#sk-container-id-3 div.sk-serial::before {content: \"\";position: absolute;border-left: 1px solid gray;box-sizing: border-box;top: 0;bottom: 0;left: 50%;z-index: 0;}#sk-container-id-3 div.sk-serial {display: flex;flex-direction: column;align-items: center;background-color: white;padding-right: 0.2em;padding-left: 0.2em;position: relative;}#sk-container-id-3 div.sk-item {position: relative;z-index: 1;}#sk-container-id-3 div.sk-parallel {display: flex;align-items: stretch;justify-content: center;background-color: white;position: relative;}#sk-container-id-3 div.sk-item::before, #sk-container-id-3 div.sk-parallel-item::before {content: \"\";position: absolute;border-left: 1px solid gray;box-sizing: border-box;top: 0;bottom: 0;left: 50%;z-index: -1;}#sk-container-id-3 div.sk-parallel-item {display: flex;flex-direction: column;z-index: 1;position: relative;background-color: white;}#sk-container-id-3 div.sk-parallel-item:first-child::after {align-self: flex-end;width: 50%;}#sk-container-id-3 div.sk-parallel-item:last-child::after {align-self: flex-start;width: 50%;}#sk-container-id-3 div.sk-parallel-item:only-child::after {width: 0;}#sk-container-id-3 div.sk-dashed-wrapped {border: 1px dashed gray;margin: 0 0.4em 0.5em 0.4em;box-sizing: border-box;padding-bottom: 0.4em;background-color: white;}#sk-container-id-3 div.sk-label label {font-family: monospace;font-weight: bold;display: inline-block;line-height: 1.2em;}#sk-container-id-3 div.sk-label-container {text-align: center;}#sk-container-id-3 div.sk-container {/* jupyter's `normalize.less` sets `[hidden] { display: none; }` but bootstrap.min.css set `[hidden] { display: none !important; }` so we also need the `!important` here to be able to override the default hidden behavior on the sphinx rendered scikit-learn.org. See: https://github.com/scikit-learn/scikit-learn/issues/21755 */display: inline-block !important;position: relative;}#sk-container-id-3 div.sk-text-repr-fallback {display: none;}</style><div id=\"sk-container-id-3\" class=\"sk-top-container\"><div class=\"sk-text-repr-fallback\"><pre>CountVectorizer()</pre><b>In a Jupyter environment, please rerun this cell to show the HTML representation or trust the notebook. <br />On GitHub, the HTML representation is unable to render, please try loading this page with nbviewer.org.</b></div><div class=\"sk-container\" hidden><div class=\"sk-item\"><div class=\"sk-estimator sk-toggleable\"><input class=\"sk-toggleable__control sk-hidden--visually\" id=\"sk-estimator-id-3\" type=\"checkbox\" checked><label for=\"sk-estimator-id-3\" class=\"sk-toggleable__label sk-toggleable__label-arrow\">CountVectorizer</label><div class=\"sk-toggleable__content\"><pre>CountVectorizer()</pre></div></div></div></div></div>"
      ],
      "text/plain": [
       "CountVectorizer()"
      ]
     },
     "execution_count": 50,
     "metadata": {},
     "output_type": "execute_result"
    }
   ],
   "source": [
    "countVectorizer = CountVectorizer()\n",
    "countVectorizer.fit(comments)"
   ]
  },
  {
   "cell_type": "code",
   "execution_count": 52,
   "id": "e1d47cf3-b0eb-435d-8693-0db4ae28002f",
   "metadata": {
    "collapsed": true,
    "jupyter": {
     "outputs_hidden": true
    },
    "tags": []
   },
   "outputs": [
    {
     "data": {
      "text/plain": [
       "{'맛이정말풍부하고': 14,\n",
       " '재료도신선해서좋았어요': 32,\n",
       " '서비스도훌륭했습니다': 24,\n",
       " '해변이너무깨끗하고아름다웠습니다': 40,\n",
       " '다음여행에서는더오래머물고싶네요': 12,\n",
       " '연기력이대단했고': 29,\n",
       " '스토리전개가매우재미있었습니다': 27,\n",
       " '강력추천합니다': 0,\n",
       " '노래의가사와멜로디가너무좋아요': 9,\n",
       " '계속듣게되네요': 3,\n",
       " '핸들링이매우부드럽고연비도좋습니다': 43,\n",
       " '차량내부디자인도세련되었어요': 35,\n",
       " '배터리수명이길고카메라기능이우수합니다': 16,\n",
       " '사용하기편리한ui가마음에듭니다': 22,\n",
       " '교수님설명이명확하시고이해하기쉽습니다': 4,\n",
       " '추가자료도유용했습니다': 37,\n",
       " '성능대비가격이아주만족스러워요': 26,\n",
       " '게임을할때지연없이부드럽게실행됩니다': 2,\n",
       " '분위기가정말좋아서친구들과수다떨기좋아요': 19,\n",
       " '커피맛도최상입니다': 39,\n",
       " '글쓰기스타일과주제모두제취향에딱맞아서한번읽기시작하면멈출수없어요': 7,\n",
       " '음식이너무짜고': 31,\n",
       " '서비스도별로였어요': 23,\n",
       " '다시가고싶지않네요': 10,\n",
       " '해변이너무더러웠고': 41,\n",
       " '주변시설도부족했습니다': 33,\n",
       " '다시는방문하고싶지않아요': 11,\n",
       " '연기력이별로였고': 30,\n",
       " '스토리전개도지루했습니다': 28,\n",
       " '비추합니다': 20,\n",
       " '노래가사가이해가안가고': 8,\n",
       " '멜로디도재미없어요': 15,\n",
       " '듣기싫네요': 13,\n",
       " '핸들링이너무뻑뻑하고연비도나쁩니다': 42,\n",
       " '차량내부디자인도구식이에요': 34,\n",
       " '배터리수명이짧고카메라기능도별로입니다': 17,\n",
       " '사용하기어렵습니다': 21,\n",
       " '교수님설명이애매하시고이해하기어렵습니다': 5,\n",
       " '추가자료도도움되지않았어요': 36,\n",
       " '성능대비가격이너무비싸요': 25,\n",
       " '게임을할때계속지연됩니다': 1,\n",
       " '분위기가시끄럽서친구들과수다떨기힘들었어요': 18,\n",
       " '커피맛도그다지': 38,\n",
       " '글쓰기스타일과주제모두제취향과맞지않아서한페이지읽는것조차힘들었어요': 6}"
      ]
     },
     "execution_count": 52,
     "metadata": {},
     "output_type": "execute_result"
    }
   ],
   "source": [
    "countVectorizer.vocabulary_"
   ]
  },
  {
   "cell_type": "code",
   "execution_count": 69,
   "id": "3682a056-66e9-4cf6-a7a5-8a1f9010500a",
   "metadata": {
    "tags": []
   },
   "outputs": [
    {
     "data": {
      "text/html": [
       "<style>#sk-container-id-4 {color: black;background-color: white;}#sk-container-id-4 pre{padding: 0;}#sk-container-id-4 div.sk-toggleable {background-color: white;}#sk-container-id-4 label.sk-toggleable__label {cursor: pointer;display: block;width: 100%;margin-bottom: 0;padding: 0.3em;box-sizing: border-box;text-align: center;}#sk-container-id-4 label.sk-toggleable__label-arrow:before {content: \"▸\";float: left;margin-right: 0.25em;color: #696969;}#sk-container-id-4 label.sk-toggleable__label-arrow:hover:before {color: black;}#sk-container-id-4 div.sk-estimator:hover label.sk-toggleable__label-arrow:before {color: black;}#sk-container-id-4 div.sk-toggleable__content {max-height: 0;max-width: 0;overflow: hidden;text-align: left;background-color: #f0f8ff;}#sk-container-id-4 div.sk-toggleable__content pre {margin: 0.2em;color: black;border-radius: 0.25em;background-color: #f0f8ff;}#sk-container-id-4 input.sk-toggleable__control:checked~div.sk-toggleable__content {max-height: 200px;max-width: 100%;overflow: auto;}#sk-container-id-4 input.sk-toggleable__control:checked~label.sk-toggleable__label-arrow:before {content: \"▾\";}#sk-container-id-4 div.sk-estimator input.sk-toggleable__control:checked~label.sk-toggleable__label {background-color: #d4ebff;}#sk-container-id-4 div.sk-label input.sk-toggleable__control:checked~label.sk-toggleable__label {background-color: #d4ebff;}#sk-container-id-4 input.sk-hidden--visually {border: 0;clip: rect(1px 1px 1px 1px);clip: rect(1px, 1px, 1px, 1px);height: 1px;margin: -1px;overflow: hidden;padding: 0;position: absolute;width: 1px;}#sk-container-id-4 div.sk-estimator {font-family: monospace;background-color: #f0f8ff;border: 1px dotted black;border-radius: 0.25em;box-sizing: border-box;margin-bottom: 0.5em;}#sk-container-id-4 div.sk-estimator:hover {background-color: #d4ebff;}#sk-container-id-4 div.sk-parallel-item::after {content: \"\";width: 100%;border-bottom: 1px solid gray;flex-grow: 1;}#sk-container-id-4 div.sk-label:hover label.sk-toggleable__label {background-color: #d4ebff;}#sk-container-id-4 div.sk-serial::before {content: \"\";position: absolute;border-left: 1px solid gray;box-sizing: border-box;top: 0;bottom: 0;left: 50%;z-index: 0;}#sk-container-id-4 div.sk-serial {display: flex;flex-direction: column;align-items: center;background-color: white;padding-right: 0.2em;padding-left: 0.2em;position: relative;}#sk-container-id-4 div.sk-item {position: relative;z-index: 1;}#sk-container-id-4 div.sk-parallel {display: flex;align-items: stretch;justify-content: center;background-color: white;position: relative;}#sk-container-id-4 div.sk-item::before, #sk-container-id-4 div.sk-parallel-item::before {content: \"\";position: absolute;border-left: 1px solid gray;box-sizing: border-box;top: 0;bottom: 0;left: 50%;z-index: -1;}#sk-container-id-4 div.sk-parallel-item {display: flex;flex-direction: column;z-index: 1;position: relative;background-color: white;}#sk-container-id-4 div.sk-parallel-item:first-child::after {align-self: flex-end;width: 50%;}#sk-container-id-4 div.sk-parallel-item:last-child::after {align-self: flex-start;width: 50%;}#sk-container-id-4 div.sk-parallel-item:only-child::after {width: 0;}#sk-container-id-4 div.sk-dashed-wrapped {border: 1px dashed gray;margin: 0 0.4em 0.5em 0.4em;box-sizing: border-box;padding-bottom: 0.4em;background-color: white;}#sk-container-id-4 div.sk-label label {font-family: monospace;font-weight: bold;display: inline-block;line-height: 1.2em;}#sk-container-id-4 div.sk-label-container {text-align: center;}#sk-container-id-4 div.sk-container {/* jupyter's `normalize.less` sets `[hidden] { display: none; }` but bootstrap.min.css set `[hidden] { display: none !important; }` so we also need the `!important` here to be able to override the default hidden behavior on the sphinx rendered scikit-learn.org. See: https://github.com/scikit-learn/scikit-learn/issues/21755 */display: inline-block !important;position: relative;}#sk-container-id-4 div.sk-text-repr-fallback {display: none;}</style><div id=\"sk-container-id-4\" class=\"sk-top-container\"><div class=\"sk-text-repr-fallback\"><pre>TfidfVectorizer()</pre><b>In a Jupyter environment, please rerun this cell to show the HTML representation or trust the notebook. <br />On GitHub, the HTML representation is unable to render, please try loading this page with nbviewer.org.</b></div><div class=\"sk-container\" hidden><div class=\"sk-item\"><div class=\"sk-estimator sk-toggleable\"><input class=\"sk-toggleable__control sk-hidden--visually\" id=\"sk-estimator-id-4\" type=\"checkbox\" checked><label for=\"sk-estimator-id-4\" class=\"sk-toggleable__label sk-toggleable__label-arrow\">TfidfVectorizer</label><div class=\"sk-toggleable__content\"><pre>TfidfVectorizer()</pre></div></div></div></div></div>"
      ],
      "text/plain": [
       "TfidfVectorizer()"
      ]
     },
     "execution_count": 69,
     "metadata": {},
     "output_type": "execute_result"
    }
   ],
   "source": [
    "tfidVectorizer = TfidfVectorizer(use_idf=True)\n",
    "tfidVectorizer.fit(comments)"
   ]
  },
  {
   "cell_type": "code",
   "execution_count": 70,
   "id": "1abd5be1-a1f4-4b4e-80c0-0f186bafe277",
   "metadata": {
    "tags": []
   },
   "outputs": [
    {
     "data": {
      "text/plain": [
       "array([3.35137526, 3.35137526, 3.35137526, 3.35137526, 3.35137526,\n",
       "       3.35137526, 3.35137526, 3.35137526, 3.35137526, 3.35137526,\n",
       "       3.35137526, 3.35137526, 3.35137526, 3.35137526, 3.35137526,\n",
       "       3.35137526, 3.35137526, 3.35137526, 3.35137526, 3.35137526,\n",
       "       3.35137526, 3.35137526, 3.35137526, 3.35137526, 3.35137526,\n",
       "       3.35137526, 3.35137526, 3.35137526, 3.35137526, 3.35137526,\n",
       "       3.35137526, 3.35137526, 3.35137526, 3.35137526, 3.35137526,\n",
       "       3.35137526, 3.35137526, 3.35137526, 3.35137526, 3.35137526,\n",
       "       3.35137526, 3.35137526, 3.35137526, 3.35137526])"
      ]
     },
     "execution_count": 70,
     "metadata": {},
     "output_type": "execute_result"
    }
   ],
   "source": [
    "tfidVectorizer.idf_"
   ]
  },
  {
   "cell_type": "code",
   "execution_count": 80,
   "id": "99648e61-6e35-449c-836b-e52911f4bcfe",
   "metadata": {
    "tags": []
   },
   "outputs": [
    {
     "data": {
      "text/plain": [
       "array([[0., 0., 0., 0., 0., 0., 0., 1., 0., 0., 0., 0., 0., 0., 0., 0.,\n",
       "        0., 0., 0., 0., 0., 0., 0., 0., 0., 0., 0., 0., 0., 0., 0., 0.,\n",
       "        0., 0., 0., 0., 0., 0., 0., 0., 0., 0., 0., 0.]])"
      ]
     },
     "execution_count": 80,
     "metadata": {},
     "output_type": "execute_result"
    }
   ],
   "source": [
    "feature = tfidVectorizer.transform([comments[9]]) # 학습 시 2차원을 이용했으므로 변환도 2차원 적용\n",
    "feature.toarray()  #Vocabulary_와 개수가 같음"
   ]
  },
  {
   "cell_type": "code",
   "execution_count": 81,
   "id": "b54d3252-7f79-4675-a727-edc4914e8891",
   "metadata": {
    "tags": []
   },
   "outputs": [],
   "source": [
    "features = tfidVectorizer.transform(comments)"
   ]
  },
  {
   "cell_type": "markdown",
   "id": "3662edda-0a65-4b07-8632-f5a70e5facdb",
   "metadata": {},
   "source": [
    "## 목표 변수 생성"
   ]
  },
  {
   "cell_type": "code",
   "execution_count": 76,
   "id": "b966eb39-71fe-48c2-87b6-2ce2b574b119",
   "metadata": {
    "collapsed": true,
    "jupyter": {
     "outputs_hidden": true
    },
    "tags": []
   },
   "outputs": [
    {
     "data": {
      "text/plain": [
       "['긍정',\n",
       " '긍정',\n",
       " '긍정',\n",
       " '긍정',\n",
       " '긍정',\n",
       " '긍정',\n",
       " '긍정',\n",
       " '긍정',\n",
       " '긍정',\n",
       " '긍정',\n",
       " '부정',\n",
       " '부정',\n",
       " '부정',\n",
       " '부정',\n",
       " '부정',\n",
       " '부정',\n",
       " '부정',\n",
       " '부정',\n",
       " '부정',\n",
       " '부정']"
      ]
     },
     "execution_count": 76,
     "metadata": {},
     "output_type": "execute_result"
    }
   ],
   "source": [
    "target = ['긍정']*len(comments_positive) + ['부정']*len(comments_negative)\n",
    "target"
   ]
  },
  {
   "cell_type": "markdown",
   "id": "f82a397e-23d4-4c0b-a73b-c1b1122a4137",
   "metadata": {},
   "source": [
    "## 머신러닝 학습"
   ]
  },
  {
   "cell_type": "code",
   "execution_count": 77,
   "id": "d6cd56b1-b123-4d59-ae03-e13d95f18489",
   "metadata": {
    "tags": []
   },
   "outputs": [],
   "source": [
    "#%pip install --user lightgbm"
   ]
  },
  {
   "cell_type": "code",
   "execution_count": 79,
   "id": "749c341a-dfae-4dc8-ae79-68464240d0fb",
   "metadata": {
    "tags": []
   },
   "outputs": [],
   "source": [
    "from sklearn.svm import SVC"
   ]
  },
  {
   "cell_type": "code",
   "execution_count": 85,
   "id": "819dbe2d-d224-4b31-9bf8-2b708a0d9ce0",
   "metadata": {
    "tags": []
   },
   "outputs": [
    {
     "data": {
      "text/html": [
       "<style>#sk-container-id-5 {color: black;background-color: white;}#sk-container-id-5 pre{padding: 0;}#sk-container-id-5 div.sk-toggleable {background-color: white;}#sk-container-id-5 label.sk-toggleable__label {cursor: pointer;display: block;width: 100%;margin-bottom: 0;padding: 0.3em;box-sizing: border-box;text-align: center;}#sk-container-id-5 label.sk-toggleable__label-arrow:before {content: \"▸\";float: left;margin-right: 0.25em;color: #696969;}#sk-container-id-5 label.sk-toggleable__label-arrow:hover:before {color: black;}#sk-container-id-5 div.sk-estimator:hover label.sk-toggleable__label-arrow:before {color: black;}#sk-container-id-5 div.sk-toggleable__content {max-height: 0;max-width: 0;overflow: hidden;text-align: left;background-color: #f0f8ff;}#sk-container-id-5 div.sk-toggleable__content pre {margin: 0.2em;color: black;border-radius: 0.25em;background-color: #f0f8ff;}#sk-container-id-5 input.sk-toggleable__control:checked~div.sk-toggleable__content {max-height: 200px;max-width: 100%;overflow: auto;}#sk-container-id-5 input.sk-toggleable__control:checked~label.sk-toggleable__label-arrow:before {content: \"▾\";}#sk-container-id-5 div.sk-estimator input.sk-toggleable__control:checked~label.sk-toggleable__label {background-color: #d4ebff;}#sk-container-id-5 div.sk-label input.sk-toggleable__control:checked~label.sk-toggleable__label {background-color: #d4ebff;}#sk-container-id-5 input.sk-hidden--visually {border: 0;clip: rect(1px 1px 1px 1px);clip: rect(1px, 1px, 1px, 1px);height: 1px;margin: -1px;overflow: hidden;padding: 0;position: absolute;width: 1px;}#sk-container-id-5 div.sk-estimator {font-family: monospace;background-color: #f0f8ff;border: 1px dotted black;border-radius: 0.25em;box-sizing: border-box;margin-bottom: 0.5em;}#sk-container-id-5 div.sk-estimator:hover {background-color: #d4ebff;}#sk-container-id-5 div.sk-parallel-item::after {content: \"\";width: 100%;border-bottom: 1px solid gray;flex-grow: 1;}#sk-container-id-5 div.sk-label:hover label.sk-toggleable__label {background-color: #d4ebff;}#sk-container-id-5 div.sk-serial::before {content: \"\";position: absolute;border-left: 1px solid gray;box-sizing: border-box;top: 0;bottom: 0;left: 50%;z-index: 0;}#sk-container-id-5 div.sk-serial {display: flex;flex-direction: column;align-items: center;background-color: white;padding-right: 0.2em;padding-left: 0.2em;position: relative;}#sk-container-id-5 div.sk-item {position: relative;z-index: 1;}#sk-container-id-5 div.sk-parallel {display: flex;align-items: stretch;justify-content: center;background-color: white;position: relative;}#sk-container-id-5 div.sk-item::before, #sk-container-id-5 div.sk-parallel-item::before {content: \"\";position: absolute;border-left: 1px solid gray;box-sizing: border-box;top: 0;bottom: 0;left: 50%;z-index: -1;}#sk-container-id-5 div.sk-parallel-item {display: flex;flex-direction: column;z-index: 1;position: relative;background-color: white;}#sk-container-id-5 div.sk-parallel-item:first-child::after {align-self: flex-end;width: 50%;}#sk-container-id-5 div.sk-parallel-item:last-child::after {align-self: flex-start;width: 50%;}#sk-container-id-5 div.sk-parallel-item:only-child::after {width: 0;}#sk-container-id-5 div.sk-dashed-wrapped {border: 1px dashed gray;margin: 0 0.4em 0.5em 0.4em;box-sizing: border-box;padding-bottom: 0.4em;background-color: white;}#sk-container-id-5 div.sk-label label {font-family: monospace;font-weight: bold;display: inline-block;line-height: 1.2em;}#sk-container-id-5 div.sk-label-container {text-align: center;}#sk-container-id-5 div.sk-container {/* jupyter's `normalize.less` sets `[hidden] { display: none; }` but bootstrap.min.css set `[hidden] { display: none !important; }` so we also need the `!important` here to be able to override the default hidden behavior on the sphinx rendered scikit-learn.org. See: https://github.com/scikit-learn/scikit-learn/issues/21755 */display: inline-block !important;position: relative;}#sk-container-id-5 div.sk-text-repr-fallback {display: none;}</style><div id=\"sk-container-id-5\" class=\"sk-top-container\"><div class=\"sk-text-repr-fallback\"><pre>SVC()</pre><b>In a Jupyter environment, please rerun this cell to show the HTML representation or trust the notebook. <br />On GitHub, the HTML representation is unable to render, please try loading this page with nbviewer.org.</b></div><div class=\"sk-container\" hidden><div class=\"sk-item\"><div class=\"sk-estimator sk-toggleable\"><input class=\"sk-toggleable__control sk-hidden--visually\" id=\"sk-estimator-id-5\" type=\"checkbox\" checked><label for=\"sk-estimator-id-5\" class=\"sk-toggleable__label sk-toggleable__label-arrow\">SVC</label><div class=\"sk-toggleable__content\"><pre>SVC()</pre></div></div></div></div></div>"
      ],
      "text/plain": [
       "SVC()"
      ]
     },
     "execution_count": 85,
     "metadata": {},
     "output_type": "execute_result"
    }
   ],
   "source": [
    "model = SVC()\n",
    "model.fit(features.toarray(),target)"
   ]
  },
  {
   "cell_type": "markdown",
   "id": "fb87d0d3-b0e8-4b32-997b-8022b3d46ff3",
   "metadata": {},
   "source": [
    "## 머신러닝 통한 예측"
   ]
  },
  {
   "cell_type": "code",
   "execution_count": 86,
   "id": "13245605-bdba-45e8-8bb9-e5ecfbe3afbe",
   "metadata": {},
   "outputs": [],
   "source": [
    "comment = '코로나19의 여파로 전 세계 교사들과 학생들 모두 혼란스러운 시기를 보내고 있습니다. 어려움 속에서도 학생들을 위해 안간힘을 쓰고 있는 모든 선생님들에게, 응원과 박수를 함께 보냅니다.'"
   ]
  },
  {
   "cell_type": "code",
   "execution_count": 89,
   "id": "0485b3b3-6324-4ec5-8798-cb4443fbf6a2",
   "metadata": {
    "tags": []
   },
   "outputs": [],
   "source": [
    "tokenized_comment = mecab.morphs(comment)"
   ]
  },
  {
   "cell_type": "code",
   "execution_count": 90,
   "id": "89a63ac9-6fe6-4888-b21a-b9e58d36b4fb",
   "metadata": {
    "tags": []
   },
   "outputs": [
    {
     "data": {
      "text/plain": [
       "array([[0., 0., 0., 0., 0., 0., 0., 0., 0., 0., 0., 0., 0., 0., 0., 0.,\n",
       "        0., 0., 0., 0., 0., 0., 0., 0., 0., 0., 0., 0., 0., 0., 0., 0.,\n",
       "        0., 0., 0., 0., 0., 0., 0., 0., 0., 0., 0., 0.]])"
      ]
     },
     "execution_count": 90,
     "metadata": {},
     "output_type": "execute_result"
    }
   ],
   "source": [
    "vectorized_comment = tfidVectorizer.transform([''.join(tokenized_comment)])\n",
    "vectorized_comment.toarray()"
   ]
  },
  {
   "cell_type": "code",
   "execution_count": 91,
   "id": "11c8f620-cd97-43ed-b95e-b38e1f4bafcc",
   "metadata": {
    "tags": []
   },
   "outputs": [
    {
     "data": {
      "text/plain": [
       "array(['부정'], dtype='<U2')"
      ]
     },
     "execution_count": 91,
     "metadata": {},
     "output_type": "execute_result"
    }
   ],
   "source": [
    "model.predict(vectorized_comment.toarray())"
   ]
  },
  {
   "cell_type": "code",
   "execution_count": null,
   "id": "0d73d365-40e4-4f94-9c8f-952b633f4498",
   "metadata": {},
   "outputs": [],
   "source": []
  }
 ],
 "metadata": {
  "kernelspec": {
   "display_name": "Python 3 (ipykernel)",
   "language": "python",
   "name": "python3"
  },
  "language_info": {
   "codemirror_mode": {
    "name": "ipython",
    "version": 3
   },
   "file_extension": ".py",
   "mimetype": "text/x-python",
   "name": "python",
   "nbconvert_exporter": "python",
   "pygments_lexer": "ipython3",
   "version": "3.11.3"
  }
 },
 "nbformat": 4,
 "nbformat_minor": 5
}
