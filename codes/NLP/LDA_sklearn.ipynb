{
 "cells": [
  {
   "cell_type": "code",
   "execution_count": 1,
   "id": "23a88b09-9118-4e7c-b1dc-4cdf9d273e42",
   "metadata": {},
   "outputs": [],
   "source": [
    "sentences = [\n",
    "    \"오늘 날씨가 좋아서 나들이 가고 싶다.\", # -> [오늘, 날씨가, 좋아서 ...]\n",
    "    \"이 영화는 정말 재미있었어요.\",\n",
    "    \"맛있는 음식을 먹으러 갈까요?\",\n",
    "    \"운동을 하면 건강에 좋아지는 것 같아요.\",\n",
    "    \"공부하기 싫어서 미루고 있어요.\",\n",
    "    \"여행 계획을 세우고 있는데 어디로 갈까요?\",\n",
    "    \"좋은 책을 읽으면 마음이 편안해져요.\",\n",
    "    \"오늘은 친구들과 만나서 재미있게 놀았어요.\",\n",
    "    \"새로운 언어를 배우는 것은 어려워도 흥미로워요.\",\n",
    "    \"주말에 가족들과 함께 시간을 보내기로 했습니다.\"\n",
    "]"
   ]
  },
  {
   "cell_type": "markdown",
   "id": "01500da5-aeca-4c99-80a5-3b260ed8911a",
   "metadata": {},
   "source": [
    "### 자연어 전처리"
   ]
  },
  {
   "cell_type": "code",
   "execution_count": 2,
   "id": "61fdd94c-3121-4aa3-bf72-7387b9078a60",
   "metadata": {
    "tags": []
   },
   "outputs": [
    {
     "data": {
      "text/plain": [
       "['날씨',\n",
       " '나',\n",
       " '영화',\n",
       " '음식',\n",
       " '운동',\n",
       " '건강',\n",
       " '것',\n",
       " '공부',\n",
       " '여행',\n",
       " '계획',\n",
       " '어디',\n",
       " '책',\n",
       " '마음',\n",
       " '편안',\n",
       " '오늘',\n",
       " '친구',\n",
       " '언어',\n",
       " '것',\n",
       " '흥미',\n",
       " '주말',\n",
       " '가족',\n",
       " '시간']"
      ]
     },
     "execution_count": 2,
     "metadata": {},
     "output_type": "execute_result"
    }
   ],
   "source": [
    "from mecab import MeCab\n",
    "mecab = MeCab()\n",
    "# 형태분석기 사용해 명사만 추출\n",
    "morphs_list = list()\n",
    "for sentence in sentences :\n",
    "    morphs = mecab.nouns(sentence)\n",
    "    morphs_list = morphs_list + morphs\n",
    "morphs_list"
   ]
  },
  {
   "cell_type": "code",
   "execution_count": 3,
   "id": "1f318f6a-0c06-4578-9fa1-2be3a641d0a5",
   "metadata": {},
   "outputs": [],
   "source": [
    "from sklearn.feature_extraction.text import TfidfVectorizer\n",
    "vectorizer = TfidfVectorizer(use_idf=True)\n",
    "features = vectorizer.fit_transform(morphs_list)  # features 생성"
   ]
  },
  {
   "cell_type": "markdown",
   "id": "e16f1455-d01d-4179-b0a6-05fa9e848383",
   "metadata": {},
   "source": [
    "### LDA 적용"
   ]
  },
  {
   "cell_type": "code",
   "execution_count": 4,
   "id": "705cea3f-fa76-4d03-b9e8-51ebfefd4558",
   "metadata": {},
   "outputs": [],
   "source": [
    "from sklearn.decomposition import LatentDirichletAllocation\n",
    "lda_model = LatentDirichletAllocation(n_components=3, random_state=111)"
   ]
  },
  {
   "cell_type": "code",
   "execution_count": 5,
   "id": "aff0a813-d9a8-499d-b83f-4feda4747fe8",
   "metadata": {},
   "outputs": [
    {
     "data": {
      "text/html": [
       "<style>#sk-container-id-1 {color: black;background-color: white;}#sk-container-id-1 pre{padding: 0;}#sk-container-id-1 div.sk-toggleable {background-color: white;}#sk-container-id-1 label.sk-toggleable__label {cursor: pointer;display: block;width: 100%;margin-bottom: 0;padding: 0.3em;box-sizing: border-box;text-align: center;}#sk-container-id-1 label.sk-toggleable__label-arrow:before {content: \"▸\";float: left;margin-right: 0.25em;color: #696969;}#sk-container-id-1 label.sk-toggleable__label-arrow:hover:before {color: black;}#sk-container-id-1 div.sk-estimator:hover label.sk-toggleable__label-arrow:before {color: black;}#sk-container-id-1 div.sk-toggleable__content {max-height: 0;max-width: 0;overflow: hidden;text-align: left;background-color: #f0f8ff;}#sk-container-id-1 div.sk-toggleable__content pre {margin: 0.2em;color: black;border-radius: 0.25em;background-color: #f0f8ff;}#sk-container-id-1 input.sk-toggleable__control:checked~div.sk-toggleable__content {max-height: 200px;max-width: 100%;overflow: auto;}#sk-container-id-1 input.sk-toggleable__control:checked~label.sk-toggleable__label-arrow:before {content: \"▾\";}#sk-container-id-1 div.sk-estimator input.sk-toggleable__control:checked~label.sk-toggleable__label {background-color: #d4ebff;}#sk-container-id-1 div.sk-label input.sk-toggleable__control:checked~label.sk-toggleable__label {background-color: #d4ebff;}#sk-container-id-1 input.sk-hidden--visually {border: 0;clip: rect(1px 1px 1px 1px);clip: rect(1px, 1px, 1px, 1px);height: 1px;margin: -1px;overflow: hidden;padding: 0;position: absolute;width: 1px;}#sk-container-id-1 div.sk-estimator {font-family: monospace;background-color: #f0f8ff;border: 1px dotted black;border-radius: 0.25em;box-sizing: border-box;margin-bottom: 0.5em;}#sk-container-id-1 div.sk-estimator:hover {background-color: #d4ebff;}#sk-container-id-1 div.sk-parallel-item::after {content: \"\";width: 100%;border-bottom: 1px solid gray;flex-grow: 1;}#sk-container-id-1 div.sk-label:hover label.sk-toggleable__label {background-color: #d4ebff;}#sk-container-id-1 div.sk-serial::before {content: \"\";position: absolute;border-left: 1px solid gray;box-sizing: border-box;top: 0;bottom: 0;left: 50%;z-index: 0;}#sk-container-id-1 div.sk-serial {display: flex;flex-direction: column;align-items: center;background-color: white;padding-right: 0.2em;padding-left: 0.2em;position: relative;}#sk-container-id-1 div.sk-item {position: relative;z-index: 1;}#sk-container-id-1 div.sk-parallel {display: flex;align-items: stretch;justify-content: center;background-color: white;position: relative;}#sk-container-id-1 div.sk-item::before, #sk-container-id-1 div.sk-parallel-item::before {content: \"\";position: absolute;border-left: 1px solid gray;box-sizing: border-box;top: 0;bottom: 0;left: 50%;z-index: -1;}#sk-container-id-1 div.sk-parallel-item {display: flex;flex-direction: column;z-index: 1;position: relative;background-color: white;}#sk-container-id-1 div.sk-parallel-item:first-child::after {align-self: flex-end;width: 50%;}#sk-container-id-1 div.sk-parallel-item:last-child::after {align-self: flex-start;width: 50%;}#sk-container-id-1 div.sk-parallel-item:only-child::after {width: 0;}#sk-container-id-1 div.sk-dashed-wrapped {border: 1px dashed gray;margin: 0 0.4em 0.5em 0.4em;box-sizing: border-box;padding-bottom: 0.4em;background-color: white;}#sk-container-id-1 div.sk-label label {font-family: monospace;font-weight: bold;display: inline-block;line-height: 1.2em;}#sk-container-id-1 div.sk-label-container {text-align: center;}#sk-container-id-1 div.sk-container {/* jupyter's `normalize.less` sets `[hidden] { display: none; }` but bootstrap.min.css set `[hidden] { display: none !important; }` so we also need the `!important` here to be able to override the default hidden behavior on the sphinx rendered scikit-learn.org. See: https://github.com/scikit-learn/scikit-learn/issues/21755 */display: inline-block !important;position: relative;}#sk-container-id-1 div.sk-text-repr-fallback {display: none;}</style><div id=\"sk-container-id-1\" class=\"sk-top-container\"><div class=\"sk-text-repr-fallback\"><pre>LatentDirichletAllocation(n_components=3, random_state=111)</pre><b>In a Jupyter environment, please rerun this cell to show the HTML representation or trust the notebook. <br />On GitHub, the HTML representation is unable to render, please try loading this page with nbviewer.org.</b></div><div class=\"sk-container\" hidden><div class=\"sk-item\"><div class=\"sk-estimator sk-toggleable\"><input class=\"sk-toggleable__control sk-hidden--visually\" id=\"sk-estimator-id-1\" type=\"checkbox\" checked><label for=\"sk-estimator-id-1\" class=\"sk-toggleable__label sk-toggleable__label-arrow\">LatentDirichletAllocation</label><div class=\"sk-toggleable__content\"><pre>LatentDirichletAllocation(n_components=3, random_state=111)</pre></div></div></div></div></div>"
      ],
      "text/plain": [
       "LatentDirichletAllocation(n_components=3, random_state=111)"
      ]
     },
     "execution_count": 5,
     "metadata": {},
     "output_type": "execute_result"
    }
   ],
   "source": [
    "lda_model.fit(features)"
   ]
  },
  {
   "cell_type": "code",
   "execution_count": 6,
   "id": "4886aff6-9b03-476d-90c2-826f4e9d56a2",
   "metadata": {
    "tags": []
   },
   "outputs": [
    {
     "data": {
      "text/plain": [
       "array([0.33654237, 0.33714206, 0.33654245, 1.32934725, 0.33714184,\n",
       "       0.33654233, 1.32934644, 0.33714199, 0.33654233, 0.33714199,\n",
       "       0.33714194, 1.32934726, 0.33714188, 1.32934726, 0.33654235,\n",
       "       0.33714198, 0.33714192, 0.33654237])"
      ]
     },
     "execution_count": 6,
     "metadata": {},
     "output_type": "execute_result"
    }
   ],
   "source": [
    "# lda_model.components_\n",
    "# len(lda_model.components_[0])\n",
    "topics_list = lda_model.components_[0]  # 첫번째 토픽\n",
    "topics_list  # 확인"
   ]
  },
  {
   "cell_type": "code",
   "execution_count": 7,
   "id": "cec4b327-69fb-4397-a96a-20a49b010719",
   "metadata": {
    "tags": []
   },
   "outputs": [
    {
     "data": {
      "text/plain": [
       "array([[0.33654237, 0.33714206, 0.33654245, 1.32934725, 0.33714184,\n",
       "        0.33654233, 1.32934644, 0.33714199, 0.33654233, 0.33714199,\n",
       "        0.33714194, 1.32934726, 0.33714188, 1.32934726, 0.33654235,\n",
       "        0.33714198, 0.33714192, 0.33654237],\n",
       "       [0.33556197, 1.32641014, 0.33556199, 0.33516318, 1.32641046,\n",
       "        0.33556197, 0.33516348, 1.32641023, 0.33556196, 1.32641026,\n",
       "        1.32641033, 0.33516318, 1.32641041, 0.33516318, 0.33556197,\n",
       "        1.32641028, 1.32641037, 0.33556197],\n",
       "       [1.32789566, 0.33644779, 1.32789556, 0.33548956, 0.3364477 ,\n",
       "        1.3278957 , 0.33549008, 0.33644778, 1.32789571, 0.33644775,\n",
       "        0.33644774, 0.33548956, 0.33644771, 0.33548956, 1.32789568,\n",
       "        0.33644774, 0.33644771, 1.32789566]])"
      ]
     },
     "execution_count": 7,
     "metadata": {},
     "output_type": "execute_result"
    }
   ],
   "source": [
    "#topics_list = lda_model.components_\n",
    "lda_model.components_"
   ]
  },
  {
   "cell_type": "markdown",
   "id": "4df71ef7-9fe4-47c6-b868-97df7239e531",
   "metadata": {},
   "source": [
    "### 토픽별 단어 표시"
   ]
  },
  {
   "cell_type": "code",
   "execution_count": 8,
   "id": "4ed22676-142b-438f-a64e-1e48838b1ed8",
   "metadata": {
    "tags": []
   },
   "outputs": [
    {
     "data": {
      "text/plain": [
       "array(['가족', '건강', '계획', '공부', '날씨', '마음', '시간', '어디', '언어', '여행', '영화',\n",
       "       '오늘', '운동', '음식', '주말', '친구', '편안', '흥미'], dtype=object)"
      ]
     },
     "execution_count": 8,
     "metadata": {},
     "output_type": "execute_result"
    }
   ],
   "source": [
    "dictionary_list = vectorizer.get_feature_names_out()\n",
    "dictionary_list\n",
    "# len(vectorizer.get_feature_names_out())"
   ]
  },
  {
   "cell_type": "code",
   "execution_count": 9,
   "id": "d3d2d933-cc7a-4e06-ac18-1e01776fa701",
   "metadata": {},
   "outputs": [
    {
     "data": {
      "text/html": [
       "<div>\n",
       "<style scoped>\n",
       "    .dataframe tbody tr th:only-of-type {\n",
       "        vertical-align: middle;\n",
       "    }\n",
       "\n",
       "    .dataframe tbody tr th {\n",
       "        vertical-align: top;\n",
       "    }\n",
       "\n",
       "    .dataframe thead th {\n",
       "        text-align: right;\n",
       "    }\n",
       "</style>\n",
       "<table border=\"1\" class=\"dataframe\">\n",
       "  <thead>\n",
       "    <tr style=\"text-align: right;\">\n",
       "      <th></th>\n",
       "      <th>0</th>\n",
       "      <th>1</th>\n",
       "    </tr>\n",
       "  </thead>\n",
       "  <tbody>\n",
       "    <tr>\n",
       "      <th>0</th>\n",
       "      <td>0.336542</td>\n",
       "      <td>가족</td>\n",
       "    </tr>\n",
       "    <tr>\n",
       "      <th>1</th>\n",
       "      <td>0.337142</td>\n",
       "      <td>건강</td>\n",
       "    </tr>\n",
       "  </tbody>\n",
       "</table>\n",
       "</div>"
      ],
      "text/plain": [
       "          0   1\n",
       "0  0.336542  가족\n",
       "1  0.337142  건강"
      ]
     },
     "execution_count": 9,
     "metadata": {},
     "output_type": "execute_result"
    }
   ],
   "source": [
    "import pandas as pd\n",
    "df_datas = [topics_list, dictionary_list]   #2차원 배열로 넣어 순서대로 생성시킴\n",
    "df_topics = pd.DataFrame(data=df_datas)\n",
    "df_topics = df_topics.T   # T(transport) : row를 컬럼으로 만들어줌 \n",
    "df_topics[:2]"
   ]
  },
  {
   "cell_type": "code",
   "execution_count": 10,
   "id": "8b77c3e8-8848-470d-ba1b-b622495d31de",
   "metadata": {},
   "outputs": [
    {
     "data": {
      "text/plain": [
       "RangeIndex(start=0, stop=2, step=1)"
      ]
     },
     "execution_count": 10,
     "metadata": {},
     "output_type": "execute_result"
    }
   ],
   "source": [
    "df_topics.columns"
   ]
  },
  {
   "cell_type": "code",
   "execution_count": 11,
   "id": "53dcece4-1e27-4aaf-b0c7-b0e2054f0910",
   "metadata": {},
   "outputs": [
    {
     "data": {
      "text/html": [
       "<div>\n",
       "<style scoped>\n",
       "    .dataframe tbody tr th:only-of-type {\n",
       "        vertical-align: middle;\n",
       "    }\n",
       "\n",
       "    .dataframe tbody tr th {\n",
       "        vertical-align: top;\n",
       "    }\n",
       "\n",
       "    .dataframe thead th {\n",
       "        text-align: right;\n",
       "    }\n",
       "</style>\n",
       "<table border=\"1\" class=\"dataframe\">\n",
       "  <thead>\n",
       "    <tr style=\"text-align: right;\">\n",
       "      <th></th>\n",
       "      <th>0</th>\n",
       "      <th>1</th>\n",
       "    </tr>\n",
       "  </thead>\n",
       "  <tbody>\n",
       "    <tr>\n",
       "      <th>13</th>\n",
       "      <td>1.329347</td>\n",
       "      <td>음식</td>\n",
       "    </tr>\n",
       "    <tr>\n",
       "      <th>11</th>\n",
       "      <td>1.329347</td>\n",
       "      <td>오늘</td>\n",
       "    </tr>\n",
       "    <tr>\n",
       "      <th>3</th>\n",
       "      <td>1.329347</td>\n",
       "      <td>공부</td>\n",
       "    </tr>\n",
       "    <tr>\n",
       "      <th>6</th>\n",
       "      <td>1.329346</td>\n",
       "      <td>시간</td>\n",
       "    </tr>\n",
       "    <tr>\n",
       "      <th>1</th>\n",
       "      <td>0.337142</td>\n",
       "      <td>건강</td>\n",
       "    </tr>\n",
       "    <tr>\n",
       "      <th>7</th>\n",
       "      <td>0.337142</td>\n",
       "      <td>어디</td>\n",
       "    </tr>\n",
       "    <tr>\n",
       "      <th>9</th>\n",
       "      <td>0.337142</td>\n",
       "      <td>여행</td>\n",
       "    </tr>\n",
       "    <tr>\n",
       "      <th>15</th>\n",
       "      <td>0.337142</td>\n",
       "      <td>친구</td>\n",
       "    </tr>\n",
       "    <tr>\n",
       "      <th>10</th>\n",
       "      <td>0.337142</td>\n",
       "      <td>영화</td>\n",
       "    </tr>\n",
       "    <tr>\n",
       "      <th>16</th>\n",
       "      <td>0.337142</td>\n",
       "      <td>편안</td>\n",
       "    </tr>\n",
       "    <tr>\n",
       "      <th>12</th>\n",
       "      <td>0.337142</td>\n",
       "      <td>운동</td>\n",
       "    </tr>\n",
       "    <tr>\n",
       "      <th>4</th>\n",
       "      <td>0.337142</td>\n",
       "      <td>날씨</td>\n",
       "    </tr>\n",
       "    <tr>\n",
       "      <th>2</th>\n",
       "      <td>0.336542</td>\n",
       "      <td>계획</td>\n",
       "    </tr>\n",
       "    <tr>\n",
       "      <th>17</th>\n",
       "      <td>0.336542</td>\n",
       "      <td>흥미</td>\n",
       "    </tr>\n",
       "    <tr>\n",
       "      <th>0</th>\n",
       "      <td>0.336542</td>\n",
       "      <td>가족</td>\n",
       "    </tr>\n",
       "    <tr>\n",
       "      <th>14</th>\n",
       "      <td>0.336542</td>\n",
       "      <td>주말</td>\n",
       "    </tr>\n",
       "    <tr>\n",
       "      <th>8</th>\n",
       "      <td>0.336542</td>\n",
       "      <td>언어</td>\n",
       "    </tr>\n",
       "    <tr>\n",
       "      <th>5</th>\n",
       "      <td>0.336542</td>\n",
       "      <td>마음</td>\n",
       "    </tr>\n",
       "  </tbody>\n",
       "</table>\n",
       "</div>"
      ],
      "text/plain": [
       "           0   1\n",
       "13  1.329347  음식\n",
       "11  1.329347  오늘\n",
       "3   1.329347  공부\n",
       "6   1.329346  시간\n",
       "1   0.337142  건강\n",
       "7   0.337142  어디\n",
       "9   0.337142  여행\n",
       "15  0.337142  친구\n",
       "10  0.337142  영화\n",
       "16  0.337142  편안\n",
       "12  0.337142  운동\n",
       "4   0.337142  날씨\n",
       "2   0.336542  계획\n",
       "17  0.336542  흥미\n",
       "0   0.336542  가족\n",
       "14  0.336542  주말\n",
       "8   0.336542  언어\n",
       "5   0.336542  마음"
      ]
     },
     "execution_count": 11,
     "metadata": {},
     "output_type": "execute_result"
    }
   ],
   "source": [
    "df_topics.sort_values(0, ascending=False)  "
   ]
  },
  {
   "cell_type": "code",
   "execution_count": 20,
   "id": "f05c3501-d56c-41d5-802f-0d6834c81381",
   "metadata": {
    "tags": []
   },
   "outputs": [],
   "source": [
    "import numpy as np"
   ]
  },
  {
   "cell_type": "markdown",
   "id": "4621ada7-a992-4703-aa5c-273b77ce4746",
   "metadata": {},
   "source": [
    "### 댓글과 주요 토픽 연결"
   ]
  },
  {
   "cell_type": "code",
   "execution_count": 15,
   "id": "65a51645-dac2-4867-87d3-514bc5578a27",
   "metadata": {
    "tags": []
   },
   "outputs": [
    {
     "name": "stdout",
     "output_type": "stream",
     "text": [
      "음식 오늘 공부 시간\n"
     ]
    },
    {
     "ename": "AttributeError",
     "evalue": "'numpy.ndarray' object has no attribute 'append'",
     "output_type": "error",
     "traceback": [
      "\u001b[1;31m---------------------------------------------------------------------------\u001b[0m",
      "\u001b[1;31mAttributeError\u001b[0m                            Traceback (most recent call last)",
      "Cell \u001b[1;32mIn[15], line 10\u001b[0m\n\u001b[0;32m      8\u001b[0m topics_text \u001b[38;5;241m=\u001b[39m \u001b[38;5;124m'\u001b[39m\u001b[38;5;124m \u001b[39m\u001b[38;5;124m'\u001b[39m\u001b[38;5;241m.\u001b[39mjoin(df_topics[\u001b[38;5;241m1\u001b[39m]\u001b[38;5;241m.\u001b[39mvalues[:\u001b[38;5;241m4\u001b[39m])\n\u001b[0;32m      9\u001b[0m \u001b[38;5;28mprint\u001b[39m(topics_text)   \u001b[38;5;66;03m# 각 topic 마다 해당하는 것 출력됨\u001b[39;00m\n\u001b[1;32m---> 10\u001b[0m topics_list\u001b[38;5;241m.\u001b[39mappend(topics_text)\n",
      "\u001b[1;31mAttributeError\u001b[0m: 'numpy.ndarray' object has no attribute 'append'"
     ]
    }
   ],
   "source": [
    "# 상위 단어 추출\n",
    "for topic in lda_model.components_ :\n",
    "    df_datas = [topic, dictionary_list]   \n",
    "    df_topics = pd.DataFrame(data=df_datas)\n",
    "    df_topics = df_topics.T\n",
    "    df_topics = df_topics.sort_values(0, ascending=False)  \n",
    "    # print(df_topics[:3])   \n",
    "    topics_text = ' '.join(df_topics[1].values[:4])\n",
    "    print(topics_text)   # 각 topic 마다 해당하는 것 출력됨\n",
    "    topics_list.append(topics_text)"
   ]
  },
  {
   "cell_type": "code",
   "execution_count": 16,
   "id": "d269b5ce-7b00-4699-83ef-5e37ae552112",
   "metadata": {
    "tags": []
   },
   "outputs": [
    {
     "data": {
      "text/plain": [
       "array(['음식', '오늘', '공부', '시간'], dtype=object)"
      ]
     },
     "execution_count": 16,
     "metadata": {},
     "output_type": "execute_result"
    }
   ],
   "source": [
    "df_topics[1].values[:4]    # get values from Serise , list형식으로 잡힘 , 순서대로 출력됨"
   ]
  },
  {
   "cell_type": "code",
   "execution_count": 17,
   "id": "e570fe8e-ada6-49c7-8162-0d8e5afc6c19",
   "metadata": {
    "tags": []
   },
   "outputs": [
    {
     "data": {
      "text/plain": [
       "'음식 오늘 공부 시간'"
      ]
     },
     "execution_count": 17,
     "metadata": {},
     "output_type": "execute_result"
    }
   ],
   "source": [
    "' '.join(df_topics[1].values[:4])"
   ]
  },
  {
   "cell_type": "code",
   "execution_count": 18,
   "id": "fcac648a-8545-4cf6-a3ff-be9748e64272",
   "metadata": {
    "tags": []
   },
   "outputs": [
    {
     "data": {
      "text/html": [
       "<div>\n",
       "<style scoped>\n",
       "    .dataframe tbody tr th:only-of-type {\n",
       "        vertical-align: middle;\n",
       "    }\n",
       "\n",
       "    .dataframe tbody tr th {\n",
       "        vertical-align: top;\n",
       "    }\n",
       "\n",
       "    .dataframe thead th {\n",
       "        text-align: right;\n",
       "    }\n",
       "</style>\n",
       "<table border=\"1\" class=\"dataframe\">\n",
       "  <thead>\n",
       "    <tr style=\"text-align: right;\">\n",
       "      <th></th>\n",
       "      <th>0</th>\n",
       "      <th>1</th>\n",
       "    </tr>\n",
       "  </thead>\n",
       "  <tbody>\n",
       "    <tr>\n",
       "      <th>0</th>\n",
       "      <td>0.336542</td>\n",
       "      <td>Topic0</td>\n",
       "    </tr>\n",
       "    <tr>\n",
       "      <th>1</th>\n",
       "      <td>0.337142</td>\n",
       "      <td>Topic1</td>\n",
       "    </tr>\n",
       "    <tr>\n",
       "      <th>2</th>\n",
       "      <td>0.336542</td>\n",
       "      <td>Topic2</td>\n",
       "    </tr>\n",
       "    <tr>\n",
       "      <th>3</th>\n",
       "      <td>1.329347</td>\n",
       "      <td>NaN</td>\n",
       "    </tr>\n",
       "    <tr>\n",
       "      <th>4</th>\n",
       "      <td>0.337142</td>\n",
       "      <td>NaN</td>\n",
       "    </tr>\n",
       "    <tr>\n",
       "      <th>5</th>\n",
       "      <td>0.336542</td>\n",
       "      <td>NaN</td>\n",
       "    </tr>\n",
       "    <tr>\n",
       "      <th>6</th>\n",
       "      <td>1.329346</td>\n",
       "      <td>NaN</td>\n",
       "    </tr>\n",
       "    <tr>\n",
       "      <th>7</th>\n",
       "      <td>0.337142</td>\n",
       "      <td>NaN</td>\n",
       "    </tr>\n",
       "    <tr>\n",
       "      <th>8</th>\n",
       "      <td>0.336542</td>\n",
       "      <td>NaN</td>\n",
       "    </tr>\n",
       "    <tr>\n",
       "      <th>9</th>\n",
       "      <td>0.337142</td>\n",
       "      <td>NaN</td>\n",
       "    </tr>\n",
       "    <tr>\n",
       "      <th>10</th>\n",
       "      <td>0.337142</td>\n",
       "      <td>NaN</td>\n",
       "    </tr>\n",
       "    <tr>\n",
       "      <th>11</th>\n",
       "      <td>1.329347</td>\n",
       "      <td>NaN</td>\n",
       "    </tr>\n",
       "    <tr>\n",
       "      <th>12</th>\n",
       "      <td>0.337142</td>\n",
       "      <td>NaN</td>\n",
       "    </tr>\n",
       "    <tr>\n",
       "      <th>13</th>\n",
       "      <td>1.329347</td>\n",
       "      <td>NaN</td>\n",
       "    </tr>\n",
       "    <tr>\n",
       "      <th>14</th>\n",
       "      <td>0.336542</td>\n",
       "      <td>NaN</td>\n",
       "    </tr>\n",
       "    <tr>\n",
       "      <th>15</th>\n",
       "      <td>0.337142</td>\n",
       "      <td>NaN</td>\n",
       "    </tr>\n",
       "    <tr>\n",
       "      <th>16</th>\n",
       "      <td>0.337142</td>\n",
       "      <td>NaN</td>\n",
       "    </tr>\n",
       "    <tr>\n",
       "      <th>17</th>\n",
       "      <td>0.336542</td>\n",
       "      <td>NaN</td>\n",
       "    </tr>\n",
       "  </tbody>\n",
       "</table>\n",
       "</div>"
      ],
      "text/plain": [
       "           0       1\n",
       "0   0.336542  Topic0\n",
       "1   0.337142  Topic1\n",
       "2   0.336542  Topic2\n",
       "3   1.329347     NaN\n",
       "4   0.337142     NaN\n",
       "5   0.336542     NaN\n",
       "6   1.329346     NaN\n",
       "7   0.337142     NaN\n",
       "8   0.336542     NaN\n",
       "9   0.337142     NaN\n",
       "10  0.337142     NaN\n",
       "11  1.329347     NaN\n",
       "12  0.337142     NaN\n",
       "13  1.329347     NaN\n",
       "14  0.336542     NaN\n",
       "15  0.337142     NaN\n",
       "16  0.337142     NaN\n",
       "17  0.336542     NaN"
      ]
     },
     "execution_count": 18,
     "metadata": {},
     "output_type": "execute_result"
    }
   ],
   "source": [
    "topics_list_add = [topics_list,['Topic0','Topic1','Topic2']]\n",
    "df_topic_keywords = pd.DataFrame(topics_list_add)\n",
    "df_topic_keywords.T"
   ]
  },
  {
   "cell_type": "code",
   "execution_count": 19,
   "id": "1531be4e-7fb8-44a2-85e1-e8da8d9f2391",
   "metadata": {},
   "outputs": [
    {
     "data": {
      "text/plain": [
       "array([[0.16857425, 0.66320011, 0.16822564],\n",
       "       [0.33333333, 0.33333333, 0.33333333],\n",
       "       [0.16857425, 0.66320011, 0.16822564],\n",
       "       [0.66467306, 0.1675818 , 0.16774513],\n",
       "       [0.16857425, 0.66320011, 0.16822564],\n",
       "       [0.16857425, 0.6632001 , 0.16822565],\n",
       "       [0.33333333, 0.33333333, 0.33333333],\n",
       "       [0.66467306, 0.1675818 , 0.16774513],\n",
       "       [0.16857425, 0.66320011, 0.16822565],\n",
       "       [0.16827277, 0.16778152, 0.66394571],\n",
       "       [0.16857425, 0.66320011, 0.16822565],\n",
       "       [0.33333333, 0.33333333, 0.33333333],\n",
       "       [0.16827277, 0.16778152, 0.66394571],\n",
       "       [0.16857425, 0.66320011, 0.16822564],\n",
       "       [0.66467306, 0.1675818 , 0.16774513],\n",
       "       [0.16857425, 0.66320011, 0.16822564],\n",
       "       [0.16827277, 0.16778152, 0.66394571],\n",
       "       [0.33333333, 0.33333333, 0.33333333],\n",
       "       [0.16827277, 0.16778152, 0.66394571],\n",
       "       [0.16827277, 0.16778152, 0.66394571],\n",
       "       [0.16827277, 0.16778152, 0.66394571],\n",
       "       [0.66467305, 0.16758181, 0.16774514]])"
      ]
     },
     "execution_count": 19,
     "metadata": {},
     "output_type": "execute_result"
    }
   ],
   "source": [
    "topics_output = lda_model.transform(features)\n",
    "topics_output"
   ]
  },
  {
   "cell_type": "markdown",
   "id": "331f5762-94ef-4a95-86d3-62113cf67d4f",
   "metadata": {},
   "source": [
    "## 각 댓글별 topics 분류"
   ]
  },
  {
   "cell_type": "code",
   "execution_count": 21,
   "id": "cb2a9ed9-451d-43a7-a7e4-b80a726ef5fd",
   "metadata": {
    "tags": []
   },
   "outputs": [
    {
     "data": {
      "text/plain": [
       "3"
      ]
     },
     "execution_count": 21,
     "metadata": {},
     "output_type": "execute_result"
    }
   ],
   "source": [
    "lda_model.n_components"
   ]
  },
  {
   "cell_type": "code",
   "execution_count": 26,
   "id": "5ac92bc7-810c-42e4-8cbb-e5043446b61d",
   "metadata": {
    "tags": []
   },
   "outputs": [],
   "source": [
    "df_topics_score = pd.DataFrame(topics_output)  # 각 댓글 당 토픽 분류 점수"
   ]
  },
  {
   "cell_type": "code",
   "execution_count": 31,
   "id": "f85f9fd4-b457-47ce-8aaa-247976531c4b",
   "metadata": {
    "tags": []
   },
   "outputs": [],
   "source": [
    "# 각 댓글 마다 토픽 분류 지정\n",
    "import numpy as np\n",
    "dominat_in_topic = np.argmax(topics_output, axis=1)"
   ]
  },
  {
   "cell_type": "code",
   "execution_count": null,
   "id": "a67aefe9-eed3-4eff-a749-5dd29885cdbc",
   "metadata": {},
   "outputs": [],
   "source": [
    "df_topics_score"
   ]
  }
 ],
 "metadata": {
  "kernelspec": {
   "display_name": "Python 3 (ipykernel)",
   "language": "python",
   "name": "python3"
  },
  "language_info": {
   "codemirror_mode": {
    "name": "ipython",
    "version": 3
   },
   "file_extension": ".py",
   "mimetype": "text/x-python",
   "name": "python",
   "nbconvert_exporter": "python",
   "pygments_lexer": "ipython3",
   "version": "3.11.3"
  }
 },
 "nbformat": 4,
 "nbformat_minor": 5
}
