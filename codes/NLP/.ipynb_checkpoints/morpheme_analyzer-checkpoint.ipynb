{
 "cells": [
  {
   "cell_type": "markdown",
   "id": "98bd6027-ded7-4d0e-b3bb-75f8ad167b29",
   "metadata": {},
   "source": [
    "## 한글 형태소 분석기\n",
    "- refer : https://konlpy-ko.readthedocs.io/ko/v0.6.0/"
   ]
  },
  {
   "cell_type": "code",
   "execution_count": 1,
   "id": "ff116185-b280-4eba-9ca8-ee4bd3254164",
   "metadata": {
    "collapsed": true,
    "jupyter": {
     "outputs_hidden": true
    },
    "tags": []
   },
   "outputs": [
    {
     "name": "stdout",
     "output_type": "stream",
     "text": [
      "Requirement already satisfied: konlpy in c:\\users\\05-16\\anaconda3\\lib\\site-packages (0.6.0)\n",
      "Requirement already satisfied: lxml>=4.1.0 in c:\\users\\05-16\\anaconda3\\lib\\site-packages (from konlpy) (4.9.1)\n",
      "Requirement already satisfied: numpy>=1.6 in c:\\users\\05-16\\anaconda3\\lib\\site-packages (from konlpy) (1.25.2)\n",
      "Requirement already satisfied: JPype1>=0.7.0 in c:\\users\\05-16\\anaconda3\\lib\\site-packages (from konlpy) (1.4.1)\n",
      "Requirement already satisfied: packaging in c:\\users\\05-16\\anaconda3\\lib\\site-packages (from JPype1>=0.7.0->konlpy) (21.3)\n",
      "Requirement already satisfied: pyparsing!=3.0.5,>=2.0.2 in c:\\users\\05-16\\anaconda3\\lib\\site-packages (from packaging->JPype1>=0.7.0->konlpy) (3.0.9)\n",
      "Note: you may need to restart the kernel to use updated packages.\n"
     ]
    }
   ],
   "source": [
    "%pip install konlpy"
   ]
  },
  {
   "cell_type": "code",
   "execution_count": 2,
   "id": "cde5f963-844d-4dbe-97af-03d1b4d9c1d4",
   "metadata": {},
   "outputs": [],
   "source": [
    "from konlpy.tag import Okt"
   ]
  },
  {
   "cell_type": "code",
   "execution_count": 5,
   "id": "d56174a0-2346-45d9-96c0-eb876253cf72",
   "metadata": {},
   "outputs": [],
   "source": [
    "okt = Okt() # 형태소 분석기 선택"
   ]
  },
  {
   "cell_type": "code",
   "execution_count": 6,
   "id": "f6573cc7-9a7e-4b02-b3fe-212139c59619",
   "metadata": {},
   "outputs": [],
   "source": [
    "sentence_list = ['아버지가방에들어가신다'\n",
    "                , '나는 밥을 먹는다.'\n",
    "                , '하늘을 나는 자동차'\n",
    "                , '아이폰 기다리다 지쳐 애플공홈에서 언락폰질러버렸다 6+ 128기가실버ㅋ']"
   ]
  },
  {
   "cell_type": "code",
   "execution_count": 11,
   "id": "6babab83-e3e0-40d0-83c6-ee68bbffa5d6",
   "metadata": {},
   "outputs": [
    {
     "data": {
      "text/plain": [
       "['나', '는', '밥', '을', '먹는다', '.']"
      ]
     },
     "execution_count": 11,
     "metadata": {},
     "output_type": "execute_result"
    }
   ],
   "source": [
    "morphs_list = okt.morphs(sentence_list[1]) # 토큰화\n",
    "morphs_list"
   ]
  },
  {
   "cell_type": "code",
   "execution_count": 13,
   "id": "76898317-182e-4764-a7b0-e32eb93d51a9",
   "metadata": {},
   "outputs": [
    {
     "data": {
      "text/plain": [
       "[('나', 'Noun'),\n",
       " ('는', 'Josa'),\n",
       " ('밥', 'Noun'),\n",
       " ('을', 'Josa'),\n",
       " ('먹는다', 'Verb'),\n",
       " ('.', 'Punctuation')]"
      ]
     },
     "execution_count": 13,
     "metadata": {},
     "output_type": "execute_result"
    }
   ],
   "source": [
    "okt.pos(sentence_list[1]) # 품사 달기"
   ]
  },
  {
   "cell_type": "code",
   "execution_count": 10,
   "id": "df986d39-266a-4963-8072-e6b666e76081",
   "metadata": {},
   "outputs": [
    {
     "data": {
      "text/plain": [
       "['나', '밥']"
      ]
     },
     "execution_count": 10,
     "metadata": {},
     "output_type": "execute_result"
    }
   ],
   "source": [
    "okt.nouns(sentence_list[1]) # 명사만 가져오기"
   ]
  },
  {
   "cell_type": "code",
   "execution_count": 15,
   "id": "9aed9b2f-104e-4422-bb9c-4ddd8ba9d15f",
   "metadata": {},
   "outputs": [
    {
     "data": {
      "text/plain": [
       "['애플공홈', '애플', '공홈']"
      ]
     },
     "execution_count": 15,
     "metadata": {},
     "output_type": "execute_result"
    }
   ],
   "source": [
    "okt.phrases('애플공홈') # 결합 명사 단어별 추출"
   ]
  }
 ],
 "metadata": {
  "kernelspec": {
   "display_name": "Python 3 (ipykernel)",
   "language": "python",
   "name": "python3"
  },
  "language_info": {
   "codemirror_mode": {
    "name": "ipython",
    "version": 3
   },
   "file_extension": ".py",
   "mimetype": "text/x-python",
   "name": "python",
   "nbconvert_exporter": "python",
   "pygments_lexer": "ipython3",
   "version": "3.9.13"
  }
 },
 "nbformat": 4,
 "nbformat_minor": 5
}
