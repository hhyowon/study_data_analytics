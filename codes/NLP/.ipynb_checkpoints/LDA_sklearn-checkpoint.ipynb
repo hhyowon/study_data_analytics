{
 "cells": [
  {
   "cell_type": "code",
   "execution_count": 2,
   "id": "23a88b09-9118-4e7c-b1dc-4cdf9d273e42",
   "metadata": {},
   "outputs": [],
   "source": [
    "sentences = [\n",
    "    \"오늘 날씨가 좋아서 나들이 가고 싶다.\", # -> [오늘, 날씨가, 좋아서 ...]\n",
    "    \"이 영화는 정말 재미있었어요.\",\n",
    "    \"맛있는 음식을 먹으러 갈까요?\",\n",
    "    \"운동을 하면 건강에 좋아지는 것 같아요.\",\n",
    "    \"공부하기 싫어서 미루고 있어요.\",\n",
    "    \"여행 계획을 세우고 있는데 어디로 갈까요?\",\n",
    "    \"좋은 책을 읽으면 마음이 편안해져요.\",\n",
    "    \"오늘은 친구들과 만나서 재미있게 놀았어요.\",\n",
    "    \"새로운 언어를 배우는 것은 어려워도 흥미로워요.\",\n",
    "    \"주말에 가족들과 함께 시간을 보내기로 했습니다.\"\n",
    "]"
   ]
  },
  {
   "cell_type": "markdown",
   "id": "01500da5-aeca-4c99-80a5-3b260ed8911a",
   "metadata": {},
   "source": [
    "### 자연어 전처리"
   ]
  },
  {
   "cell_type": "code",
   "execution_count": 6,
   "id": "61fdd94c-3121-4aa3-bf72-7387b9078a60",
   "metadata": {
    "collapsed": true,
    "jupyter": {
     "outputs_hidden": true
    },
    "tags": []
   },
   "outputs": [
    {
     "data": {
      "text/plain": [
       "['날씨',\n",
       " '나',\n",
       " '영화',\n",
       " '음식',\n",
       " '운동',\n",
       " '건강',\n",
       " '것',\n",
       " '공부',\n",
       " '여행',\n",
       " '계획',\n",
       " '어디',\n",
       " '책',\n",
       " '마음',\n",
       " '편안',\n",
       " '오늘',\n",
       " '친구',\n",
       " '언어',\n",
       " '것',\n",
       " '흥미',\n",
       " '주말',\n",
       " '가족',\n",
       " '시간']"
      ]
     },
     "execution_count": 6,
     "metadata": {},
     "output_type": "execute_result"
    }
   ],
   "source": [
    "from mecab import MeCab\n",
    "mecab = MeCab()\n",
    "# 형태분석기 사용해 명사만 추출\n",
    "morphs_list = list()\n",
    "for sentence in sentences :\n",
    "    morphs = mecab.nouns(sentence)\n",
    "    morphs_list = morphs_list + morphs\n",
    "morphs_list"
   ]
  },
  {
   "cell_type": "code",
   "execution_count": 8,
   "id": "1f318f6a-0c06-4578-9fa1-2be3a641d0a5",
   "metadata": {},
   "outputs": [],
   "source": [
    "from sklearn.feature_extraction.text import TfidfVectorizer\n",
    "vectorizer = TfidfVectorizer(use_idf=True)\n",
    "features = vectorizer.fit_transform(morphs_list)"
   ]
  },
  {
   "cell_type": "markdown",
   "id": "e16f1455-d01d-4179-b0a6-05fa9e848383",
   "metadata": {},
   "source": [
    "### LDA 적용"
   ]
  },
  {
   "cell_type": "code",
   "execution_count": 9,
   "id": "705cea3f-fa76-4d03-b9e8-51ebfefd4558",
   "metadata": {},
   "outputs": [],
   "source": [
    "from sklearn.decomposition import LatentDirichletAllocation\n",
    "lda_model = LatentDirichletAllocation(n_components=3, random_state=111)"
   ]
  },
  {
   "cell_type": "code",
   "execution_count": 11,
   "id": "aff0a813-d9a8-499d-b83f-4feda4747fe8",
   "metadata": {},
   "outputs": [
    {
     "data": {
      "text/plain": [
       "LatentDirichletAllocation(n_components=3, random_state=111)"
      ]
     },
     "execution_count": 11,
     "metadata": {},
     "output_type": "execute_result"
    }
   ],
   "source": [
    "lda_model.fit(features)"
   ]
  },
  {
   "cell_type": "code",
   "execution_count": 28,
   "id": "4886aff6-9b03-476d-90c2-826f4e9d56a2",
   "metadata": {
    "tags": []
   },
   "outputs": [],
   "source": [
    "# lda_model.components_\n",
    "# len(lda_model.components_[0])\n",
    "topics_list = lda_model.components_[0]  # 첫번째 토픽"
   ]
  },
  {
   "cell_type": "markdown",
   "id": "4df71ef7-9fe4-47c6-b868-97df7239e531",
   "metadata": {},
   "source": [
    "### 토픽별 단어 표시"
   ]
  },
  {
   "cell_type": "code",
   "execution_count": 24,
   "id": "4ed22676-142b-438f-a64e-1e48838b1ed8",
   "metadata": {
    "tags": []
   },
   "outputs": [],
   "source": [
    "dictionary_list = vectorizer.get_feature_names_out()\n",
    "# len(vectorizer.get_feature_names_out())"
   ]
  },
  {
   "cell_type": "code",
   "execution_count": 34,
   "id": "d3d2d933-cc7a-4e06-ac18-1e01776fa701",
   "metadata": {},
   "outputs": [
    {
     "data": {
      "text/html": [
       "<div>\n",
       "<style scoped>\n",
       "    .dataframe tbody tr th:only-of-type {\n",
       "        vertical-align: middle;\n",
       "    }\n",
       "\n",
       "    .dataframe tbody tr th {\n",
       "        vertical-align: top;\n",
       "    }\n",
       "\n",
       "    .dataframe thead th {\n",
       "        text-align: right;\n",
       "    }\n",
       "</style>\n",
       "<table border=\"1\" class=\"dataframe\">\n",
       "  <thead>\n",
       "    <tr style=\"text-align: right;\">\n",
       "      <th></th>\n",
       "      <th>0</th>\n",
       "      <th>1</th>\n",
       "    </tr>\n",
       "  </thead>\n",
       "  <tbody>\n",
       "    <tr>\n",
       "      <th>0</th>\n",
       "      <td>0.336542</td>\n",
       "      <td>가족</td>\n",
       "    </tr>\n",
       "    <tr>\n",
       "      <th>1</th>\n",
       "      <td>0.337142</td>\n",
       "      <td>건강</td>\n",
       "    </tr>\n",
       "  </tbody>\n",
       "</table>\n",
       "</div>"
      ],
      "text/plain": [
       "          0   1\n",
       "0  0.336542  가족\n",
       "1  0.337142  건강"
      ]
     },
     "execution_count": 34,
     "metadata": {},
     "output_type": "execute_result"
    }
   ],
   "source": [
    "import pandas as pd\n",
    "df_datas = [topics_list, dictionary_list]\n",
    "df_topics = pd.DataFrame(data=df_datas)\n",
    "df_topics = df_topics.T\n",
    "df_topics[:2]"
   ]
  },
  {
   "cell_type": "code",
   "execution_count": 35,
   "id": "8b77c3e8-8848-470d-ba1b-b622495d31de",
   "metadata": {},
   "outputs": [
    {
     "data": {
      "text/plain": [
       "RangeIndex(start=0, stop=2, step=1)"
      ]
     },
     "execution_count": 35,
     "metadata": {},
     "output_type": "execute_result"
    }
   ],
   "source": [
    "df_topics.columns"
   ]
  },
  {
   "cell_type": "code",
   "execution_count": 37,
   "id": "53dcece4-1e27-4aaf-b0c7-b0e2054f0910",
   "metadata": {},
   "outputs": [
    {
     "data": {
      "text/html": [
       "<div>\n",
       "<style scoped>\n",
       "    .dataframe tbody tr th:only-of-type {\n",
       "        vertical-align: middle;\n",
       "    }\n",
       "\n",
       "    .dataframe tbody tr th {\n",
       "        vertical-align: top;\n",
       "    }\n",
       "\n",
       "    .dataframe thead th {\n",
       "        text-align: right;\n",
       "    }\n",
       "</style>\n",
       "<table border=\"1\" class=\"dataframe\">\n",
       "  <thead>\n",
       "    <tr style=\"text-align: right;\">\n",
       "      <th></th>\n",
       "      <th>0</th>\n",
       "      <th>1</th>\n",
       "    </tr>\n",
       "  </thead>\n",
       "  <tbody>\n",
       "    <tr>\n",
       "      <th>13</th>\n",
       "      <td>1.329347</td>\n",
       "      <td>음식</td>\n",
       "    </tr>\n",
       "    <tr>\n",
       "      <th>11</th>\n",
       "      <td>1.329347</td>\n",
       "      <td>오늘</td>\n",
       "    </tr>\n",
       "    <tr>\n",
       "      <th>3</th>\n",
       "      <td>1.329347</td>\n",
       "      <td>공부</td>\n",
       "    </tr>\n",
       "    <tr>\n",
       "      <th>6</th>\n",
       "      <td>1.329346</td>\n",
       "      <td>시간</td>\n",
       "    </tr>\n",
       "    <tr>\n",
       "      <th>1</th>\n",
       "      <td>0.337142</td>\n",
       "      <td>건강</td>\n",
       "    </tr>\n",
       "    <tr>\n",
       "      <th>7</th>\n",
       "      <td>0.337142</td>\n",
       "      <td>어디</td>\n",
       "    </tr>\n",
       "    <tr>\n",
       "      <th>9</th>\n",
       "      <td>0.337142</td>\n",
       "      <td>여행</td>\n",
       "    </tr>\n",
       "    <tr>\n",
       "      <th>15</th>\n",
       "      <td>0.337142</td>\n",
       "      <td>친구</td>\n",
       "    </tr>\n",
       "    <tr>\n",
       "      <th>10</th>\n",
       "      <td>0.337142</td>\n",
       "      <td>영화</td>\n",
       "    </tr>\n",
       "    <tr>\n",
       "      <th>16</th>\n",
       "      <td>0.337142</td>\n",
       "      <td>편안</td>\n",
       "    </tr>\n",
       "    <tr>\n",
       "      <th>12</th>\n",
       "      <td>0.337142</td>\n",
       "      <td>운동</td>\n",
       "    </tr>\n",
       "    <tr>\n",
       "      <th>4</th>\n",
       "      <td>0.337142</td>\n",
       "      <td>날씨</td>\n",
       "    </tr>\n",
       "    <tr>\n",
       "      <th>2</th>\n",
       "      <td>0.336542</td>\n",
       "      <td>계획</td>\n",
       "    </tr>\n",
       "    <tr>\n",
       "      <th>17</th>\n",
       "      <td>0.336542</td>\n",
       "      <td>흥미</td>\n",
       "    </tr>\n",
       "    <tr>\n",
       "      <th>0</th>\n",
       "      <td>0.336542</td>\n",
       "      <td>가족</td>\n",
       "    </tr>\n",
       "    <tr>\n",
       "      <th>14</th>\n",
       "      <td>0.336542</td>\n",
       "      <td>주말</td>\n",
       "    </tr>\n",
       "    <tr>\n",
       "      <th>8</th>\n",
       "      <td>0.336542</td>\n",
       "      <td>언어</td>\n",
       "    </tr>\n",
       "    <tr>\n",
       "      <th>5</th>\n",
       "      <td>0.336542</td>\n",
       "      <td>마음</td>\n",
       "    </tr>\n",
       "  </tbody>\n",
       "</table>\n",
       "</div>"
      ],
      "text/plain": [
       "           0   1\n",
       "13  1.329347  음식\n",
       "11  1.329347  오늘\n",
       "3   1.329347  공부\n",
       "6   1.329346  시간\n",
       "1   0.337142  건강\n",
       "7   0.337142  어디\n",
       "9   0.337142  여행\n",
       "15  0.337142  친구\n",
       "10  0.337142  영화\n",
       "16  0.337142  편안\n",
       "12  0.337142  운동\n",
       "4   0.337142  날씨\n",
       "2   0.336542  계획\n",
       "17  0.336542  흥미\n",
       "0   0.336542  가족\n",
       "14  0.336542  주말\n",
       "8   0.336542  언어\n",
       "5   0.336542  마음"
      ]
     },
     "execution_count": 37,
     "metadata": {},
     "output_type": "execute_result"
    }
   ],
   "source": [
    "df_topics.sort_values(0, ascending=False)"
   ]
  },
  {
   "cell_type": "markdown",
   "id": "4621ada7-a992-4703-aa5c-273b77ce4746",
   "metadata": {},
   "source": [
    "### 댓글과 주요 토픽 연결"
   ]
  },
  {
   "cell_type": "code",
   "execution_count": null,
   "id": "51e17529-afeb-4868-bf3e-bcf76314e2a0",
   "metadata": {},
   "outputs": [],
   "source": []
  },
  {
   "cell_type": "code",
   "execution_count": 14,
   "id": "1531be4e-7fb8-44a2-85e1-e8da8d9f2391",
   "metadata": {},
   "outputs": [
    {
     "data": {
      "text/plain": [
       "array([[0.16857425, 0.66320011, 0.16822564],\n",
       "       [0.33333333, 0.33333333, 0.33333333],\n",
       "       [0.16857425, 0.66320011, 0.16822564],\n",
       "       [0.66467306, 0.1675818 , 0.16774513],\n",
       "       [0.16857425, 0.66320011, 0.16822564],\n",
       "       [0.16857425, 0.6632001 , 0.16822565],\n",
       "       [0.33333333, 0.33333333, 0.33333333],\n",
       "       [0.66467306, 0.1675818 , 0.16774513],\n",
       "       [0.16857425, 0.66320011, 0.16822565],\n",
       "       [0.16827277, 0.16778152, 0.66394571],\n",
       "       [0.16857425, 0.66320011, 0.16822565],\n",
       "       [0.33333333, 0.33333333, 0.33333333],\n",
       "       [0.16827277, 0.16778152, 0.66394571],\n",
       "       [0.16857425, 0.66320011, 0.16822564],\n",
       "       [0.66467306, 0.1675818 , 0.16774513],\n",
       "       [0.16857425, 0.66320011, 0.16822564],\n",
       "       [0.16827277, 0.16778152, 0.66394571],\n",
       "       [0.33333333, 0.33333333, 0.33333333],\n",
       "       [0.16827277, 0.16778152, 0.66394571],\n",
       "       [0.16827277, 0.16778152, 0.66394571],\n",
       "       [0.16827277, 0.16778152, 0.66394571],\n",
       "       [0.66467305, 0.16758181, 0.16774514]])"
      ]
     },
     "execution_count": 14,
     "metadata": {},
     "output_type": "execute_result"
    }
   ],
   "source": [
    "topics_output = lda_model.transform(features)\n",
    "topics_output"
   ]
  },
  {
   "cell_type": "code",
   "execution_count": null,
   "id": "d689987e-0a10-4264-8e31-38fbbf920d28",
   "metadata": {},
   "outputs": [],
   "source": []
  }
 ],
 "metadata": {
  "kernelspec": {
   "display_name": "Python 3 (ipykernel)",
   "language": "python",
   "name": "python3"
  },
  "language_info": {
   "codemirror_mode": {
    "name": "ipython",
    "version": 3
   },
   "file_extension": ".py",
   "mimetype": "text/x-python",
   "name": "python",
   "nbconvert_exporter": "python",
   "pygments_lexer": "ipython3",
   "version": "3.9.13"
  }
 },
 "nbformat": 4,
 "nbformat_minor": 5
}
