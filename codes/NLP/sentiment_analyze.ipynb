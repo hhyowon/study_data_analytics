{
 "cells": [
  {
   "cell_type": "markdown",
   "id": "db2df2f6-5a1e-41b8-b044-a29e9871e00f",
   "metadata": {},
   "source": [
    "## 감성 사전 의한 감성분석"
   ]
  },
  {
   "cell_type": "code",
   "execution_count": 1,
   "id": "7e215742-6441-48ee-b571-ead608a14514",
   "metadata": {
    "tags": []
   },
   "outputs": [],
   "source": [
    "import pandas as pd"
   ]
  },
  {
   "cell_type": "code",
   "execution_count": 6,
   "id": "f085b80e-8606-4d1b-ad2e-adbc5ca1280e",
   "metadata": {
    "tags": []
   },
   "outputs": [
    {
     "data": {
      "text/html": [
       "<div>\n",
       "<style scoped>\n",
       "    .dataframe tbody tr th:only-of-type {\n",
       "        vertical-align: middle;\n",
       "    }\n",
       "\n",
       "    .dataframe tbody tr th {\n",
       "        vertical-align: top;\n",
       "    }\n",
       "\n",
       "    .dataframe thead th {\n",
       "        text-align: right;\n",
       "    }\n",
       "</style>\n",
       "<table border=\"1\" class=\"dataframe\">\n",
       "  <thead>\n",
       "    <tr style=\"text-align: right;\">\n",
       "      <th></th>\n",
       "      <th>출처</th>\n",
       "    </tr>\n",
       "  </thead>\n",
       "  <tbody>\n",
       "    <tr>\n",
       "      <th>15</th>\n",
       "      <td>(-;</td>\n",
       "    </tr>\n",
       "    <tr>\n",
       "      <th>16</th>\n",
       "      <td>(^^)</td>\n",
       "    </tr>\n",
       "    <tr>\n",
       "      <th>17</th>\n",
       "      <td>(^-^)</td>\n",
       "    </tr>\n",
       "  </tbody>\n",
       "</table>\n",
       "</div>"
      ],
      "text/plain": [
       "       출처\n",
       "15    (-;\n",
       "16   (^^)\n",
       "17  (^-^)"
      ]
     },
     "execution_count": 6,
     "metadata": {},
     "output_type": "execute_result"
    }
   ],
   "source": [
    "df_positives = pd.read_csv('../../datasets/pos_pol_word.txt',delimiter='\\t')\n",
    "df_positives = df_positives[15:] #감성 사전에 필요없는 라인 삭제\n",
    "df_positives[:3]"
   ]
  },
  {
   "cell_type": "code",
   "execution_count": 8,
   "id": "81e88ca4-eb1f-4c28-b66a-ebbca36c3a07",
   "metadata": {
    "tags": []
   },
   "outputs": [
    {
     "data": {
      "text/html": [
       "<div>\n",
       "<style scoped>\n",
       "    .dataframe tbody tr th:only-of-type {\n",
       "        vertical-align: middle;\n",
       "    }\n",
       "\n",
       "    .dataframe tbody tr th {\n",
       "        vertical-align: top;\n",
       "    }\n",
       "\n",
       "    .dataframe thead th {\n",
       "        text-align: right;\n",
       "    }\n",
       "</style>\n",
       "<table border=\"1\" class=\"dataframe\">\n",
       "  <thead>\n",
       "    <tr style=\"text-align: right;\">\n",
       "      <th></th>\n",
       "      <th>출처</th>\n",
       "    </tr>\n",
       "  </thead>\n",
       "  <tbody>\n",
       "    <tr>\n",
       "      <th>15</th>\n",
       "      <td>가난</td>\n",
       "    </tr>\n",
       "    <tr>\n",
       "      <th>16</th>\n",
       "      <td>가난뱅이</td>\n",
       "    </tr>\n",
       "    <tr>\n",
       "      <th>17</th>\n",
       "      <td>가난살이</td>\n",
       "    </tr>\n",
       "  </tbody>\n",
       "</table>\n",
       "</div>"
      ],
      "text/plain": [
       "      출처\n",
       "15    가난\n",
       "16  가난뱅이\n",
       "17  가난살이"
      ]
     },
     "execution_count": 8,
     "metadata": {},
     "output_type": "execute_result"
    }
   ],
   "source": [
    "df_negatives = pd.read_csv('../../datasets/neg_pol_word.txt',delimiter='\\t')\n",
    "df_negatives = df_negatives[15:] #감성 사전에 필요없는 라인 삭제\n",
    "df_negatives[:3]"
   ]
  },
  {
   "cell_type": "markdown",
   "id": "52a95d6d-9735-436c-a8a5-bab11bfcd19d",
   "metadata": {},
   "source": [
    "## 문장에 점수 적용(긍/부정)"
   ]
  },
  {
   "cell_type": "code",
   "execution_count": 9,
   "id": "d036d1d9-ada9-4eb5-841f-2f8c4c7b431b",
   "metadata": {
    "tags": []
   },
   "outputs": [],
   "source": [
    "comment='코로나19의 여파로 전 세계 교사들과 학생들 모두 혼란스러운 시기를 보내고 있습니다. 어려움 속에서도 학생들을 위해 안간힘을 쓰고 있는 모든 선생님들에게, 응원과 박수를 함께 보냅니다.'"
   ]
  },
  {
   "cell_type": "code",
   "execution_count": 15,
   "id": "feda5353-c055-4bce-bd5f-e669d5232b30",
   "metadata": {
    "tags": []
   },
   "outputs": [
    {
     "name": "stdout",
     "output_type": "stream",
     "text": [
      "positive word in comment : 운\n",
      "positive word in comment : 함께\n",
      "negative word in comment : 어려움\n",
      "negative word in comment : 해\n",
      "negative word in comment : 혼란스러운\n"
     ]
    }
   ],
   "source": [
    "# 긍정 단어 포함 확인\n",
    "for positive_word in df_positives['출처'] :\n",
    "    if positive_word in comment:\n",
    "        print('positive word in comment : {0}'.format(positive_word))\n",
    "        \n",
    "# 부정 단어 포함 확인\n",
    "for negative_word in df_negatives['출처'] :\n",
    "    if negative_word in comment:\n",
    "        print('negative word in comment : {0}'.format(negative_word))\n",
    "                "
   ]
  },
  {
   "cell_type": "code",
   "execution_count": null,
   "id": "e201b500-ae57-4695-aae1-f3dd29316fa0",
   "metadata": {},
   "outputs": [],
   "source": []
  }
 ],
 "metadata": {
  "kernelspec": {
   "display_name": "Python 3 (ipykernel)",
   "language": "python",
   "name": "python3"
  },
  "language_info": {
   "codemirror_mode": {
    "name": "ipython",
    "version": 3
   },
   "file_extension": ".py",
   "mimetype": "text/x-python",
   "name": "python",
   "nbconvert_exporter": "python",
   "pygments_lexer": "ipython3",
   "version": "3.11.3"
  }
 },
 "nbformat": 4,
 "nbformat_minor": 5
}
