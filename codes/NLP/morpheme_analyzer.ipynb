{
 "cells": [
  {
   "cell_type": "markdown",
   "id": "98bd6027-ded7-4d0e-b3bb-75f8ad167b29",
   "metadata": {},
   "source": [
    "## 한글 형태소 분석기\n",
    "- refer : https://konlpy-ko.readthedocs.io/ko/v0.6.0/"
   ]
  },
  {
   "cell_type": "code",
   "execution_count": 1,
   "id": "ff116185-b280-4eba-9ca8-ee4bd3254164",
   "metadata": {
    "tags": []
   },
   "outputs": [
    {
     "name": "stdout",
     "output_type": "stream",
     "text": [
      "Requirement already satisfied: konlpy in c:\\users\\04-04\\anaconda3\\lib\\site-packages (0.6.0)\n",
      "Requirement already satisfied: JPype1>=0.7.0 in c:\\users\\04-04\\anaconda3\\lib\\site-packages (from konlpy) (1.4.1)\n",
      "Requirement already satisfied: lxml>=4.1.0 in c:\\users\\04-04\\anaconda3\\lib\\site-packages (from konlpy) (4.9.2)\n",
      "Requirement already satisfied: numpy>=1.6 in c:\\users\\04-04\\anaconda3\\lib\\site-packages (from konlpy) (1.24.3)\n",
      "Requirement already satisfied: packaging in c:\\users\\04-04\\anaconda3\\lib\\site-packages (from JPype1>=0.7.0->konlpy) (23.0)\n",
      "Note: you may need to restart the kernel to use updated packages.\n"
     ]
    }
   ],
   "source": [
    "%pip install konlpy"
   ]
  },
  {
   "cell_type": "code",
   "execution_count": 2,
   "id": "cde5f963-844d-4dbe-97af-03d1b4d9c1d4",
   "metadata": {},
   "outputs": [],
   "source": [
    "from konlpy.tag import Okt"
   ]
  },
  {
   "cell_type": "code",
   "execution_count": 3,
   "id": "d56174a0-2346-45d9-96c0-eb876253cf72",
   "metadata": {},
   "outputs": [],
   "source": [
    "okt = Okt() # 형태소 분석기 선택"
   ]
  },
  {
   "cell_type": "code",
   "execution_count": 4,
   "id": "f6573cc7-9a7e-4b02-b3fe-212139c59619",
   "metadata": {},
   "outputs": [],
   "source": [
    "sentence_list = ['아버지가방에들어가신다'\n",
    "                , '나는 밥을 먹는다.'\n",
    "                , '하늘을 나는 자동차'\n",
    "                , '아이폰 기다리다 지쳐 애플공홈에서 언락폰질러버렸다 6+ 128기가실버ㅋ']"
   ]
  },
  {
   "cell_type": "code",
   "execution_count": 5,
   "id": "6babab83-e3e0-40d0-83c6-ee68bbffa5d6",
   "metadata": {},
   "outputs": [
    {
     "data": {
      "text/plain": [
       "['나', '는', '밥', '을', '먹는다', '.']"
      ]
     },
     "execution_count": 5,
     "metadata": {},
     "output_type": "execute_result"
    }
   ],
   "source": [
    "morphs_list = okt.morphs(sentence_list[1]) # 토큰화\n",
    "morphs_list"
   ]
  },
  {
   "cell_type": "code",
   "execution_count": 6,
   "id": "76898317-182e-4764-a7b0-e32eb93d51a9",
   "metadata": {},
   "outputs": [
    {
     "data": {
      "text/plain": [
       "[('나', 'Noun'),\n",
       " ('는', 'Josa'),\n",
       " ('밥', 'Noun'),\n",
       " ('을', 'Josa'),\n",
       " ('먹는다', 'Verb'),\n",
       " ('.', 'Punctuation')]"
      ]
     },
     "execution_count": 6,
     "metadata": {},
     "output_type": "execute_result"
    }
   ],
   "source": [
    "okt.pos(sentence_list[1]) # 품사 달기"
   ]
  },
  {
   "cell_type": "code",
   "execution_count": 7,
   "id": "df986d39-266a-4963-8072-e6b666e76081",
   "metadata": {},
   "outputs": [
    {
     "data": {
      "text/plain": [
       "['나', '밥']"
      ]
     },
     "execution_count": 7,
     "metadata": {},
     "output_type": "execute_result"
    }
   ],
   "source": [
    "okt.nouns(sentence_list[1]) # 명사만 가져오기"
   ]
  },
  {
   "cell_type": "code",
   "execution_count": 8,
   "id": "9aed9b2f-104e-4422-bb9c-4ddd8ba9d15f",
   "metadata": {
    "tags": []
   },
   "outputs": [
    {
     "data": {
      "text/plain": [
       "['애플공홈', '애플', '공홈']"
      ]
     },
     "execution_count": 8,
     "metadata": {},
     "output_type": "execute_result"
    }
   ],
   "source": [
    "okt.phrases('애플공홈') # 결합 명사 단어별 추출"
   ]
  },
  {
   "cell_type": "markdown",
   "id": "d61eac3a-3f69-4547-9893-ac0b323b5647",
   "metadata": {},
   "source": [
    "### Mecab"
   ]
  },
  {
   "cell_type": "code",
   "execution_count": 9,
   "id": "defab8f7-0aaf-4a17-a019-b3914784586a",
   "metadata": {
    "tags": []
   },
   "outputs": [
    {
     "name": "stdout",
     "output_type": "stream",
     "text": [
      "Requirement already satisfied: python-mecab-ko in c:\\users\\04-04\\anaconda3\\lib\\site-packages (1.3.3)\n",
      "Requirement already satisfied: python-mecab-ko-dic in c:\\users\\04-04\\anaconda3\\lib\\site-packages (from python-mecab-ko) (2.1.1.post2)\n",
      "Note: you may need to restart the kernel to use updated packages.\n"
     ]
    }
   ],
   "source": [
    "%pip install python-mecab-ko"
   ]
  },
  {
   "cell_type": "code",
   "execution_count": 11,
   "id": "fb97f6ca-1672-44ca-8893-59c0fe9fc1e2",
   "metadata": {
    "tags": []
   },
   "outputs": [],
   "source": [
    "from mecab import MeCab"
   ]
  },
  {
   "cell_type": "code",
   "execution_count": 12,
   "id": "452c2b1c-7f67-4643-9cfd-b47c4cd682ea",
   "metadata": {
    "tags": []
   },
   "outputs": [],
   "source": [
    "mecab = MeCab()"
   ]
  },
  {
   "cell_type": "code",
   "execution_count": 13,
   "id": "8b3bee09-5f79-4366-8f3b-5d0d7a6592ef",
   "metadata": {
    "tags": []
   },
   "outputs": [
    {
     "data": {
      "text/plain": [
       "['아버지', '가', '방', '에', '들어가', '신다']"
      ]
     },
     "execution_count": 13,
     "metadata": {},
     "output_type": "execute_result"
    }
   ],
   "source": [
    "mecab.morphs(sentence_list[0])"
   ]
  },
  {
   "cell_type": "code",
   "execution_count": 15,
   "id": "ecc685c2-b765-4108-a3f2-128da530e5f4",
   "metadata": {
    "tags": []
   },
   "outputs": [
    {
     "data": {
      "text/plain": [
       "[('아버지', 'NNG'),\n",
       " ('가', 'JKS'),\n",
       " ('방', 'NNG'),\n",
       " ('에', 'JKB'),\n",
       " ('들어가', 'VV'),\n",
       " ('신다', 'EP+EC')]"
      ]
     },
     "execution_count": 15,
     "metadata": {},
     "output_type": "execute_result"
    }
   ],
   "source": [
    "mecab.pos(sentence_list[0])"
   ]
  },
  {
   "cell_type": "code",
   "execution_count": 16,
   "id": "91ecea88-e880-4fd8-99ab-a01defe6fe39",
   "metadata": {
    "tags": []
   },
   "outputs": [],
   "source": [
    "# mecab.parse(sentence_list[0])"
   ]
  },
  {
   "cell_type": "code",
   "execution_count": 17,
   "id": "17301c61-cc1f-4da8-b359-c4db64ae20a5",
   "metadata": {
    "tags": []
   },
   "outputs": [
    {
     "name": "stdout",
     "output_type": "stream",
     "text": [
      "['아버지', '가', '방', '에', '들어가', '신다']\n",
      "['나', '는', '밥', '을', '먹', '는다', '.']\n",
      "['하늘', '을', '나', '는', '자동차']\n",
      "['아이폰', '기다리', '다', '지쳐', '애플', '공홈', '에서', '언락', '폰', '질러', '버렸', '다', '6', '+', '128', '기', '가', '실버', 'ㅋ']\n"
     ]
    }
   ],
   "source": [
    "for sentence in sentence_list:\n",
    "    morphs_list = mecab.morphs(sentence)\n",
    "    print(morphs_list)"
   ]
  },
  {
   "cell_type": "code",
   "execution_count": null,
   "id": "c319199b-a49d-4ff6-b758-6f13c74c0b91",
   "metadata": {},
   "outputs": [],
   "source": []
  }
 ],
 "metadata": {
  "kernelspec": {
   "display_name": "Python 3 (ipykernel)",
   "language": "python",
   "name": "python3"
  },
  "language_info": {
   "codemirror_mode": {
    "name": "ipython",
    "version": 3
   },
   "file_extension": ".py",
   "mimetype": "text/x-python",
   "name": "python",
   "nbconvert_exporter": "python",
   "pygments_lexer": "ipython3",
   "version": "3.11.3"
  }
 },
 "nbformat": 4,
 "nbformat_minor": 5
}
